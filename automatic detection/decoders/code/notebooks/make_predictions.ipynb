{
 "cells": [
  {
   "cell_type": "markdown",
   "id": "046adcb7-2706-4164-9941-fc81cc31579c",
   "metadata": {},
   "source": [
    "# Make Detections with Model"
   ]
  },
  {
   "cell_type": "code",
   "execution_count": null,
   "id": "eddb8a55-0cdf-4191-8144-e91895e638b0",
   "metadata": {},
   "outputs": [],
   "source": []
  },
  {
   "cell_type": "code",
   "execution_count": 1,
   "id": "1a4490b8-7ac4-4300-93df-fb4c148a489b",
   "metadata": {},
   "outputs": [],
   "source": [
    "import pickle \n",
    "import csv\n",
    "import os\n",
    "import numpy as np\n",
    "import mediapipe as mp # Import mediapipe\n",
    "import cv2 # Import opencv\n"
   ]
  },
  {
   "cell_type": "code",
   "execution_count": 2,
   "id": "0f319889-bee9-41c4-a18b-c753fdf35c76",
   "metadata": {},
   "outputs": [],
   "source": [
    "import pandas as pd\n",
    "from sklearn.model_selection import train_test_split\n",
    "from sklearn.pipeline import make_pipeline \n",
    "from sklearn.preprocessing import StandardScaler \n",
    "\n",
    "from sklearn.linear_model import LogisticRegression, RidgeClassifier\n",
    "from sklearn.ensemble import RandomForestClassifier, GradientBoostingClassifier"
   ]
  },
  {
   "cell_type": "code",
   "execution_count": 4,
   "id": "3e1c0e3e-43c0-464d-97a1-ec966b906801",
   "metadata": {
    "tags": []
   },
   "outputs": [],
   "source": [
    "#initiating the model\n",
    "mp_drawing = mp.solutions.drawing_utils # Drawing helpers\n",
    "mp_drawing_styles = mp.solutions.drawing_styles\n",
    "mp_holistic = mp.solutions.holistic # Mediapipe Solutions\n",
    "mp_pose = mp.solutions.pose\n",
    "\n",
    "cap = cv2.VideoCapture(0)\n",
    "# Initiate holistic model\n",
    "with mp_holistic.Holistic(min_detection_confidence=0.5, min_tracking_confidence=0.5) as holistic:\n",
    "    \n",
    "    while cap.isOpened():\n",
    "        ret, frame = cap.read()\n",
    "        \n",
    "        # Recolor Feed\n",
    "        image = cv2.cvtColor(frame, cv2.COLOR_BGR2RGB)\n",
    "        image.flags.writeable = False        \n",
    "        \n",
    "        # Make Detections\n",
    "        results = holistic.process(image)\n",
    "        \n",
    "        \n",
    "        # Recolor image back to BGR for rendering\n",
    "        image.flags.writeable = True   \n",
    "        image = cv2.cvtColor(image, cv2.COLOR_RGB2BGR)\n",
    "        \n",
    "                                 \n",
    "        \n",
    "        # 2. Right hand\n",
    "        #mp_drawing.draw_landmarks(image, results.right_hand_landmarks, mp_holistic.HAND_CONNECTIONS, \n",
    "         #                        mp_drawing.DrawingSpec(color=(80,22,10), thickness=2, circle_radius=4),\n",
    "          #                       mp_drawing.DrawingSpec(color=(80,44,121), thickness=2, circle_radius=2)\n",
    "           #                      )\n",
    "\n",
    "        # Pose Detections\n",
    "        mp_drawing.draw_landmarks(image, results.pose_landmarks, mp_holistic.POSE_CONNECTIONS, \n",
    "                                 mp_drawing.DrawingSpec(color=(245,117,66), thickness=2, circle_radius=4),\n",
    "                                 mp_drawing.DrawingSpec(color=(245,66,230), thickness=2, circle_radius=2)\n",
    "                                 )\n",
    "                        \n",
    "        cv2.imshow('Raw Webcam Feed', image)\n",
    "\n",
    "        if cv2.waitKey(10) & 0xFF == ord('q'):\n",
    "            break\n",
    "\n",
    "cap.release()\n",
    "cv2.destroyAllWindows()\n"
   ]
  },
  {
   "cell_type": "code",
   "execution_count": 5,
   "id": "b43c4341-7b3d-4033-a9dd-aae31965833d",
   "metadata": {},
   "outputs": [
    {
     "data": {
      "text/plain": [
       "33"
      ]
     },
     "execution_count": 5,
     "metadata": {},
     "output_type": "execute_result"
    }
   ],
   "source": [
    "num_coords = len(results.pose_landmarks.landmark)\n",
    "num_coords"
   ]
  },
  {
   "cell_type": "code",
   "execution_count": 6,
   "id": "83ff26ac-1af1-442d-b39a-e626634a4dfd",
   "metadata": {},
   "outputs": [],
   "source": [
    "with open(r'C:\\Users\\hagar\\OneDrive - mail.tau.ac.il\\Desktop\\Stage\\LPC_2022\\Hand decoder\\Position\\code\\position.pkl', 'rb') as f:\n",
    "    model = pickle.load(f)"
   ]
  },
  {
   "cell_type": "code",
   "execution_count": 7,
   "id": "6ddaddb2-ab8b-4db0-b177-627a3c553f24",
   "metadata": {},
   "outputs": [
    {
     "data": {
      "text/html": [
       "<style>#sk-container-id-1 {color: black;background-color: white;}#sk-container-id-1 pre{padding: 0;}#sk-container-id-1 div.sk-toggleable {background-color: white;}#sk-container-id-1 label.sk-toggleable__label {cursor: pointer;display: block;width: 100%;margin-bottom: 0;padding: 0.3em;box-sizing: border-box;text-align: center;}#sk-container-id-1 label.sk-toggleable__label-arrow:before {content: \"▸\";float: left;margin-right: 0.25em;color: #696969;}#sk-container-id-1 label.sk-toggleable__label-arrow:hover:before {color: black;}#sk-container-id-1 div.sk-estimator:hover label.sk-toggleable__label-arrow:before {color: black;}#sk-container-id-1 div.sk-toggleable__content {max-height: 0;max-width: 0;overflow: hidden;text-align: left;background-color: #f0f8ff;}#sk-container-id-1 div.sk-toggleable__content pre {margin: 0.2em;color: black;border-radius: 0.25em;background-color: #f0f8ff;}#sk-container-id-1 input.sk-toggleable__control:checked~div.sk-toggleable__content {max-height: 200px;max-width: 100%;overflow: auto;}#sk-container-id-1 input.sk-toggleable__control:checked~label.sk-toggleable__label-arrow:before {content: \"▾\";}#sk-container-id-1 div.sk-estimator input.sk-toggleable__control:checked~label.sk-toggleable__label {background-color: #d4ebff;}#sk-container-id-1 div.sk-label input.sk-toggleable__control:checked~label.sk-toggleable__label {background-color: #d4ebff;}#sk-container-id-1 input.sk-hidden--visually {border: 0;clip: rect(1px 1px 1px 1px);clip: rect(1px, 1px, 1px, 1px);height: 1px;margin: -1px;overflow: hidden;padding: 0;position: absolute;width: 1px;}#sk-container-id-1 div.sk-estimator {font-family: monospace;background-color: #f0f8ff;border: 1px dotted black;border-radius: 0.25em;box-sizing: border-box;margin-bottom: 0.5em;}#sk-container-id-1 div.sk-estimator:hover {background-color: #d4ebff;}#sk-container-id-1 div.sk-parallel-item::after {content: \"\";width: 100%;border-bottom: 1px solid gray;flex-grow: 1;}#sk-container-id-1 div.sk-label:hover label.sk-toggleable__label {background-color: #d4ebff;}#sk-container-id-1 div.sk-serial::before {content: \"\";position: absolute;border-left: 1px solid gray;box-sizing: border-box;top: 0;bottom: 0;left: 50%;z-index: 0;}#sk-container-id-1 div.sk-serial {display: flex;flex-direction: column;align-items: center;background-color: white;padding-right: 0.2em;padding-left: 0.2em;position: relative;}#sk-container-id-1 div.sk-item {position: relative;z-index: 1;}#sk-container-id-1 div.sk-parallel {display: flex;align-items: stretch;justify-content: center;background-color: white;position: relative;}#sk-container-id-1 div.sk-item::before, #sk-container-id-1 div.sk-parallel-item::before {content: \"\";position: absolute;border-left: 1px solid gray;box-sizing: border-box;top: 0;bottom: 0;left: 50%;z-index: -1;}#sk-container-id-1 div.sk-parallel-item {display: flex;flex-direction: column;z-index: 1;position: relative;background-color: white;}#sk-container-id-1 div.sk-parallel-item:first-child::after {align-self: flex-end;width: 50%;}#sk-container-id-1 div.sk-parallel-item:last-child::after {align-self: flex-start;width: 50%;}#sk-container-id-1 div.sk-parallel-item:only-child::after {width: 0;}#sk-container-id-1 div.sk-dashed-wrapped {border: 1px dashed gray;margin: 0 0.4em 0.5em 0.4em;box-sizing: border-box;padding-bottom: 0.4em;background-color: white;}#sk-container-id-1 div.sk-label label {font-family: monospace;font-weight: bold;display: inline-block;line-height: 1.2em;}#sk-container-id-1 div.sk-label-container {text-align: center;}#sk-container-id-1 div.sk-container {/* jupyter's `normalize.less` sets `[hidden] { display: none; }` but bootstrap.min.css set `[hidden] { display: none !important; }` so we also need the `!important` here to be able to override the default hidden behavior on the sphinx rendered scikit-learn.org. See: https://github.com/scikit-learn/scikit-learn/issues/21755 */display: inline-block !important;position: relative;}#sk-container-id-1 div.sk-text-repr-fallback {display: none;}</style><div id=\"sk-container-id-1\" class=\"sk-top-container\"><div class=\"sk-text-repr-fallback\"><pre>Pipeline(steps=[(&#x27;standardscaler&#x27;, StandardScaler()),\n",
       "                (&#x27;randomforestclassifier&#x27;, RandomForestClassifier())])</pre><b>In a Jupyter environment, please rerun this cell to show the HTML representation or trust the notebook. <br />On GitHub, the HTML representation is unable to render, please try loading this page with nbviewer.org.</b></div><div class=\"sk-container\" hidden><div class=\"sk-item sk-dashed-wrapped\"><div class=\"sk-label-container\"><div class=\"sk-label sk-toggleable\"><input class=\"sk-toggleable__control sk-hidden--visually\" id=\"sk-estimator-id-1\" type=\"checkbox\" ><label for=\"sk-estimator-id-1\" class=\"sk-toggleable__label sk-toggleable__label-arrow\">Pipeline</label><div class=\"sk-toggleable__content\"><pre>Pipeline(steps=[(&#x27;standardscaler&#x27;, StandardScaler()),\n",
       "                (&#x27;randomforestclassifier&#x27;, RandomForestClassifier())])</pre></div></div></div><div class=\"sk-serial\"><div class=\"sk-item\"><div class=\"sk-estimator sk-toggleable\"><input class=\"sk-toggleable__control sk-hidden--visually\" id=\"sk-estimator-id-2\" type=\"checkbox\" ><label for=\"sk-estimator-id-2\" class=\"sk-toggleable__label sk-toggleable__label-arrow\">StandardScaler</label><div class=\"sk-toggleable__content\"><pre>StandardScaler()</pre></div></div></div><div class=\"sk-item\"><div class=\"sk-estimator sk-toggleable\"><input class=\"sk-toggleable__control sk-hidden--visually\" id=\"sk-estimator-id-3\" type=\"checkbox\" ><label for=\"sk-estimator-id-3\" class=\"sk-toggleable__label sk-toggleable__label-arrow\">RandomForestClassifier</label><div class=\"sk-toggleable__content\"><pre>RandomForestClassifier()</pre></div></div></div></div></div></div></div>"
      ],
      "text/plain": [
       "Pipeline(steps=[('standardscaler', StandardScaler()),\n",
       "                ('randomforestclassifier', RandomForestClassifier())])"
      ]
     },
     "execution_count": 7,
     "metadata": {},
     "output_type": "execute_result"
    }
   ],
   "source": [
    "model"
   ]
  },
  {
   "cell_type": "code",
   "execution_count": 8,
   "id": "902d3736-f286-40aa-a8d1-93c57ed12cbc",
   "metadata": {},
   "outputs": [],
   "source": [
    "landmarks = ['predicted_class','probablitiy_of_pred']\n",
    "for val in range(1, num_coords+1):\n",
    "    landmarks += ['x{}'.format(val), 'y{}'.format(val), 'z{}'.format(val), 'v{}'.format(val)]"
   ]
  },
  {
   "cell_type": "code",
   "execution_count": 12,
   "id": "0c1e95e6-9c2f-49df-b953-cb717d083434",
   "metadata": {},
   "outputs": [],
   "source": [
    "fn = 'word_h0_01' #name of the video we want to know its positions"
   ]
  },
  {
   "cell_type": "code",
   "execution_count": 13,
   "id": "7d775d79-c56d-41fa-844c-f0e99a8e219e",
   "metadata": {},
   "outputs": [],
   "source": [
    "file_path = f'C:/Users/hagar/OneDrive - mail.tau.ac.il/Desktop/Stage/LPC_2022/Hand decoder/Position/results/predicted_csv/{fn}_pose_estimation_by_frames.csv'\n",
    "\n",
    "with open(file_path,mode='w', newline='') as f: \n",
    "    csv_writer = csv.writer(f, delimiter=',', quotechar='\"', quoting=csv.QUOTE_MINIMAL)\n",
    "    csv_writer.writerow(landmarks)"
   ]
  },
  {
   "cell_type": "code",
   "execution_count": 14,
   "id": "614d7cdf-320d-4fef-b78f-af104cc3cfd6",
   "metadata": {
    "tags": []
   },
   "outputs": [
    {
     "name": "stdout",
     "output_type": "stream",
     "text": [
      "0.63\n",
      "0.64\n",
      "0.65\n",
      "0.69\n",
      "0.7\n",
      "0.46\n",
      "0.47\n",
      "0.49\n",
      "0.59\n",
      "0.62\n",
      "0.65\n",
      "0.63\n",
      "0.63\n",
      "0.59\n",
      "0.61\n",
      "0.62\n",
      "0.62\n",
      "0.65\n",
      "0.65\n",
      "0.64\n",
      "0.65\n",
      "0.67\n",
      "0.67\n",
      "0.65\n",
      "0.6\n",
      "0.44\n",
      "0.45\n",
      "0.54\n",
      "0.68\n",
      "0.7\n",
      "0.65\n",
      "0.72\n",
      "0.73\n",
      "0.75\n",
      "0.76\n",
      "0.76\n",
      "0.77\n",
      "0.79\n",
      "0.79\n",
      "0.78\n",
      "0.78\n",
      "0.8\n",
      "0.85\n",
      "0.85\n",
      "0.83\n",
      "0.83\n",
      "0.85\n",
      "0.86\n",
      "0.87\n",
      "0.87\n",
      "0.87\n",
      "0.87\n",
      "0.87\n",
      "0.87\n",
      "0.88\n",
      "0.88\n",
      "0.85\n",
      "0.85\n",
      "0.85\n",
      "0.85\n",
      "0.73\n",
      "0.72\n",
      "0.71\n",
      "0.69\n",
      "0.64\n",
      "0.63\n",
      "0.61\n",
      "0.61\n",
      "0.6\n",
      "0.6\n",
      "0.56\n",
      "0.56\n",
      "0.59\n",
      "0.63\n",
      "0.62\n",
      "0.62\n",
      "0.62\n",
      "0.64\n",
      "0.64\n",
      "The video was successfully saved\n"
     ]
    }
   ],
   "source": [
    "cap = cv2.VideoCapture(f\"C:/Users/hagar/OneDrive - mail.tau.ac.il/Desktop/Stage/LPC_2022/Hand decoder/Position/data/test_videos/{fn}.mp4\")\n",
    "frame_width = int(cap.get(3))\n",
    "frame_height = int(cap.get(4))\n",
    "\n",
    "size = (frame_width, frame_height)\n",
    "\n",
    "\n",
    "marked_video = cv2.VideoWriter(f'C:/Users/hagar/OneDrive - mail.tau.ac.il/Desktop/Stage/LPC_2022/Hand decoder/Position/results/marked_videos/{fn}_marked.avi',cv2.VideoWriter_fourcc(*'MJPG'),30, size)\n",
    "\n",
    "fps = cap.get(cv2.CAP_PROP_FPS) \n",
    "\n",
    "with mp_holistic.Holistic(min_detection_confidence=0.5, min_tracking_confidence=0.5) as holistic:\n",
    "    \n",
    "    n=0\n",
    "    while cap.isOpened():\n",
    "        n = n+1\n",
    "        ret, frame = cap.read()\n",
    "        if not ret:\n",
    "            break\n",
    "        # Recolor Feed\n",
    "        image = cv2.cvtColor(frame, cv2.COLOR_BGR2RGB)\n",
    "        results = holistic.process(image)\n",
    "        \n",
    "        \n",
    "        # Recolor image back to BGR for rendering\n",
    "        image.flags.writeable = True   \n",
    "        image = cv2.cvtColor(image, cv2.COLOR_RGB2BGR)\n",
    "        \n",
    "       \n",
    "        # Pose Detections\n",
    "        mp_drawing.draw_landmarks(image, results.pose_landmarks, mp_holistic.POSE_CONNECTIONS, \n",
    "                                 mp_drawing.DrawingSpec(color=(245,117,66), thickness=2, circle_radius=4),\n",
    "                                 mp_drawing.DrawingSpec(color=(245,66,230), thickness=2, circle_radius=2)\n",
    "                                 )\n",
    "                        \n",
    "\n",
    "        # Export coordinates\n",
    "        try:\n",
    "            # Extract Pose landmarks\n",
    "            pose = results.pose_landmarks.landmark\n",
    "            pose_row = list(np.array([[landmark.x, landmark.y, landmark.z, landmark.visibility] for landmark in pose]).flatten())\n",
    "            row = pose_row\n",
    "            \n",
    "            # Name colls\n",
    "            num_coords = len(results.pose_landmarks.landmark)\n",
    "            col_name = []\n",
    "            for val in range(1, num_coords+1):\n",
    "                col_name += ['x{}'.format(val), 'y{}'.format(val), 'z{}'.format(val),'v{}'.format(val)] \n",
    "\n",
    "\n",
    "            # Make Detections \n",
    "            X = pd.DataFrame([row], columns = col_name)\n",
    "            \n",
    "            predicted_position = model.predict(X)[0] # [0] because predict returns 2 arg and we want only the first one\n",
    "            position_prob = model.predict_proba(X)[0]\n",
    "            prob_to_display = str(round(position_prob[np.argmax(position_prob)],2))\n",
    "            print(prob_to_display)\n",
    "            # Append prediction class and probability \n",
    "            row.insert(0, predicted_position)\n",
    "            row.insert(1, position_prob)\n",
    "\n",
    "            \n",
    "            # Write prediction to a CSV\n",
    "            with open(file_path, mode='a', newline='') as f:\n",
    "                csv_writer = csv.writer(f, delimiter=',', quotechar='\"', quoting=csv.QUOTE_MINIMAL)\n",
    "                csv_writer.writerow(row)\n",
    "            \n",
    "                \n",
    "            # Write prediction on the video\n",
    "            font = cv2.FONT_HERSHEY_SIMPLEX\n",
    "            \n",
    "            # Get status box on the top left corner\n",
    "            cv2.rectangle(image, (0,0), (250, 60), (245, 117, 16), -1)\n",
    "            \n",
    "            # Display Class\n",
    "            cv2.putText(image, 'Predicted Position'\n",
    "                         , (95,12), font, 0.5, (0, 0, 0), 1, cv2.LINE_AA)\n",
    "            cv2.putText(image, str(predicted_position)\n",
    "                         , (90,40), font, 1, (255, 255, 255), 2, cv2.LINE_AA)\n",
    "                    \n",
    "            \n",
    "            # Display Probability\n",
    "            cv2.putText(image, 'PROB'\n",
    "                        , (15,12), font, 0.5, (0, 0, 0), 1, cv2.LINE_AA)\n",
    "\n",
    "            \n",
    "            cv2.putText(image, prob_to_display\n",
    "                        , (10,40), font, 1, (255, 255, 255), 2, cv2.LINE_AA)\n",
    "            \n",
    "            \n",
    "            \n",
    "        except Exception as e:\n",
    "                print(e)\n",
    "                pass\n",
    "            \n",
    "\n",
    "\n",
    "        cv2.imshow('cued_estimated', image)\n",
    "        marked_video.write(image)\n",
    "\n",
    "\n",
    "        if cv2.waitKey(10) & 0xFF == ord('q'):\n",
    "            break\n",
    "\n",
    "\n",
    "marked_video.release()\n",
    "cap.release()\n",
    "cv2.destroyAllWindows()\n",
    "print(\"The video was successfully saved\")"
   ]
  }
 ],
 "metadata": {
  "kernelspec": {
   "display_name": "Python 3 (ipykernel)",
   "language": "python",
   "name": "python3"
  },
  "language_info": {
   "codemirror_mode": {
    "name": "ipython",
    "version": 3
   },
   "file_extension": ".py",
   "mimetype": "text/x-python",
   "name": "python",
   "nbconvert_exporter": "python",
   "pygments_lexer": "ipython3",
   "version": "3.9.7"
  }
 },
 "nbformat": 4,
 "nbformat_minor": 5
}
