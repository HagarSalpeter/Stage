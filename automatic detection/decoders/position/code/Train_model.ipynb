{
 "cells": [
  {
   "cell_type": "markdown",
   "id": "4535dd97-be3b-42bc-a33e-81abc34bfafe",
   "metadata": {},
   "source": [
    "# Train Custom Model Using Scikit Learn"
   ]
  },
  {
   "cell_type": "markdown",
   "id": "2af00f7a-a4d3-4031-892d-3ed8125662c7",
   "metadata": {},
   "source": [
    "## 1 Read in Collected Data and Process"
   ]
  },
  {
   "cell_type": "code",
   "execution_count": 41,
   "id": "11401efe-7b54-401b-8839-73ba5be27931",
   "metadata": {},
   "outputs": [],
   "source": [
    "import pandas as pd\n",
    "from sklearn.model_selection import train_test_split"
   ]
  },
  {
   "cell_type": "code",
   "execution_count": 42,
   "id": "d7d7c482-beb9-4be5-8b22-2c1dd73b5c9d",
   "metadata": {},
   "outputs": [],
   "source": [
    "df = pd.read_csv(r\"C:\\Users\\hagar\\OneDrive - mail.tau.ac.il\\Desktop\\Stage\\LPC_2022\\Hand decoder\\Position\\data\\coords_position_automatic.csv\")"
   ]
  },
  {
   "cell_type": "code",
   "execution_count": 43,
   "id": "03a6cbdb-ae46-4e1c-bfc0-71de6d348501",
   "metadata": {},
   "outputs": [
    {
     "data": {
      "text/html": [
       "<div>\n",
       "<style scoped>\n",
       "    .dataframe tbody tr th:only-of-type {\n",
       "        vertical-align: middle;\n",
       "    }\n",
       "\n",
       "    .dataframe tbody tr th {\n",
       "        vertical-align: top;\n",
       "    }\n",
       "\n",
       "    .dataframe thead th {\n",
       "        text-align: right;\n",
       "    }\n",
       "</style>\n",
       "<table border=\"1\" class=\"dataframe\">\n",
       "  <thead>\n",
       "    <tr style=\"text-align: right;\">\n",
       "      <th></th>\n",
       "      <th>class</th>\n",
       "      <th>d_x</th>\n",
       "      <th>d_y</th>\n",
       "      <th>d_z</th>\n",
       "    </tr>\n",
       "  </thead>\n",
       "  <tbody>\n",
       "    <tr>\n",
       "      <th>0</th>\n",
       "      <td>0</td>\n",
       "      <td>0.076945</td>\n",
       "      <td>-0.254911</td>\n",
       "      <td>0.483969</td>\n",
       "    </tr>\n",
       "    <tr>\n",
       "      <th>1</th>\n",
       "      <td>0</td>\n",
       "      <td>0.077011</td>\n",
       "      <td>-0.254582</td>\n",
       "      <td>0.466995</td>\n",
       "    </tr>\n",
       "    <tr>\n",
       "      <th>2</th>\n",
       "      <td>0</td>\n",
       "      <td>0.078072</td>\n",
       "      <td>-0.246687</td>\n",
       "      <td>0.442041</td>\n",
       "    </tr>\n",
       "    <tr>\n",
       "      <th>3</th>\n",
       "      <td>0</td>\n",
       "      <td>0.078010</td>\n",
       "      <td>-0.245539</td>\n",
       "      <td>0.410314</td>\n",
       "    </tr>\n",
       "    <tr>\n",
       "      <th>4</th>\n",
       "      <td>0</td>\n",
       "      <td>0.078374</td>\n",
       "      <td>-0.244910</td>\n",
       "      <td>0.383155</td>\n",
       "    </tr>\n",
       "    <tr>\n",
       "      <th>...</th>\n",
       "      <td>...</td>\n",
       "      <td>...</td>\n",
       "      <td>...</td>\n",
       "      <td>...</td>\n",
       "    </tr>\n",
       "    <tr>\n",
       "      <th>8496</th>\n",
       "      <td>4</td>\n",
       "      <td>0.074933</td>\n",
       "      <td>-0.306161</td>\n",
       "      <td>0.331149</td>\n",
       "    </tr>\n",
       "    <tr>\n",
       "      <th>8497</th>\n",
       "      <td>4</td>\n",
       "      <td>0.075176</td>\n",
       "      <td>-0.307166</td>\n",
       "      <td>0.310239</td>\n",
       "    </tr>\n",
       "    <tr>\n",
       "      <th>8498</th>\n",
       "      <td>4</td>\n",
       "      <td>0.075323</td>\n",
       "      <td>-0.307534</td>\n",
       "      <td>0.320078</td>\n",
       "    </tr>\n",
       "    <tr>\n",
       "      <th>8499</th>\n",
       "      <td>4</td>\n",
       "      <td>0.075438</td>\n",
       "      <td>-0.308516</td>\n",
       "      <td>0.322512</td>\n",
       "    </tr>\n",
       "    <tr>\n",
       "      <th>8500</th>\n",
       "      <td>4</td>\n",
       "      <td>0.075553</td>\n",
       "      <td>-0.308988</td>\n",
       "      <td>0.311844</td>\n",
       "    </tr>\n",
       "  </tbody>\n",
       "</table>\n",
       "<p>8501 rows × 4 columns</p>\n",
       "</div>"
      ],
      "text/plain": [
       "      class       d_x       d_y       d_z\n",
       "0         0  0.076945 -0.254911  0.483969\n",
       "1         0  0.077011 -0.254582  0.466995\n",
       "2         0  0.078072 -0.246687  0.442041\n",
       "3         0  0.078010 -0.245539  0.410314\n",
       "4         0  0.078374 -0.244910  0.383155\n",
       "...     ...       ...       ...       ...\n",
       "8496      4  0.074933 -0.306161  0.331149\n",
       "8497      4  0.075176 -0.307166  0.310239\n",
       "8498      4  0.075323 -0.307534  0.320078\n",
       "8499      4  0.075438 -0.308516  0.322512\n",
       "8500      4  0.075553 -0.308988  0.311844\n",
       "\n",
       "[8501 rows x 4 columns]"
      ]
     },
     "execution_count": 43,
     "metadata": {},
     "output_type": "execute_result"
    }
   ],
   "source": [
    "df['d_x'] = df['x1'] - df['x17']\n",
    "df['d_y'] = df['y1'] - df['y17']\n",
    "df['d_z'] = df['z1'] - df['z17']\n",
    "\n",
    "df_distance = df.filter(['class','d_x','d_y','d_z'], axis=1)\n",
    "df_distance"
   ]
  },
  {
   "cell_type": "code",
   "execution_count": 3,
   "id": "a558cb0b-82a2-438c-9dc1-f2742ac9edb6",
   "metadata": {
    "collapsed": true,
    "jupyter": {
     "outputs_hidden": true,
     "source_hidden": true
    },
    "tags": []
   },
   "outputs": [
    {
     "data": {
      "text/html": [
       "<div>\n",
       "<style scoped>\n",
       "    .dataframe tbody tr th:only-of-type {\n",
       "        vertical-align: middle;\n",
       "    }\n",
       "\n",
       "    .dataframe tbody tr th {\n",
       "        vertical-align: top;\n",
       "    }\n",
       "\n",
       "    .dataframe thead th {\n",
       "        text-align: right;\n",
       "    }\n",
       "</style>\n",
       "<table border=\"1\" class=\"dataframe\">\n",
       "  <thead>\n",
       "    <tr style=\"text-align: right;\">\n",
       "      <th></th>\n",
       "      <th>class</th>\n",
       "      <th>x1</th>\n",
       "      <th>y1</th>\n",
       "      <th>z1</th>\n",
       "      <th>v1</th>\n",
       "      <th>x2</th>\n",
       "      <th>y2</th>\n",
       "      <th>z2</th>\n",
       "      <th>v2</th>\n",
       "      <th>x3</th>\n",
       "      <th>...</th>\n",
       "      <th>z31</th>\n",
       "      <th>v31</th>\n",
       "      <th>x32</th>\n",
       "      <th>y32</th>\n",
       "      <th>z32</th>\n",
       "      <th>v32</th>\n",
       "      <th>x33</th>\n",
       "      <th>y33</th>\n",
       "      <th>z33</th>\n",
       "      <th>v33</th>\n",
       "    </tr>\n",
       "  </thead>\n",
       "  <tbody>\n",
       "    <tr>\n",
       "      <th>0</th>\n",
       "      <td>0</td>\n",
       "      <td>0.479635</td>\n",
       "      <td>0.520285</td>\n",
       "      <td>-0.443096</td>\n",
       "      <td>0.999986</td>\n",
       "      <td>0.493242</td>\n",
       "      <td>0.491135</td>\n",
       "      <td>-0.414232</td>\n",
       "      <td>0.999964</td>\n",
       "      <td>0.500506</td>\n",
       "      <td>...</td>\n",
       "      <td>0.470980</td>\n",
       "      <td>0.000010</td>\n",
       "      <td>0.530140</td>\n",
       "      <td>1.980473</td>\n",
       "      <td>-0.008393</td>\n",
       "      <td>0.000025</td>\n",
       "      <td>0.447276</td>\n",
       "      <td>1.983681</td>\n",
       "      <td>0.163186</td>\n",
       "      <td>0.000040</td>\n",
       "    </tr>\n",
       "    <tr>\n",
       "      <th>1</th>\n",
       "      <td>0</td>\n",
       "      <td>0.480094</td>\n",
       "      <td>0.520171</td>\n",
       "      <td>-0.484116</td>\n",
       "      <td>0.999972</td>\n",
       "      <td>0.493659</td>\n",
       "      <td>0.490495</td>\n",
       "      <td>-0.448987</td>\n",
       "      <td>0.999933</td>\n",
       "      <td>0.501458</td>\n",
       "      <td>...</td>\n",
       "      <td>0.136555</td>\n",
       "      <td>0.000018</td>\n",
       "      <td>0.530131</td>\n",
       "      <td>1.996417</td>\n",
       "      <td>-0.045417</td>\n",
       "      <td>0.000044</td>\n",
       "      <td>0.445889</td>\n",
       "      <td>2.003625</td>\n",
       "      <td>-0.172140</td>\n",
       "      <td>0.000058</td>\n",
       "    </tr>\n",
       "    <tr>\n",
       "      <th>2</th>\n",
       "      <td>0</td>\n",
       "      <td>0.481186</td>\n",
       "      <td>0.520148</td>\n",
       "      <td>-0.506814</td>\n",
       "      <td>0.999960</td>\n",
       "      <td>0.494331</td>\n",
       "      <td>0.490121</td>\n",
       "      <td>-0.469188</td>\n",
       "      <td>0.999909</td>\n",
       "      <td>0.502280</td>\n",
       "      <td>...</td>\n",
       "      <td>0.130876</td>\n",
       "      <td>0.000031</td>\n",
       "      <td>0.532269</td>\n",
       "      <td>1.995225</td>\n",
       "      <td>-0.042667</td>\n",
       "      <td>0.000086</td>\n",
       "      <td>0.446423</td>\n",
       "      <td>2.001730</td>\n",
       "      <td>-0.161329</td>\n",
       "      <td>0.000106</td>\n",
       "    </tr>\n",
       "    <tr>\n",
       "      <th>3</th>\n",
       "      <td>0</td>\n",
       "      <td>0.481320</td>\n",
       "      <td>0.520231</td>\n",
       "      <td>-0.522004</td>\n",
       "      <td>0.999950</td>\n",
       "      <td>0.494372</td>\n",
       "      <td>0.490017</td>\n",
       "      <td>-0.487148</td>\n",
       "      <td>0.999888</td>\n",
       "      <td>0.502411</td>\n",
       "      <td>...</td>\n",
       "      <td>0.130204</td>\n",
       "      <td>0.000039</td>\n",
       "      <td>0.532246</td>\n",
       "      <td>1.995441</td>\n",
       "      <td>-0.046167</td>\n",
       "      <td>0.000111</td>\n",
       "      <td>0.444958</td>\n",
       "      <td>2.001297</td>\n",
       "      <td>-0.163311</td>\n",
       "      <td>0.000132</td>\n",
       "    </tr>\n",
       "    <tr>\n",
       "      <th>4</th>\n",
       "      <td>0</td>\n",
       "      <td>0.481643</td>\n",
       "      <td>0.520238</td>\n",
       "      <td>-0.549485</td>\n",
       "      <td>0.999938</td>\n",
       "      <td>0.494514</td>\n",
       "      <td>0.489836</td>\n",
       "      <td>-0.514656</td>\n",
       "      <td>0.999862</td>\n",
       "      <td>0.502614</td>\n",
       "      <td>...</td>\n",
       "      <td>0.110434</td>\n",
       "      <td>0.000063</td>\n",
       "      <td>0.530908</td>\n",
       "      <td>1.990157</td>\n",
       "      <td>-0.046453</td>\n",
       "      <td>0.000184</td>\n",
       "      <td>0.439531</td>\n",
       "      <td>1.995314</td>\n",
       "      <td>-0.174502</td>\n",
       "      <td>0.000232</td>\n",
       "    </tr>\n",
       "  </tbody>\n",
       "</table>\n",
       "<p>5 rows × 133 columns</p>\n",
       "</div>"
      ],
      "text/plain": [
       "   class        x1        y1        z1        v1        x2        y2  \\\n",
       "0      0  0.479635  0.520285 -0.443096  0.999986  0.493242  0.491135   \n",
       "1      0  0.480094  0.520171 -0.484116  0.999972  0.493659  0.490495   \n",
       "2      0  0.481186  0.520148 -0.506814  0.999960  0.494331  0.490121   \n",
       "3      0  0.481320  0.520231 -0.522004  0.999950  0.494372  0.490017   \n",
       "4      0  0.481643  0.520238 -0.549485  0.999938  0.494514  0.489836   \n",
       "\n",
       "         z2        v2        x3  ...       z31       v31       x32       y32  \\\n",
       "0 -0.414232  0.999964  0.500506  ...  0.470980  0.000010  0.530140  1.980473   \n",
       "1 -0.448987  0.999933  0.501458  ...  0.136555  0.000018  0.530131  1.996417   \n",
       "2 -0.469188  0.999909  0.502280  ...  0.130876  0.000031  0.532269  1.995225   \n",
       "3 -0.487148  0.999888  0.502411  ...  0.130204  0.000039  0.532246  1.995441   \n",
       "4 -0.514656  0.999862  0.502614  ...  0.110434  0.000063  0.530908  1.990157   \n",
       "\n",
       "        z32       v32       x33       y33       z33       v33  \n",
       "0 -0.008393  0.000025  0.447276  1.983681  0.163186  0.000040  \n",
       "1 -0.045417  0.000044  0.445889  2.003625 -0.172140  0.000058  \n",
       "2 -0.042667  0.000086  0.446423  2.001730 -0.161329  0.000106  \n",
       "3 -0.046167  0.000111  0.444958  2.001297 -0.163311  0.000132  \n",
       "4 -0.046453  0.000184  0.439531  1.995314 -0.174502  0.000232  \n",
       "\n",
       "[5 rows x 133 columns]"
      ]
     },
     "execution_count": 3,
     "metadata": {},
     "output_type": "execute_result"
    }
   ],
   "source": [
    "df.head()"
   ]
  },
  {
   "cell_type": "code",
   "execution_count": 44,
   "id": "38b4cae0-74c1-4877-945b-77a06c6fc451",
   "metadata": {},
   "outputs": [],
   "source": [
    "# separate features fro target\n",
    "X = df_distance.drop('class', axis=1) # features\n",
    "y = df_distance['class'] # target value"
   ]
  },
  {
   "cell_type": "code",
   "execution_count": 45,
   "id": "003e6f54-6df9-426e-87a0-17ffa896b494",
   "metadata": {},
   "outputs": [],
   "source": [
    "# split train and test data\n",
    "X_train, X_test, y_train, y_test = train_test_split(X, y, test_size=0.3, random_state=42)"
   ]
  },
  {
   "cell_type": "markdown",
   "id": "9aaaad28-75ca-4c73-92cf-6b0db8977f3a",
   "metadata": {},
   "source": [
    "## 2 Train Machine Learning Classification Model"
   ]
  },
  {
   "cell_type": "code",
   "execution_count": 46,
   "id": "d85e194f-6f91-40f4-9372-f10775ebdb8e",
   "metadata": {},
   "outputs": [],
   "source": [
    "from sklearn.pipeline import make_pipeline \n",
    "from sklearn.preprocessing import StandardScaler \n",
    "\n",
    "from sklearn.linear_model import LogisticRegression, RidgeClassifier\n",
    "from sklearn.ensemble import RandomForestClassifier, GradientBoostingClassifier"
   ]
  },
  {
   "cell_type": "code",
   "execution_count": 47,
   "id": "932ce6bb-08c5-45a9-b56f-6f5cc2571239",
   "metadata": {},
   "outputs": [],
   "source": [
    "pipelines = {\n",
    "    'lr':make_pipeline(StandardScaler(), LogisticRegression()),\n",
    "    'rc':make_pipeline(StandardScaler(), RidgeClassifier()),\n",
    "    'rf':make_pipeline(StandardScaler(), RandomForestClassifier()),\n",
    "    'gb':make_pipeline(StandardScaler(), GradientBoostingClassifier()),\n",
    "}"
   ]
  },
  {
   "cell_type": "code",
   "execution_count": 48,
   "id": "a5712693-f189-4b6e-90b4-019e7c794457",
   "metadata": {},
   "outputs": [],
   "source": [
    "fit_models = {}\n",
    "for algo, pipeline in pipelines.items():\n",
    "    model = pipeline.fit(X_train, y_train)\n",
    "    fit_models[algo] = model"
   ]
  },
  {
   "cell_type": "code",
   "execution_count": 49,
   "id": "8e9608f0-2cb3-4f94-85ca-d3364f8b8701",
   "metadata": {},
   "outputs": [
    {
     "data": {
      "text/plain": [
       "{'lr': Pipeline(steps=[('standardscaler', StandardScaler()),\n",
       "                 ('logisticregression', LogisticRegression())]),\n",
       " 'rc': Pipeline(steps=[('standardscaler', StandardScaler()),\n",
       "                 ('ridgeclassifier', RidgeClassifier())]),\n",
       " 'rf': Pipeline(steps=[('standardscaler', StandardScaler()),\n",
       "                 ('randomforestclassifier', RandomForestClassifier())]),\n",
       " 'gb': Pipeline(steps=[('standardscaler', StandardScaler()),\n",
       "                 ('gradientboostingclassifier', GradientBoostingClassifier())])}"
      ]
     },
     "execution_count": 49,
     "metadata": {},
     "output_type": "execute_result"
    }
   ],
   "source": [
    "fit_models"
   ]
  },
  {
   "cell_type": "code",
   "execution_count": 50,
   "id": "9b0b7f56-088a-4a1b-b4f4-1a62d174193a",
   "metadata": {},
   "outputs": [
    {
     "data": {
      "text/plain": [
       "array([3, 4, 4, ..., 4, 3, 3], dtype=int64)"
      ]
     },
     "execution_count": 50,
     "metadata": {},
     "output_type": "execute_result"
    }
   ],
   "source": [
    "fit_models['rc'].predict(X_test)"
   ]
  },
  {
   "cell_type": "markdown",
   "id": "e485e5ec-c7e3-4cb4-bc1a-9825bc47f289",
   "metadata": {},
   "source": [
    "## 3 Evaluate and Serialize Model "
   ]
  },
  {
   "cell_type": "code",
   "execution_count": 51,
   "id": "4a8eb1dc-d012-4c87-a6ef-f2bf1c6cc9ed",
   "metadata": {},
   "outputs": [],
   "source": [
    "from sklearn.metrics import accuracy_score # Accuracy metrics \n",
    "import pickle "
   ]
  },
  {
   "cell_type": "code",
   "execution_count": 52,
   "id": "3b915976-5a68-4cd0-857d-1a834e79b7ee",
   "metadata": {},
   "outputs": [
    {
     "name": "stdout",
     "output_type": "stream",
     "text": [
      "lr 0.9905919247353979\n",
      "rc 0.7424539396315171\n",
      "rf 0.9992159937279498\n",
      "gb 0.9980399843198745\n"
     ]
    }
   ],
   "source": [
    "for algo, model in fit_models.items():\n",
    "    yhat = model.predict(X_test)\n",
    "    print(algo, accuracy_score(y_test, yhat))"
   ]
  },
  {
   "cell_type": "code",
   "execution_count": 53,
   "id": "f6977151-d9e7-4978-a2b7-de59fb28c386",
   "metadata": {},
   "outputs": [],
   "source": [
    "#put a specific model (rc/lr/rf/gb) in a pickle file for future use \n",
    "with open(r'C:\\Users\\hagar\\OneDrive - mail.tau.ac.il\\Desktop\\Stage\\LPC_2022\\Hand decoder\\Position\\code\\distance_position.pkl', 'wb') as f:\n",
    "    pickle.dump(fit_models['rf'], f) # for some reason this is not writing the model to the file"
   ]
  }
 ],
 "metadata": {
  "kernelspec": {
   "display_name": "Python 3 (ipykernel)",
   "language": "python",
   "name": "python3"
  },
  "language_info": {
   "codemirror_mode": {
    "name": "ipython",
    "version": 3
   },
   "file_extension": ".py",
   "mimetype": "text/x-python",
   "name": "python",
   "nbconvert_exporter": "python",
   "pygments_lexer": "ipython3",
   "version": "3.10.4"
  }
 },
 "nbformat": 4,
 "nbformat_minor": 5
}
