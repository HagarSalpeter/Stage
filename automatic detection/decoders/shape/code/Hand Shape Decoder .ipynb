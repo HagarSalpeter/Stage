{
 "cells": [
  {
   "cell_type": "markdown",
   "metadata": {},
   "source": [
    "# 0. Install and Import Dependencies"
   ]
  },
  {
   "cell_type": "code",
   "execution_count": 25,
   "metadata": {
    "tags": []
   },
   "outputs": [
    {
     "name": "stdout",
     "output_type": "stream",
     "text": [
      "Requirement already satisfied: mediapipe in c:\\users\\hagar\\anaconda3\\envs\\jupyterlab-debugger\\lib\\site-packages (0.8.10)\n",
      "Requirement already satisfied: opencv-python in c:\\users\\hagar\\anaconda3\\envs\\jupyterlab-debugger\\lib\\site-packages (4.5.5.64)\n",
      "Requirement already satisfied: pandas in c:\\users\\hagar\\anaconda3\\envs\\jupyterlab-debugger\\lib\\site-packages (1.4.2)\n",
      "Requirement already satisfied: scikit-learn in c:\\users\\hagar\\anaconda3\\envs\\jupyterlab-debugger\\lib\\site-packages (1.1.0)\n",
      "Requirement already satisfied: matplotlib in c:\\users\\hagar\\anaconda3\\envs\\jupyterlab-debugger\\lib\\site-packages (from mediapipe) (3.5.2)\n",
      "Requirement already satisfied: numpy in c:\\users\\hagar\\anaconda3\\envs\\jupyterlab-debugger\\lib\\site-packages (from mediapipe) (1.22.3)\n",
      "Requirement already satisfied: protobuf>=3.11.4 in c:\\users\\hagar\\anaconda3\\envs\\jupyterlab-debugger\\lib\\site-packages (from mediapipe) (3.20.1)\n",
      "Requirement already satisfied: absl-py in c:\\users\\hagar\\anaconda3\\envs\\jupyterlab-debugger\\lib\\site-packages (from mediapipe) (1.0.0)\n",
      "Requirement already satisfied: opencv-contrib-python in c:\\users\\hagar\\anaconda3\\envs\\jupyterlab-debugger\\lib\\site-packages (from mediapipe) (4.5.5.64)\n",
      "Requirement already satisfied: attrs>=19.1.0 in c:\\users\\hagar\\anaconda3\\envs\\jupyterlab-debugger\\lib\\site-packages (from mediapipe) (21.4.0)\n",
      "Requirement already satisfied: python-dateutil>=2.8.1 in c:\\users\\hagar\\anaconda3\\envs\\jupyterlab-debugger\\lib\\site-packages (from pandas) (2.8.2)\n",
      "Requirement already satisfied: pytz>=2020.1 in c:\\users\\hagar\\anaconda3\\envs\\jupyterlab-debugger\\lib\\site-packages (from pandas) (2022.1)\n",
      "Requirement already satisfied: threadpoolctl>=2.0.0 in c:\\users\\hagar\\anaconda3\\envs\\jupyterlab-debugger\\lib\\site-packages (from scikit-learn) (3.1.0)\n",
      "Requirement already satisfied: joblib>=1.0.0 in c:\\users\\hagar\\anaconda3\\envs\\jupyterlab-debugger\\lib\\site-packages (from scikit-learn) (1.1.0)\n",
      "Requirement already satisfied: scipy>=1.3.2 in c:\\users\\hagar\\anaconda3\\envs\\jupyterlab-debugger\\lib\\site-packages (from scikit-learn) (1.8.1)\n",
      "Requirement already satisfied: six>=1.5 in c:\\users\\hagar\\anaconda3\\envs\\jupyterlab-debugger\\lib\\site-packages (from python-dateutil>=2.8.1->pandas) (1.16.0)\n",
      "Requirement already satisfied: fonttools>=4.22.0 in c:\\users\\hagar\\anaconda3\\envs\\jupyterlab-debugger\\lib\\site-packages (from matplotlib->mediapipe) (4.33.3)\n",
      "Requirement already satisfied: packaging>=20.0 in c:\\users\\hagar\\anaconda3\\envs\\jupyterlab-debugger\\lib\\site-packages (from matplotlib->mediapipe) (21.3)\n",
      "Requirement already satisfied: kiwisolver>=1.0.1 in c:\\users\\hagar\\anaconda3\\envs\\jupyterlab-debugger\\lib\\site-packages (from matplotlib->mediapipe) (1.4.2)\n",
      "Requirement already satisfied: pillow>=6.2.0 in c:\\users\\hagar\\anaconda3\\envs\\jupyterlab-debugger\\lib\\site-packages (from matplotlib->mediapipe) (9.1.1)\n",
      "Requirement already satisfied: pyparsing>=2.2.1 in c:\\users\\hagar\\anaconda3\\envs\\jupyterlab-debugger\\lib\\site-packages (from matplotlib->mediapipe) (3.0.9)\n",
      "Requirement already satisfied: cycler>=0.10 in c:\\users\\hagar\\anaconda3\\envs\\jupyterlab-debugger\\lib\\site-packages (from matplotlib->mediapipe) (0.11.0)\n"
     ]
    }
   ],
   "source": [
    "!pip install mediapipe opencv-python pandas scikit-learn"
   ]
  },
  {
   "cell_type": "code",
   "execution_count": 1,
   "metadata": {},
   "outputs": [],
   "source": [
    "import mediapipe as mp # Import mediapipe\n",
    "import cv2 # Import opencv"
   ]
  },
  {
   "cell_type": "code",
   "execution_count": 2,
   "metadata": {},
   "outputs": [],
   "source": [
    "\n",
    "# First step is to initialize the Hands class an store it in a variable\n",
    "mp_hands = mp.solutions.hands\n",
    "\n",
    "# Now second step is to set the hands function which will hold the landmarks points\n",
    "#hands = mp_hands.Hands(static_image_mode=False, max_num_hands=1, min_detection_confidence=0.3)\n",
    "\n",
    "# Last step is to set up the drawing function of hands landmarks on the image\n",
    "mp_drawing = mp.solutions.drawing_utils"
   ]
  },
  {
   "cell_type": "markdown",
   "metadata": {
    "jp-MarkdownHeadingCollapsed": true,
    "tags": []
   },
   "source": [
    "# 1. Make Some Detections"
   ]
  },
  {
   "cell_type": "markdown",
   "metadata": {
    "tags": []
   },
   "source": [
    "# Landmarks map\n",
    "<img src=https://google.github.io/mediapipe/images/mobile/hand_landmarks.png />"
   ]
  },
  {
   "cell_type": "code",
   "execution_count": 4,
   "metadata": {
    "tags": []
   },
   "outputs": [],
   "source": [
    "relevant_landmarks = [0,16,18,20,22]"
   ]
  },
  {
   "cell_type": "code",
   "execution_count": 3,
   "metadata": {
    "tags": []
   },
   "outputs": [],
   "source": [
    "cap = cv2.VideoCapture(0)\n",
    "\n",
    "with mp_hands.Hands(min_detection_confidence=0.8, min_tracking_confidence=0.5) as hands:\n",
    "        while cap.isOpened():\n",
    "            ret, frame = cap.read()\n",
    "\n",
    "            # BGR 2 RGB\n",
    "            image = cv2.cvtColor(frame, cv2.COLOR_BGR2RGB)\n",
    "\n",
    "            # Set flag\n",
    "            image.flags.writeable = False\n",
    "\n",
    "            # Detections\n",
    "            results = hands.process(image)\n",
    "            \n",
    "            # Set flag to true\n",
    "            image.flags.writeable = True\n",
    "\n",
    "            # RGB 2 BGR\n",
    "            image = cv2.cvtColor(image, cv2.COLOR_RGB2BGR)\n",
    "\n",
    "\n",
    "            # Rendering results\n",
    "            if results.multi_hand_landmarks:\n",
    "                for num, hand in enumerate(results.multi_hand_landmarks):\n",
    "                    mp_drawing.draw_landmarks(image, hand, mp_hands.HAND_CONNECTIONS, \n",
    "                                            mp_drawing.DrawingSpec(color=(121, 22, 76), thickness=2, circle_radius=4),\n",
    "                                            mp_drawing.DrawingSpec(color=(250, 44, 250), thickness=2, circle_radius=2),\n",
    "                                             )\n",
    "           \n",
    "\n",
    "\n",
    "            cv2.imshow('Hand Tracking', image)\n",
    "            if cv2.waitKey(10) & 0xFF == ord('q'):\n",
    "                break\n",
    "\n",
    "cap.release()\n",
    "cv2.destroyAllWindows()"
   ]
  },
  {
   "cell_type": "code",
   "execution_count": 4,
   "metadata": {},
   "outputs": [
    {
     "name": "stdout",
     "output_type": "stream",
     "text": [
      "x: 0.5122029185295105\n",
      "y: 0.8202745914459229\n",
      "z: 7.458144182237447e-07\n",
      " x: 0.746350884437561\n",
      "y: 0.6298924684524536\n",
      "z: -0.0102226622402668\n",
      " x: 0.7046052813529968\n",
      "y: 0.5664680600166321\n",
      "z: -0.004212702624499798\n",
      " x: 0.654805600643158\n",
      "y: 0.5247756838798523\n",
      "z: -0.0059512462466955185\n",
      " x: 0.5953828692436218\n",
      "y: 0.5008100867271423\n",
      "z: -0.012931078672409058\n",
      "\n"
     ]
    }
   ],
   "source": [
    "print(results.multi_hand_landmarks[0].landmark[mp_hands.HandLandmark.WRIST],\n",
    "results.multi_hand_landmarks[0].landmark[mp_hands.HandLandmark.INDEX_FINGER_MCP],\n",
    "results.multi_hand_landmarks[0].landmark[mp_hands.HandLandmark.MIDDLE_FINGER_MCP],\n",
    "results.multi_hand_landmarks[0].landmark[mp_hands.HandLandmark.RING_FINGER_MCP],\n",
    "results.multi_hand_landmarks[0].landmark[mp_hands.HandLandmark.PINKY_MCP])\n"
   ]
  },
  {
   "cell_type": "code",
   "execution_count": 5,
   "metadata": {},
   "outputs": [
    {
     "data": {
      "text/plain": [
       "{'x': 0.7482098454520816, 'y': 0.5222516996519906, 'z': -0.03594293322005558}"
      ]
     },
     "execution_count": 5,
     "metadata": {},
     "output_type": "execute_result"
    }
   ],
   "source": [
    "# find the center of the hand \n",
    "\n",
    "n = len(results.multi_hand_landmarks[0].landmark)\n",
    "sum_x = 0\n",
    "sum_y = 0\n",
    "sum_z = 0\n",
    "center = {}\n",
    "for i in range(n):\n",
    "    sum_x += results.multi_hand_landmarks[0].landmark[i].x\n",
    "    sum_y += results.multi_hand_landmarks[0].landmark[i].y\n",
    "    sum_z += results.multi_hand_landmarks[0].landmark[i].z\n",
    "    \n",
    "x_center = sum_x/n\n",
    "y_center = sum_y/n\n",
    "z_center = sum_z/n\n",
    "\n",
    "\n",
    "center['x'] = x_center \n",
    "center['y'] = y_center \n",
    "center['z'] = z_center \n",
    "\n",
    "center\n",
    "\n",
    "\n"
   ]
  },
  {
   "cell_type": "markdown",
   "metadata": {},
   "source": [
    "# 2. Capture Landmarks & Export to CSV\n",
    "<!--<img src=\"https://i.imgur.com/8bForKY.png\">-->\n",
    "<!--<img src=\"https://i.imgur.com/AzKNp7A.png\">-->"
   ]
  },
  {
   "cell_type": "code",
   "execution_count": 6,
   "metadata": {},
   "outputs": [],
   "source": [
    "import csv\n",
    "import os\n",
    "import numpy as np"
   ]
  },
  {
   "cell_type": "code",
   "execution_count": 7,
   "metadata": {},
   "outputs": [
    {
     "data": {
      "text/plain": [
       "21"
      ]
     },
     "execution_count": 7,
     "metadata": {},
     "output_type": "execute_result"
    }
   ],
   "source": [
    "num_coords = len(results.multi_hand_landmarks[0].landmark)\n",
    "num_coords"
   ]
  },
  {
   "cell_type": "code",
   "execution_count": 8,
   "metadata": {},
   "outputs": [],
   "source": [
    "landmarks = ['class']\n",
    "for val in range(1, num_coords+1):\n",
    "    landmarks += ['x{}'.format(val), 'y{}'.format(val), 'z{}'.format(val), 'v{}'.format(val)]"
   ]
  },
  {
   "cell_type": "code",
   "execution_count": 13,
   "metadata": {
    "collapsed": true,
    "jupyter": {
     "outputs_hidden": true
    },
    "tags": []
   },
   "outputs": [
    {
     "data": {
      "text/plain": [
       "['class',\n",
       " 'x1',\n",
       " 'y1',\n",
       " 'z1',\n",
       " 'v1',\n",
       " 'x2',\n",
       " 'y2',\n",
       " 'z2',\n",
       " 'v2',\n",
       " 'x3',\n",
       " 'y3',\n",
       " 'z3',\n",
       " 'v3',\n",
       " 'x4',\n",
       " 'y4',\n",
       " 'z4',\n",
       " 'v4',\n",
       " 'x5',\n",
       " 'y5',\n",
       " 'z5',\n",
       " 'v5',\n",
       " 'x6',\n",
       " 'y6',\n",
       " 'z6',\n",
       " 'v6',\n",
       " 'x7',\n",
       " 'y7',\n",
       " 'z7',\n",
       " 'v7',\n",
       " 'x8',\n",
       " 'y8',\n",
       " 'z8',\n",
       " 'v8',\n",
       " 'x9',\n",
       " 'y9',\n",
       " 'z9',\n",
       " 'v9',\n",
       " 'x10',\n",
       " 'y10',\n",
       " 'z10',\n",
       " 'v10',\n",
       " 'x11',\n",
       " 'y11',\n",
       " 'z11',\n",
       " 'v11',\n",
       " 'x12',\n",
       " 'y12',\n",
       " 'z12',\n",
       " 'v12',\n",
       " 'x13',\n",
       " 'y13',\n",
       " 'z13',\n",
       " 'v13',\n",
       " 'x14',\n",
       " 'y14',\n",
       " 'z14',\n",
       " 'v14',\n",
       " 'x15',\n",
       " 'y15',\n",
       " 'z15',\n",
       " 'v15',\n",
       " 'x16',\n",
       " 'y16',\n",
       " 'z16',\n",
       " 'v16',\n",
       " 'x17',\n",
       " 'y17',\n",
       " 'z17',\n",
       " 'v17',\n",
       " 'x18',\n",
       " 'y18',\n",
       " 'z18',\n",
       " 'v18',\n",
       " 'x19',\n",
       " 'y19',\n",
       " 'z19',\n",
       " 'v19',\n",
       " 'x20',\n",
       " 'y20',\n",
       " 'z20',\n",
       " 'v20',\n",
       " 'x21',\n",
       " 'y21',\n",
       " 'z21',\n",
       " 'v21']"
      ]
     },
     "execution_count": 13,
     "metadata": {},
     "output_type": "execute_result"
    }
   ],
   "source": [
    "landmarks"
   ]
  },
  {
   "cell_type": "code",
   "execution_count": 14,
   "metadata": {
    "tags": []
   },
   "outputs": [],
   "source": [
    "data_file = 'coords_of_shape.csv'\n",
    "\n",
    "with open(data_file,mode='w', newline='') as f: \n",
    "    csv_writer = csv.writer(f, delimiter=',', quotechar='\"', quoting=csv.QUOTE_MINIMAL)\n",
    "    csv_writer.writerow(landmarks)"
   ]
  },
  {
   "cell_type": "code",
   "execution_count": 15,
   "metadata": {},
   "outputs": [],
   "source": [
    "classes = ['word_h0_01']\n",
    "#classes = ['shape_00','shape_01','shape_02','shape_03','shape_04','shape_05','shape_06','shape_07'] #put the names of the files here"
   ]
  },
  {
   "cell_type": "code",
   "execution_count": 18,
   "metadata": {},
   "outputs": [
    {
     "name": "stdout",
     "output_type": "stream",
     "text": [
      "word_h0_01 was learned\n"
     ]
    }
   ],
   "source": [
    "for label in classes:\n",
    "    # Load Video\n",
    "    fn = label\n",
    "    class_name = label[-2:] # only the number of the video\n",
    "    cap = cv2.VideoCapture(f\"C:/Users/hagar/OneDrive - mail.tau.ac.il/Desktop/Stage/LPC_2022/Hand decoder/Position/data/test_videos/{fn}.mp4\")\n",
    "\n",
    "    with mp_hands.Hands(min_detection_confidence=0.8, min_tracking_confidence=0.5) as hands:\n",
    "        while cap.isOpened():\n",
    "            ret, frame = cap.read()\n",
    "\n",
    "            # BGR 2 RGB\n",
    "            image = cv2.cvtColor(frame, cv2.COLOR_BGR2RGB)\n",
    "\n",
    "            # Set flag\n",
    "            image.flags.writeable = False\n",
    "\n",
    "            # Detections\n",
    "            results = hands.process(image)\n",
    "            \n",
    "            # Set flag to true\n",
    "            image.flags.writeable = True\n",
    "\n",
    "            # RGB 2 BGR\n",
    "            image = cv2.cvtColor(image, cv2.COLOR_RGB2BGR)\n",
    "\n",
    "\n",
    "            # Rendering results\n",
    "            if results.multi_hand_landmarks:\n",
    "                for num, hand in enumerate(results.multi_hand_landmarks):\n",
    "                    mp_drawing.draw_landmarks(image, hand, mp_hands.HAND_CONNECTIONS, \n",
    "                                            mp_drawing.DrawingSpec(color=(121, 22, 76), thickness=2, circle_radius=4),\n",
    "                                            mp_drawing.DrawingSpec(color=(250, 44, 250), thickness=2, circle_radius=2),\n",
    "                                             )\n",
    "\n",
    "            # Export coordinates\n",
    "            try:\n",
    "                # Extract Pose landmarks\n",
    "                hand = results.multi_hand_landmarks[0].landmark\n",
    "                hand_row = list(np.array([[landmark.x, landmark.y, landmark.z, landmark.visibility] for landmark in hand]).flatten())\n",
    "                row = hand_row\n",
    "\n",
    "                # Append class name \n",
    "                row.insert(0, class_name)\n",
    "\n",
    "                # Export to CSV\n",
    "                with open(data_file, mode='a', newline='') as f:\n",
    "                    csv_writer = csv.writer(f, delimiter=',', quotechar='\"', quoting=csv.QUOTE_MINIMAL)\n",
    "                    csv_writer.writerow(row)\n",
    "\n",
    "            except:\n",
    "                pass\n",
    "\n",
    "            cv2.imshow('hand_estimation', image)\n",
    "\n",
    "            if cv2.waitKey(10) & 0xFF == ord('q'):\n",
    "                break\n",
    "\n",
    "    print(f'{label} was learned')\n",
    "    cap.release()\n",
    "    cv2.destroyAllWindows()"
   ]
  },
  {
   "cell_type": "markdown",
   "metadata": {
    "jupyter": {
     "source_hidden": true
    },
    "tags": []
   },
   "source": [
    "# 3. Train Custom Model Using Scikit Learn"
   ]
  },
  {
   "cell_type": "markdown",
   "metadata": {
    "jupyter": {
     "source_hidden": true
    },
    "tags": []
   },
   "source": [
    "## 3.1 Read in Collected Data and Process"
   ]
  },
  {
   "cell_type": "code",
   "execution_count": 10,
   "metadata": {
    "jupyter": {
     "source_hidden": true
    },
    "tags": []
   },
   "outputs": [],
   "source": [
    "import pandas as pd\n",
    "from sklearn.model_selection import train_test_split"
   ]
  },
  {
   "cell_type": "code",
   "execution_count": 11,
   "metadata": {
    "jupyter": {
     "source_hidden": true
    },
    "tags": []
   },
   "outputs": [],
   "source": [
    "df = pd.read_csv(r\"C:\\Users\\hagar\\OneDrive - mail.tau.ac.il\\Desktop\\Stage\\LPC_2022\\Hand decoder\\Position\\data\\coords_position.csv\")"
   ]
  },
  {
   "cell_type": "code",
   "execution_count": 12,
   "metadata": {
    "collapsed": true,
    "jupyter": {
     "outputs_hidden": true,
     "source_hidden": true
    },
    "tags": []
   },
   "outputs": [
    {
     "data": {
      "text/html": [
       "<div>\n",
       "<style scoped>\n",
       "    .dataframe tbody tr th:only-of-type {\n",
       "        vertical-align: middle;\n",
       "    }\n",
       "\n",
       "    .dataframe tbody tr th {\n",
       "        vertical-align: top;\n",
       "    }\n",
       "\n",
       "    .dataframe thead th {\n",
       "        text-align: right;\n",
       "    }\n",
       "</style>\n",
       "<table border=\"1\" class=\"dataframe\">\n",
       "  <thead>\n",
       "    <tr style=\"text-align: right;\">\n",
       "      <th></th>\n",
       "      <th>class</th>\n",
       "      <th>x1</th>\n",
       "      <th>y1</th>\n",
       "      <th>z1</th>\n",
       "      <th>x2</th>\n",
       "      <th>y2</th>\n",
       "      <th>z2</th>\n",
       "      <th>x3</th>\n",
       "      <th>y3</th>\n",
       "      <th>z3</th>\n",
       "      <th>...</th>\n",
       "      <th>z30</th>\n",
       "      <th>x31</th>\n",
       "      <th>y31</th>\n",
       "      <th>z31</th>\n",
       "      <th>x32</th>\n",
       "      <th>y32</th>\n",
       "      <th>z32</th>\n",
       "      <th>x33</th>\n",
       "      <th>y33</th>\n",
       "      <th>z33</th>\n",
       "    </tr>\n",
       "  </thead>\n",
       "  <tbody>\n",
       "    <tr>\n",
       "      <th>0</th>\n",
       "      <td>0</td>\n",
       "      <td>0.472710</td>\n",
       "      <td>0.524730</td>\n",
       "      <td>-0.475511</td>\n",
       "      <td>0.485259</td>\n",
       "      <td>0.494949</td>\n",
       "      <td>-0.444614</td>\n",
       "      <td>0.492754</td>\n",
       "      <td>0.494873</td>\n",
       "      <td>-0.444745</td>\n",
       "      <td>...</td>\n",
       "      <td>0.319577</td>\n",
       "      <td>0.431765</td>\n",
       "      <td>1.926500</td>\n",
       "      <td>0.376139</td>\n",
       "      <td>0.523671</td>\n",
       "      <td>1.975796</td>\n",
       "      <td>0.020084</td>\n",
       "      <td>0.441160</td>\n",
       "      <td>1.976516</td>\n",
       "      <td>0.054029</td>\n",
       "    </tr>\n",
       "    <tr>\n",
       "      <th>1</th>\n",
       "      <td>0</td>\n",
       "      <td>0.473372</td>\n",
       "      <td>0.522611</td>\n",
       "      <td>-0.489723</td>\n",
       "      <td>0.485682</td>\n",
       "      <td>0.492262</td>\n",
       "      <td>-0.458236</td>\n",
       "      <td>0.493825</td>\n",
       "      <td>0.491913</td>\n",
       "      <td>-0.458340</td>\n",
       "      <td>...</td>\n",
       "      <td>0.229015</td>\n",
       "      <td>0.431394</td>\n",
       "      <td>1.951722</td>\n",
       "      <td>0.107576</td>\n",
       "      <td>0.525847</td>\n",
       "      <td>1.993071</td>\n",
       "      <td>-0.049318</td>\n",
       "      <td>0.441042</td>\n",
       "      <td>2.000851</td>\n",
       "      <td>-0.202055</td>\n",
       "    </tr>\n",
       "    <tr>\n",
       "      <th>2</th>\n",
       "      <td>0</td>\n",
       "      <td>0.473899</td>\n",
       "      <td>0.520872</td>\n",
       "      <td>-0.522339</td>\n",
       "      <td>0.486252</td>\n",
       "      <td>0.490330</td>\n",
       "      <td>-0.489900</td>\n",
       "      <td>0.494807</td>\n",
       "      <td>0.489925</td>\n",
       "      <td>-0.489971</td>\n",
       "      <td>...</td>\n",
       "      <td>0.237235</td>\n",
       "      <td>0.431503</td>\n",
       "      <td>1.949940</td>\n",
       "      <td>0.207173</td>\n",
       "      <td>0.528592</td>\n",
       "      <td>1.993266</td>\n",
       "      <td>-0.015707</td>\n",
       "      <td>0.441408</td>\n",
       "      <td>2.001486</td>\n",
       "      <td>-0.106195</td>\n",
       "    </tr>\n",
       "    <tr>\n",
       "      <th>3</th>\n",
       "      <td>0</td>\n",
       "      <td>0.474279</td>\n",
       "      <td>0.519489</td>\n",
       "      <td>-0.534707</td>\n",
       "      <td>0.486711</td>\n",
       "      <td>0.488800</td>\n",
       "      <td>-0.503285</td>\n",
       "      <td>0.495543</td>\n",
       "      <td>0.488294</td>\n",
       "      <td>-0.503343</td>\n",
       "      <td>...</td>\n",
       "      <td>0.308221</td>\n",
       "      <td>0.428875</td>\n",
       "      <td>1.948126</td>\n",
       "      <td>0.258928</td>\n",
       "      <td>0.528549</td>\n",
       "      <td>1.992265</td>\n",
       "      <td>0.037789</td>\n",
       "      <td>0.439290</td>\n",
       "      <td>2.000137</td>\n",
       "      <td>-0.059013</td>\n",
       "    </tr>\n",
       "    <tr>\n",
       "      <th>4</th>\n",
       "      <td>0</td>\n",
       "      <td>0.474550</td>\n",
       "      <td>0.518794</td>\n",
       "      <td>-0.521482</td>\n",
       "      <td>0.487064</td>\n",
       "      <td>0.488003</td>\n",
       "      <td>-0.490144</td>\n",
       "      <td>0.496039</td>\n",
       "      <td>0.487493</td>\n",
       "      <td>-0.490219</td>\n",
       "      <td>...</td>\n",
       "      <td>0.317020</td>\n",
       "      <td>0.421591</td>\n",
       "      <td>1.946249</td>\n",
       "      <td>0.260990</td>\n",
       "      <td>0.522343</td>\n",
       "      <td>1.991866</td>\n",
       "      <td>0.042660</td>\n",
       "      <td>0.431875</td>\n",
       "      <td>1.998997</td>\n",
       "      <td>-0.051457</td>\n",
       "    </tr>\n",
       "  </tbody>\n",
       "</table>\n",
       "<p>5 rows × 100 columns</p>\n",
       "</div>"
      ],
      "text/plain": [
       "   class        x1        y1        z1        x2        y2        z2  \\\n",
       "0      0  0.472710  0.524730 -0.475511  0.485259  0.494949 -0.444614   \n",
       "1      0  0.473372  0.522611 -0.489723  0.485682  0.492262 -0.458236   \n",
       "2      0  0.473899  0.520872 -0.522339  0.486252  0.490330 -0.489900   \n",
       "3      0  0.474279  0.519489 -0.534707  0.486711  0.488800 -0.503285   \n",
       "4      0  0.474550  0.518794 -0.521482  0.487064  0.488003 -0.490144   \n",
       "\n",
       "         x3        y3        z3  ...       z30       x31       y31       z31  \\\n",
       "0  0.492754  0.494873 -0.444745  ...  0.319577  0.431765  1.926500  0.376139   \n",
       "1  0.493825  0.491913 -0.458340  ...  0.229015  0.431394  1.951722  0.107576   \n",
       "2  0.494807  0.489925 -0.489971  ...  0.237235  0.431503  1.949940  0.207173   \n",
       "3  0.495543  0.488294 -0.503343  ...  0.308221  0.428875  1.948126  0.258928   \n",
       "4  0.496039  0.487493 -0.490219  ...  0.317020  0.421591  1.946249  0.260990   \n",
       "\n",
       "        x32       y32       z32       x33       y33       z33  \n",
       "0  0.523671  1.975796  0.020084  0.441160  1.976516  0.054029  \n",
       "1  0.525847  1.993071 -0.049318  0.441042  2.000851 -0.202055  \n",
       "2  0.528592  1.993266 -0.015707  0.441408  2.001486 -0.106195  \n",
       "3  0.528549  1.992265  0.037789  0.439290  2.000137 -0.059013  \n",
       "4  0.522343  1.991866  0.042660  0.431875  1.998997 -0.051457  \n",
       "\n",
       "[5 rows x 100 columns]"
      ]
     },
     "execution_count": 12,
     "metadata": {},
     "output_type": "execute_result"
    }
   ],
   "source": [
    "df.head()"
   ]
  },
  {
   "cell_type": "code",
   "execution_count": 26,
   "metadata": {
    "collapsed": true,
    "jupyter": {
     "outputs_hidden": true,
     "source_hidden": true
    },
    "tags": []
   },
   "outputs": [
    {
     "data": {
      "text/html": [
       "<div>\n",
       "<style scoped>\n",
       "    .dataframe tbody tr th:only-of-type {\n",
       "        vertical-align: middle;\n",
       "    }\n",
       "\n",
       "    .dataframe tbody tr th {\n",
       "        vertical-align: top;\n",
       "    }\n",
       "\n",
       "    .dataframe thead th {\n",
       "        text-align: right;\n",
       "    }\n",
       "</style>\n",
       "<table border=\"1\" class=\"dataframe\">\n",
       "  <thead>\n",
       "    <tr style=\"text-align: right;\">\n",
       "      <th></th>\n",
       "      <th>class</th>\n",
       "      <th>x1</th>\n",
       "      <th>y1</th>\n",
       "      <th>z1</th>\n",
       "      <th>x2</th>\n",
       "      <th>y2</th>\n",
       "      <th>z2</th>\n",
       "      <th>x3</th>\n",
       "      <th>y3</th>\n",
       "      <th>z3</th>\n",
       "      <th>...</th>\n",
       "      <th>z30</th>\n",
       "      <th>x31</th>\n",
       "      <th>y31</th>\n",
       "      <th>z31</th>\n",
       "      <th>x32</th>\n",
       "      <th>y32</th>\n",
       "      <th>z32</th>\n",
       "      <th>x33</th>\n",
       "      <th>y33</th>\n",
       "      <th>z33</th>\n",
       "    </tr>\n",
       "  </thead>\n",
       "  <tbody>\n",
       "    <tr>\n",
       "      <th>7351</th>\n",
       "      <td>4</td>\n",
       "      <td>0.482994</td>\n",
       "      <td>0.510142</td>\n",
       "      <td>-0.629055</td>\n",
       "      <td>0.494181</td>\n",
       "      <td>0.475171</td>\n",
       "      <td>-0.595769</td>\n",
       "      <td>0.501663</td>\n",
       "      <td>0.474687</td>\n",
       "      <td>-0.595895</td>\n",
       "      <td>...</td>\n",
       "      <td>0.294523</td>\n",
       "      <td>0.410745</td>\n",
       "      <td>2.067214</td>\n",
       "      <td>0.224063</td>\n",
       "      <td>0.528857</td>\n",
       "      <td>2.131766</td>\n",
       "      <td>-0.018198</td>\n",
       "      <td>0.426702</td>\n",
       "      <td>2.126160</td>\n",
       "      <td>-0.109316</td>\n",
       "    </tr>\n",
       "    <tr>\n",
       "      <th>7352</th>\n",
       "      <td>4</td>\n",
       "      <td>0.483007</td>\n",
       "      <td>0.511154</td>\n",
       "      <td>-0.630527</td>\n",
       "      <td>0.494196</td>\n",
       "      <td>0.476024</td>\n",
       "      <td>-0.597569</td>\n",
       "      <td>0.501677</td>\n",
       "      <td>0.475633</td>\n",
       "      <td>-0.597692</td>\n",
       "      <td>...</td>\n",
       "      <td>0.298766</td>\n",
       "      <td>0.410747</td>\n",
       "      <td>2.066162</td>\n",
       "      <td>0.225754</td>\n",
       "      <td>0.528830</td>\n",
       "      <td>2.130981</td>\n",
       "      <td>-0.013430</td>\n",
       "      <td>0.426674</td>\n",
       "      <td>2.125291</td>\n",
       "      <td>-0.107923</td>\n",
       "    </tr>\n",
       "    <tr>\n",
       "      <th>7353</th>\n",
       "      <td>4</td>\n",
       "      <td>0.483015</td>\n",
       "      <td>0.511255</td>\n",
       "      <td>-0.630561</td>\n",
       "      <td>0.494208</td>\n",
       "      <td>0.476138</td>\n",
       "      <td>-0.597693</td>\n",
       "      <td>0.501690</td>\n",
       "      <td>0.475782</td>\n",
       "      <td>-0.597818</td>\n",
       "      <td>...</td>\n",
       "      <td>0.298848</td>\n",
       "      <td>0.410982</td>\n",
       "      <td>2.064013</td>\n",
       "      <td>0.223081</td>\n",
       "      <td>0.528868</td>\n",
       "      <td>2.128735</td>\n",
       "      <td>-0.013095</td>\n",
       "      <td>0.426791</td>\n",
       "      <td>2.123121</td>\n",
       "      <td>-0.108779</td>\n",
       "    </tr>\n",
       "    <tr>\n",
       "      <th>7354</th>\n",
       "      <td>4</td>\n",
       "      <td>0.483044</td>\n",
       "      <td>0.511263</td>\n",
       "      <td>-0.633400</td>\n",
       "      <td>0.494220</td>\n",
       "      <td>0.476165</td>\n",
       "      <td>-0.600514</td>\n",
       "      <td>0.501704</td>\n",
       "      <td>0.475832</td>\n",
       "      <td>-0.600634</td>\n",
       "      <td>...</td>\n",
       "      <td>0.299108</td>\n",
       "      <td>0.410991</td>\n",
       "      <td>2.063690</td>\n",
       "      <td>0.225357</td>\n",
       "      <td>0.528802</td>\n",
       "      <td>2.128360</td>\n",
       "      <td>-0.012831</td>\n",
       "      <td>0.426678</td>\n",
       "      <td>2.123002</td>\n",
       "      <td>-0.107934</td>\n",
       "    </tr>\n",
       "    <tr>\n",
       "      <th>7355</th>\n",
       "      <td>4</td>\n",
       "      <td>0.483062</td>\n",
       "      <td>0.511295</td>\n",
       "      <td>-0.632105</td>\n",
       "      <td>0.494229</td>\n",
       "      <td>0.476224</td>\n",
       "      <td>-0.599413</td>\n",
       "      <td>0.501712</td>\n",
       "      <td>0.475921</td>\n",
       "      <td>-0.599538</td>\n",
       "      <td>...</td>\n",
       "      <td>0.292940</td>\n",
       "      <td>0.411460</td>\n",
       "      <td>2.063699</td>\n",
       "      <td>0.219419</td>\n",
       "      <td>0.528941</td>\n",
       "      <td>2.128354</td>\n",
       "      <td>-0.019065</td>\n",
       "      <td>0.427013</td>\n",
       "      <td>2.123007</td>\n",
       "      <td>-0.114130</td>\n",
       "    </tr>\n",
       "  </tbody>\n",
       "</table>\n",
       "<p>5 rows × 100 columns</p>\n",
       "</div>"
      ],
      "text/plain": [
       "      class        x1        y1        z1        x2        y2        z2  \\\n",
       "7351      4  0.482994  0.510142 -0.629055  0.494181  0.475171 -0.595769   \n",
       "7352      4  0.483007  0.511154 -0.630527  0.494196  0.476024 -0.597569   \n",
       "7353      4  0.483015  0.511255 -0.630561  0.494208  0.476138 -0.597693   \n",
       "7354      4  0.483044  0.511263 -0.633400  0.494220  0.476165 -0.600514   \n",
       "7355      4  0.483062  0.511295 -0.632105  0.494229  0.476224 -0.599413   \n",
       "\n",
       "            x3        y3        z3  ...       z30       x31       y31  \\\n",
       "7351  0.501663  0.474687 -0.595895  ...  0.294523  0.410745  2.067214   \n",
       "7352  0.501677  0.475633 -0.597692  ...  0.298766  0.410747  2.066162   \n",
       "7353  0.501690  0.475782 -0.597818  ...  0.298848  0.410982  2.064013   \n",
       "7354  0.501704  0.475832 -0.600634  ...  0.299108  0.410991  2.063690   \n",
       "7355  0.501712  0.475921 -0.599538  ...  0.292940  0.411460  2.063699   \n",
       "\n",
       "           z31       x32       y32       z32       x33       y33       z33  \n",
       "7351  0.224063  0.528857  2.131766 -0.018198  0.426702  2.126160 -0.109316  \n",
       "7352  0.225754  0.528830  2.130981 -0.013430  0.426674  2.125291 -0.107923  \n",
       "7353  0.223081  0.528868  2.128735 -0.013095  0.426791  2.123121 -0.108779  \n",
       "7354  0.225357  0.528802  2.128360 -0.012831  0.426678  2.123002 -0.107934  \n",
       "7355  0.219419  0.528941  2.128354 -0.019065  0.427013  2.123007 -0.114130  \n",
       "\n",
       "[5 rows x 100 columns]"
      ]
     },
     "execution_count": 26,
     "metadata": {},
     "output_type": "execute_result"
    }
   ],
   "source": [
    "df.tail()"
   ]
  },
  {
   "cell_type": "code",
   "execution_count": 119,
   "metadata": {
    "collapsed": true,
    "jupyter": {
     "outputs_hidden": true,
     "source_hidden": true
    },
    "tags": []
   },
   "outputs": [
    {
     "data": {
      "text/html": [
       "<div>\n",
       "<style scoped>\n",
       "    .dataframe tbody tr th:only-of-type {\n",
       "        vertical-align: middle;\n",
       "    }\n",
       "\n",
       "    .dataframe tbody tr th {\n",
       "        vertical-align: top;\n",
       "    }\n",
       "\n",
       "    .dataframe thead th {\n",
       "        text-align: right;\n",
       "    }\n",
       "</style>\n",
       "<table border=\"1\" class=\"dataframe\">\n",
       "  <thead>\n",
       "    <tr style=\"text-align: right;\">\n",
       "      <th></th>\n",
       "      <th>class</th>\n",
       "      <th>x1</th>\n",
       "      <th>y1</th>\n",
       "      <th>z1</th>\n",
       "      <th>v1</th>\n",
       "      <th>x2</th>\n",
       "      <th>y2</th>\n",
       "      <th>z2</th>\n",
       "      <th>v2</th>\n",
       "      <th>x3</th>\n",
       "      <th>...</th>\n",
       "      <th>z499</th>\n",
       "      <th>v499</th>\n",
       "      <th>x500</th>\n",
       "      <th>y500</th>\n",
       "      <th>z500</th>\n",
       "      <th>v500</th>\n",
       "      <th>x501</th>\n",
       "      <th>y501</th>\n",
       "      <th>z501</th>\n",
       "      <th>v501</th>\n",
       "    </tr>\n",
       "  </thead>\n",
       "  <tbody>\n",
       "    <tr>\n",
       "      <th>959</th>\n",
       "      <td>1</td>\n",
       "      <td>0.475757</td>\n",
       "      <td>0.525373</td>\n",
       "      <td>-0.467482</td>\n",
       "      <td>0.999979</td>\n",
       "      <td>0.487011</td>\n",
       "      <td>0.494481</td>\n",
       "      <td>-0.435314</td>\n",
       "      <td>0.999947</td>\n",
       "      <td>0.494802</td>\n",
       "      <td>...</td>\n",
       "      <td>-0.002405</td>\n",
       "      <td>0</td>\n",
       "      <td>0.496272</td>\n",
       "      <td>0.492282</td>\n",
       "      <td>0.002498</td>\n",
       "      <td>0</td>\n",
       "      <td>0.498018</td>\n",
       "      <td>0.490138</td>\n",
       "      <td>0.002333</td>\n",
       "      <td>0</td>\n",
       "    </tr>\n",
       "    <tr>\n",
       "      <th>960</th>\n",
       "      <td>1</td>\n",
       "      <td>0.475805</td>\n",
       "      <td>0.525361</td>\n",
       "      <td>-0.503314</td>\n",
       "      <td>0.999979</td>\n",
       "      <td>0.487028</td>\n",
       "      <td>0.494457</td>\n",
       "      <td>-0.471228</td>\n",
       "      <td>0.999947</td>\n",
       "      <td>0.494817</td>\n",
       "      <td>...</td>\n",
       "      <td>-0.002387</td>\n",
       "      <td>0</td>\n",
       "      <td>0.496244</td>\n",
       "      <td>0.493435</td>\n",
       "      <td>0.002458</td>\n",
       "      <td>0</td>\n",
       "      <td>0.498027</td>\n",
       "      <td>0.490964</td>\n",
       "      <td>0.002335</td>\n",
       "      <td>0</td>\n",
       "    </tr>\n",
       "    <tr>\n",
       "      <th>961</th>\n",
       "      <td>1</td>\n",
       "      <td>0.475826</td>\n",
       "      <td>0.525081</td>\n",
       "      <td>-0.501486</td>\n",
       "      <td>0.999980</td>\n",
       "      <td>0.487028</td>\n",
       "      <td>0.494221</td>\n",
       "      <td>-0.466487</td>\n",
       "      <td>0.999949</td>\n",
       "      <td>0.494819</td>\n",
       "      <td>...</td>\n",
       "      <td>-0.001734</td>\n",
       "      <td>0</td>\n",
       "      <td>0.495772</td>\n",
       "      <td>0.495649</td>\n",
       "      <td>0.002947</td>\n",
       "      <td>0</td>\n",
       "      <td>0.497627</td>\n",
       "      <td>0.492401</td>\n",
       "      <td>0.002900</td>\n",
       "      <td>0</td>\n",
       "    </tr>\n",
       "    <tr>\n",
       "      <th>962</th>\n",
       "      <td>1</td>\n",
       "      <td>0.475923</td>\n",
       "      <td>0.524735</td>\n",
       "      <td>-0.487827</td>\n",
       "      <td>0.999981</td>\n",
       "      <td>0.487048</td>\n",
       "      <td>0.493992</td>\n",
       "      <td>-0.451113</td>\n",
       "      <td>0.999951</td>\n",
       "      <td>0.494840</td>\n",
       "      <td>...</td>\n",
       "      <td>-0.002166</td>\n",
       "      <td>0</td>\n",
       "      <td>0.496248</td>\n",
       "      <td>0.496055</td>\n",
       "      <td>0.002482</td>\n",
       "      <td>0</td>\n",
       "      <td>0.498072</td>\n",
       "      <td>0.492868</td>\n",
       "      <td>0.002433</td>\n",
       "      <td>0</td>\n",
       "    </tr>\n",
       "    <tr>\n",
       "      <th>963</th>\n",
       "      <td>1</td>\n",
       "      <td>0.475981</td>\n",
       "      <td>0.524722</td>\n",
       "      <td>-0.485956</td>\n",
       "      <td>0.999982</td>\n",
       "      <td>0.487068</td>\n",
       "      <td>0.493976</td>\n",
       "      <td>-0.449486</td>\n",
       "      <td>0.999953</td>\n",
       "      <td>0.494861</td>\n",
       "      <td>...</td>\n",
       "      <td>-0.002310</td>\n",
       "      <td>0</td>\n",
       "      <td>0.496319</td>\n",
       "      <td>0.495232</td>\n",
       "      <td>0.002239</td>\n",
       "      <td>0</td>\n",
       "      <td>0.498146</td>\n",
       "      <td>0.492254</td>\n",
       "      <td>0.002146</td>\n",
       "      <td>0</td>\n",
       "    </tr>\n",
       "    <tr>\n",
       "      <th>...</th>\n",
       "      <td>...</td>\n",
       "      <td>...</td>\n",
       "      <td>...</td>\n",
       "      <td>...</td>\n",
       "      <td>...</td>\n",
       "      <td>...</td>\n",
       "      <td>...</td>\n",
       "      <td>...</td>\n",
       "      <td>...</td>\n",
       "      <td>...</td>\n",
       "      <td>...</td>\n",
       "      <td>...</td>\n",
       "      <td>...</td>\n",
       "      <td>...</td>\n",
       "      <td>...</td>\n",
       "      <td>...</td>\n",
       "      <td>...</td>\n",
       "      <td>...</td>\n",
       "      <td>...</td>\n",
       "      <td>...</td>\n",
       "      <td>...</td>\n",
       "    </tr>\n",
       "    <tr>\n",
       "      <th>3962</th>\n",
       "      <td>1</td>\n",
       "      <td>0.464132</td>\n",
       "      <td>0.523850</td>\n",
       "      <td>-0.564199</td>\n",
       "      <td>0.999987</td>\n",
       "      <td>0.478453</td>\n",
       "      <td>0.488426</td>\n",
       "      <td>-0.537470</td>\n",
       "      <td>0.999966</td>\n",
       "      <td>0.486821</td>\n",
       "      <td>...</td>\n",
       "      <td>-0.002345</td>\n",
       "      <td>0</td>\n",
       "      <td>0.492508</td>\n",
       "      <td>0.486761</td>\n",
       "      <td>0.003499</td>\n",
       "      <td>0</td>\n",
       "      <td>0.494346</td>\n",
       "      <td>0.484520</td>\n",
       "      <td>0.003399</td>\n",
       "      <td>0</td>\n",
       "    </tr>\n",
       "    <tr>\n",
       "      <th>3963</th>\n",
       "      <td>1</td>\n",
       "      <td>0.464241</td>\n",
       "      <td>0.524273</td>\n",
       "      <td>-0.575867</td>\n",
       "      <td>0.999987</td>\n",
       "      <td>0.478512</td>\n",
       "      <td>0.488637</td>\n",
       "      <td>-0.548930</td>\n",
       "      <td>0.999966</td>\n",
       "      <td>0.486891</td>\n",
       "      <td>...</td>\n",
       "      <td>-0.002354</td>\n",
       "      <td>0</td>\n",
       "      <td>0.492649</td>\n",
       "      <td>0.486839</td>\n",
       "      <td>0.003607</td>\n",
       "      <td>0</td>\n",
       "      <td>0.494487</td>\n",
       "      <td>0.484609</td>\n",
       "      <td>0.003516</td>\n",
       "      <td>0</td>\n",
       "    </tr>\n",
       "    <tr>\n",
       "      <th>3964</th>\n",
       "      <td>1</td>\n",
       "      <td>0.464366</td>\n",
       "      <td>0.524417</td>\n",
       "      <td>-0.581871</td>\n",
       "      <td>0.999987</td>\n",
       "      <td>0.478610</td>\n",
       "      <td>0.488725</td>\n",
       "      <td>-0.554887</td>\n",
       "      <td>0.999967</td>\n",
       "      <td>0.487008</td>\n",
       "      <td>...</td>\n",
       "      <td>-0.002366</td>\n",
       "      <td>0</td>\n",
       "      <td>0.492653</td>\n",
       "      <td>0.486830</td>\n",
       "      <td>0.003513</td>\n",
       "      <td>0</td>\n",
       "      <td>0.494484</td>\n",
       "      <td>0.484646</td>\n",
       "      <td>0.003416</td>\n",
       "      <td>0</td>\n",
       "    </tr>\n",
       "    <tr>\n",
       "      <th>3965</th>\n",
       "      <td>1</td>\n",
       "      <td>0.464377</td>\n",
       "      <td>0.524538</td>\n",
       "      <td>-0.595928</td>\n",
       "      <td>0.999987</td>\n",
       "      <td>0.478626</td>\n",
       "      <td>0.488814</td>\n",
       "      <td>-0.569151</td>\n",
       "      <td>0.999967</td>\n",
       "      <td>0.487021</td>\n",
       "      <td>...</td>\n",
       "      <td>-0.002585</td>\n",
       "      <td>0</td>\n",
       "      <td>0.492721</td>\n",
       "      <td>0.486789</td>\n",
       "      <td>0.003257</td>\n",
       "      <td>0</td>\n",
       "      <td>0.494552</td>\n",
       "      <td>0.484638</td>\n",
       "      <td>0.003149</td>\n",
       "      <td>0</td>\n",
       "    </tr>\n",
       "    <tr>\n",
       "      <th>3966</th>\n",
       "      <td>1</td>\n",
       "      <td>0.464360</td>\n",
       "      <td>0.524543</td>\n",
       "      <td>-0.594333</td>\n",
       "      <td>0.999987</td>\n",
       "      <td>0.478621</td>\n",
       "      <td>0.488817</td>\n",
       "      <td>-0.568278</td>\n",
       "      <td>0.999967</td>\n",
       "      <td>0.487010</td>\n",
       "      <td>...</td>\n",
       "      <td>-0.002767</td>\n",
       "      <td>0</td>\n",
       "      <td>0.492763</td>\n",
       "      <td>0.486708</td>\n",
       "      <td>0.003033</td>\n",
       "      <td>0</td>\n",
       "      <td>0.494559</td>\n",
       "      <td>0.484568</td>\n",
       "      <td>0.002924</td>\n",
       "      <td>0</td>\n",
       "    </tr>\n",
       "  </tbody>\n",
       "</table>\n",
       "<p>3008 rows × 2005 columns</p>\n",
       "</div>"
      ],
      "text/plain": [
       "      class        x1        y1        z1        v1        x2        y2  \\\n",
       "959       1  0.475757  0.525373 -0.467482  0.999979  0.487011  0.494481   \n",
       "960       1  0.475805  0.525361 -0.503314  0.999979  0.487028  0.494457   \n",
       "961       1  0.475826  0.525081 -0.501486  0.999980  0.487028  0.494221   \n",
       "962       1  0.475923  0.524735 -0.487827  0.999981  0.487048  0.493992   \n",
       "963       1  0.475981  0.524722 -0.485956  0.999982  0.487068  0.493976   \n",
       "...     ...       ...       ...       ...       ...       ...       ...   \n",
       "3962      1  0.464132  0.523850 -0.564199  0.999987  0.478453  0.488426   \n",
       "3963      1  0.464241  0.524273 -0.575867  0.999987  0.478512  0.488637   \n",
       "3964      1  0.464366  0.524417 -0.581871  0.999987  0.478610  0.488725   \n",
       "3965      1  0.464377  0.524538 -0.595928  0.999987  0.478626  0.488814   \n",
       "3966      1  0.464360  0.524543 -0.594333  0.999987  0.478621  0.488817   \n",
       "\n",
       "            z2        v2        x3  ...      z499  v499      x500      y500  \\\n",
       "959  -0.435314  0.999947  0.494802  ... -0.002405     0  0.496272  0.492282   \n",
       "960  -0.471228  0.999947  0.494817  ... -0.002387     0  0.496244  0.493435   \n",
       "961  -0.466487  0.999949  0.494819  ... -0.001734     0  0.495772  0.495649   \n",
       "962  -0.451113  0.999951  0.494840  ... -0.002166     0  0.496248  0.496055   \n",
       "963  -0.449486  0.999953  0.494861  ... -0.002310     0  0.496319  0.495232   \n",
       "...        ...       ...       ...  ...       ...   ...       ...       ...   \n",
       "3962 -0.537470  0.999966  0.486821  ... -0.002345     0  0.492508  0.486761   \n",
       "3963 -0.548930  0.999966  0.486891  ... -0.002354     0  0.492649  0.486839   \n",
       "3964 -0.554887  0.999967  0.487008  ... -0.002366     0  0.492653  0.486830   \n",
       "3965 -0.569151  0.999967  0.487021  ... -0.002585     0  0.492721  0.486789   \n",
       "3966 -0.568278  0.999967  0.487010  ... -0.002767     0  0.492763  0.486708   \n",
       "\n",
       "          z500  v500      x501      y501      z501  v501  \n",
       "959   0.002498     0  0.498018  0.490138  0.002333     0  \n",
       "960   0.002458     0  0.498027  0.490964  0.002335     0  \n",
       "961   0.002947     0  0.497627  0.492401  0.002900     0  \n",
       "962   0.002482     0  0.498072  0.492868  0.002433     0  \n",
       "963   0.002239     0  0.498146  0.492254  0.002146     0  \n",
       "...        ...   ...       ...       ...       ...   ...  \n",
       "3962  0.003499     0  0.494346  0.484520  0.003399     0  \n",
       "3963  0.003607     0  0.494487  0.484609  0.003516     0  \n",
       "3964  0.003513     0  0.494484  0.484646  0.003416     0  \n",
       "3965  0.003257     0  0.494552  0.484638  0.003149     0  \n",
       "3966  0.003033     0  0.494559  0.484568  0.002924     0  \n",
       "\n",
       "[3008 rows x 2005 columns]"
      ]
     },
     "execution_count": 119,
     "metadata": {},
     "output_type": "execute_result"
    }
   ],
   "source": [
    "df[df['class']==1]"
   ]
  },
  {
   "cell_type": "code",
   "execution_count": 13,
   "metadata": {
    "jupyter": {
     "source_hidden": true
    },
    "tags": []
   },
   "outputs": [],
   "source": [
    "X = df.drop('class', axis=1) # features\n",
    "y = df['class'] # target value"
   ]
  },
  {
   "cell_type": "code",
   "execution_count": 14,
   "metadata": {
    "jupyter": {
     "source_hidden": true
    },
    "tags": []
   },
   "outputs": [],
   "source": [
    "X_train, X_test, y_train, y_test = train_test_split(X, y, test_size=0.3, random_state=1234)"
   ]
  },
  {
   "cell_type": "code",
   "execution_count": 15,
   "metadata": {
    "collapsed": true,
    "jupyter": {
     "outputs_hidden": true,
     "source_hidden": true
    },
    "tags": []
   },
   "outputs": [
    {
     "data": {
      "text/plain": [
       "6259    4\n",
       "38      0\n",
       "5556    3\n",
       "7019    4\n",
       "7342    4\n",
       "       ..\n",
       "3327    2\n",
       "4480    3\n",
       "1456    1\n",
       "4813    3\n",
       "5736    3\n",
       "Name: class, Length: 2207, dtype: int64"
      ]
     },
     "execution_count": 15,
     "metadata": {},
     "output_type": "execute_result"
    }
   ],
   "source": [
    "y_test"
   ]
  },
  {
   "cell_type": "markdown",
   "metadata": {
    "jupyter": {
     "source_hidden": true
    },
    "tags": []
   },
   "source": [
    "## 3.2 Train Machine Learning Classification Model"
   ]
  },
  {
   "cell_type": "code",
   "execution_count": 16,
   "metadata": {
    "jupyter": {
     "source_hidden": true
    },
    "tags": []
   },
   "outputs": [],
   "source": [
    "from sklearn.pipeline import make_pipeline \n",
    "from sklearn.preprocessing import StandardScaler \n",
    "\n",
    "from sklearn.linear_model import LogisticRegression, RidgeClassifier\n",
    "from sklearn.ensemble import RandomForestClassifier, GradientBoostingClassifier"
   ]
  },
  {
   "cell_type": "code",
   "execution_count": 17,
   "metadata": {
    "jupyter": {
     "source_hidden": true
    },
    "tags": []
   },
   "outputs": [],
   "source": [
    "pipelines = {\n",
    "    'lr':make_pipeline(StandardScaler(), LogisticRegression()),\n",
    "    'rc':make_pipeline(StandardScaler(), RidgeClassifier()),\n",
    "    'rf':make_pipeline(StandardScaler(), RandomForestClassifier()),\n",
    "    'gb':make_pipeline(StandardScaler(), GradientBoostingClassifier()),\n",
    "}"
   ]
  },
  {
   "cell_type": "code",
   "execution_count": 18,
   "metadata": {
    "collapsed": true,
    "jupyter": {
     "outputs_hidden": true,
     "source_hidden": true
    },
    "tags": []
   },
   "outputs": [
    {
     "name": "stderr",
     "output_type": "stream",
     "text": [
      "C:\\Users\\hagar\\anaconda3\\envs\\jupyterlab-debugger\\lib\\site-packages\\sklearn\\linear_model\\_logistic.py:444: ConvergenceWarning: lbfgs failed to converge (status=1):\n",
      "STOP: TOTAL NO. of ITERATIONS REACHED LIMIT.\n",
      "\n",
      "Increase the number of iterations (max_iter) or scale the data as shown in:\n",
      "    https://scikit-learn.org/stable/modules/preprocessing.html\n",
      "Please also refer to the documentation for alternative solver options:\n",
      "    https://scikit-learn.org/stable/modules/linear_model.html#logistic-regression\n",
      "  n_iter_i = _check_optimize_result(\n"
     ]
    }
   ],
   "source": [
    "fit_models = {}\n",
    "for algo, pipeline in pipelines.items():\n",
    "    model = pipeline.fit(X_train, y_train)\n",
    "    fit_models[algo] = model"
   ]
  },
  {
   "cell_type": "code",
   "execution_count": 19,
   "metadata": {
    "collapsed": true,
    "jupyter": {
     "outputs_hidden": true,
     "source_hidden": true
    },
    "tags": []
   },
   "outputs": [
    {
     "data": {
      "text/plain": [
       "{'lr': Pipeline(steps=[('standardscaler', StandardScaler()),\n",
       "                 ('logisticregression', LogisticRegression())]),\n",
       " 'rc': Pipeline(steps=[('standardscaler', StandardScaler()),\n",
       "                 ('ridgeclassifier', RidgeClassifier())]),\n",
       " 'rf': Pipeline(steps=[('standardscaler', StandardScaler()),\n",
       "                 ('randomforestclassifier', RandomForestClassifier())])}"
      ]
     },
     "execution_count": 19,
     "metadata": {},
     "output_type": "execute_result"
    }
   ],
   "source": [
    "fit_models"
   ]
  },
  {
   "cell_type": "code",
   "execution_count": 20,
   "metadata": {
    "collapsed": true,
    "jupyter": {
     "outputs_hidden": true,
     "source_hidden": true
    },
    "tags": []
   },
   "outputs": [
    {
     "data": {
      "text/plain": [
       "array([4, 0, 3, ..., 1, 3, 3], dtype=int64)"
      ]
     },
     "execution_count": 20,
     "metadata": {},
     "output_type": "execute_result"
    }
   ],
   "source": [
    "fit_models['rc'].predict(X_test)"
   ]
  },
  {
   "cell_type": "markdown",
   "metadata": {
    "jupyter": {
     "source_hidden": true
    },
    "tags": []
   },
   "source": [
    "## 3.3 Evaluate and Serialize Model "
   ]
  },
  {
   "cell_type": "code",
   "execution_count": 21,
   "metadata": {
    "jupyter": {
     "source_hidden": true
    },
    "tags": []
   },
   "outputs": [],
   "source": [
    "from sklearn.metrics import accuracy_score # Accuracy metrics \n",
    "import pickle "
   ]
  },
  {
   "cell_type": "code",
   "execution_count": 22,
   "metadata": {
    "collapsed": true,
    "jupyter": {
     "outputs_hidden": true,
     "source_hidden": true
    },
    "scrolled": true,
    "tags": []
   },
   "outputs": [
    {
     "name": "stdout",
     "output_type": "stream",
     "text": [
      "lr 0.9945627548708654\n",
      "rc 0.9963751699139103\n",
      "rf 0.9945627548708654\n"
     ]
    }
   ],
   "source": [
    "for algo, model in fit_models.items():\n",
    "    yhat = model.predict(X_test)\n",
    "    print(algo, accuracy_score(y_test, yhat))"
   ]
  },
  {
   "cell_type": "code",
   "execution_count": 23,
   "metadata": {
    "collapsed": true,
    "jupyter": {
     "outputs_hidden": true,
     "source_hidden": true
    },
    "tags": []
   },
   "outputs": [
    {
     "data": {
      "text/plain": [
       "array([4, 0, 3, ..., 1, 3, 3], dtype=int64)"
      ]
     },
     "execution_count": 23,
     "metadata": {},
     "output_type": "execute_result"
    }
   ],
   "source": [
    "fit_models['rc'].predict(X_test)"
   ]
  },
  {
   "cell_type": "code",
   "execution_count": 14,
   "metadata": {
    "collapsed": true,
    "jupyter": {
     "outputs_hidden": true,
     "source_hidden": true
    },
    "tags": []
   },
   "outputs": [
    {
     "data": {
      "text/plain": [
       "6259    4\n",
       "38      0\n",
       "5556    3\n",
       "7019    4\n",
       "7342    4\n",
       "       ..\n",
       "3327    2\n",
       "4480    3\n",
       "1456    1\n",
       "4813    3\n",
       "5736    3\n",
       "Name: class, Length: 2207, dtype: int64"
      ]
     },
     "execution_count": 14,
     "metadata": {},
     "output_type": "execute_result"
    }
   ],
   "source": [
    "y_test"
   ]
  },
  {
   "cell_type": "code",
   "execution_count": 24,
   "metadata": {
    "jupyter": {
     "source_hidden": true
    },
    "tags": []
   },
   "outputs": [],
   "source": [
    "with open('body_language.pkl', 'wb') as f:\n",
    "    pickle.dump(fit_models['rc'], f)"
   ]
  },
  {
   "cell_type": "markdown",
   "metadata": {
    "jp-MarkdownHeadingCollapsed": true,
    "jupyter": {
     "source_hidden": true
    },
    "tags": []
   },
   "source": [
    "# 4. Make Detections with Model"
   ]
  },
  {
   "cell_type": "code",
   "execution_count": 36,
   "metadata": {},
   "outputs": [],
   "source": [
    "with open('body_language.pkl', 'rb') as f:\n",
    "    model = pickle.load(f)"
   ]
  },
  {
   "cell_type": "code",
   "execution_count": 37,
   "metadata": {
    "collapsed": true,
    "jupyter": {
     "outputs_hidden": true
    },
    "scrolled": true,
    "tags": []
   },
   "outputs": [
    {
     "data": {
      "text/html": [
       "<style>#sk-container-id-2 {color: black;background-color: white;}#sk-container-id-2 pre{padding: 0;}#sk-container-id-2 div.sk-toggleable {background-color: white;}#sk-container-id-2 label.sk-toggleable__label {cursor: pointer;display: block;width: 100%;margin-bottom: 0;padding: 0.3em;box-sizing: border-box;text-align: center;}#sk-container-id-2 label.sk-toggleable__label-arrow:before {content: \"▸\";float: left;margin-right: 0.25em;color: #696969;}#sk-container-id-2 label.sk-toggleable__label-arrow:hover:before {color: black;}#sk-container-id-2 div.sk-estimator:hover label.sk-toggleable__label-arrow:before {color: black;}#sk-container-id-2 div.sk-toggleable__content {max-height: 0;max-width: 0;overflow: hidden;text-align: left;background-color: #f0f8ff;}#sk-container-id-2 div.sk-toggleable__content pre {margin: 0.2em;color: black;border-radius: 0.25em;background-color: #f0f8ff;}#sk-container-id-2 input.sk-toggleable__control:checked~div.sk-toggleable__content {max-height: 200px;max-width: 100%;overflow: auto;}#sk-container-id-2 input.sk-toggleable__control:checked~label.sk-toggleable__label-arrow:before {content: \"▾\";}#sk-container-id-2 div.sk-estimator input.sk-toggleable__control:checked~label.sk-toggleable__label {background-color: #d4ebff;}#sk-container-id-2 div.sk-label input.sk-toggleable__control:checked~label.sk-toggleable__label {background-color: #d4ebff;}#sk-container-id-2 input.sk-hidden--visually {border: 0;clip: rect(1px 1px 1px 1px);clip: rect(1px, 1px, 1px, 1px);height: 1px;margin: -1px;overflow: hidden;padding: 0;position: absolute;width: 1px;}#sk-container-id-2 div.sk-estimator {font-family: monospace;background-color: #f0f8ff;border: 1px dotted black;border-radius: 0.25em;box-sizing: border-box;margin-bottom: 0.5em;}#sk-container-id-2 div.sk-estimator:hover {background-color: #d4ebff;}#sk-container-id-2 div.sk-parallel-item::after {content: \"\";width: 100%;border-bottom: 1px solid gray;flex-grow: 1;}#sk-container-id-2 div.sk-label:hover label.sk-toggleable__label {background-color: #d4ebff;}#sk-container-id-2 div.sk-serial::before {content: \"\";position: absolute;border-left: 1px solid gray;box-sizing: border-box;top: 0;bottom: 0;left: 50%;z-index: 0;}#sk-container-id-2 div.sk-serial {display: flex;flex-direction: column;align-items: center;background-color: white;padding-right: 0.2em;padding-left: 0.2em;position: relative;}#sk-container-id-2 div.sk-item {position: relative;z-index: 1;}#sk-container-id-2 div.sk-parallel {display: flex;align-items: stretch;justify-content: center;background-color: white;position: relative;}#sk-container-id-2 div.sk-item::before, #sk-container-id-2 div.sk-parallel-item::before {content: \"\";position: absolute;border-left: 1px solid gray;box-sizing: border-box;top: 0;bottom: 0;left: 50%;z-index: -1;}#sk-container-id-2 div.sk-parallel-item {display: flex;flex-direction: column;z-index: 1;position: relative;background-color: white;}#sk-container-id-2 div.sk-parallel-item:first-child::after {align-self: flex-end;width: 50%;}#sk-container-id-2 div.sk-parallel-item:last-child::after {align-self: flex-start;width: 50%;}#sk-container-id-2 div.sk-parallel-item:only-child::after {width: 0;}#sk-container-id-2 div.sk-dashed-wrapped {border: 1px dashed gray;margin: 0 0.4em 0.5em 0.4em;box-sizing: border-box;padding-bottom: 0.4em;background-color: white;}#sk-container-id-2 div.sk-label label {font-family: monospace;font-weight: bold;display: inline-block;line-height: 1.2em;}#sk-container-id-2 div.sk-label-container {text-align: center;}#sk-container-id-2 div.sk-container {/* jupyter's `normalize.less` sets `[hidden] { display: none; }` but bootstrap.min.css set `[hidden] { display: none !important; }` so we also need the `!important` here to be able to override the default hidden behavior on the sphinx rendered scikit-learn.org. See: https://github.com/scikit-learn/scikit-learn/issues/21755 */display: inline-block !important;position: relative;}#sk-container-id-2 div.sk-text-repr-fallback {display: none;}</style><div id=\"sk-container-id-2\" class=\"sk-top-container\"><div class=\"sk-text-repr-fallback\"><pre>Pipeline(steps=[(&#x27;standardscaler&#x27;, StandardScaler()),\n",
       "                (&#x27;ridgeclassifier&#x27;, RidgeClassifier())])</pre><b>In a Jupyter environment, please rerun this cell to show the HTML representation or trust the notebook. <br />On GitHub, the HTML representation is unable to render, please try loading this page with nbviewer.org.</b></div><div class=\"sk-container\" hidden><div class=\"sk-item sk-dashed-wrapped\"><div class=\"sk-label-container\"><div class=\"sk-label sk-toggleable\"><input class=\"sk-toggleable__control sk-hidden--visually\" id=\"sk-estimator-id-4\" type=\"checkbox\" ><label for=\"sk-estimator-id-4\" class=\"sk-toggleable__label sk-toggleable__label-arrow\">Pipeline</label><div class=\"sk-toggleable__content\"><pre>Pipeline(steps=[(&#x27;standardscaler&#x27;, StandardScaler()),\n",
       "                (&#x27;ridgeclassifier&#x27;, RidgeClassifier())])</pre></div></div></div><div class=\"sk-serial\"><div class=\"sk-item\"><div class=\"sk-estimator sk-toggleable\"><input class=\"sk-toggleable__control sk-hidden--visually\" id=\"sk-estimator-id-5\" type=\"checkbox\" ><label for=\"sk-estimator-id-5\" class=\"sk-toggleable__label sk-toggleable__label-arrow\">StandardScaler</label><div class=\"sk-toggleable__content\"><pre>StandardScaler()</pre></div></div></div><div class=\"sk-item\"><div class=\"sk-estimator sk-toggleable\"><input class=\"sk-toggleable__control sk-hidden--visually\" id=\"sk-estimator-id-6\" type=\"checkbox\" ><label for=\"sk-estimator-id-6\" class=\"sk-toggleable__label sk-toggleable__label-arrow\">RidgeClassifier</label><div class=\"sk-toggleable__content\"><pre>RidgeClassifier()</pre></div></div></div></div></div></div></div>"
      ],
      "text/plain": [
       "Pipeline(steps=[('standardscaler', StandardScaler()),\n",
       "                ('ridgeclassifier', RidgeClassifier())])"
      ]
     },
     "execution_count": 37,
     "metadata": {},
     "output_type": "execute_result"
    }
   ],
   "source": [
    "model"
   ]
  },
  {
   "cell_type": "code",
   "execution_count": 38,
   "metadata": {
    "tags": []
   },
   "outputs": [],
   "source": [
    "landmarks = ['predicted_class','probablitiy_of_pred']\n",
    "for val in range(1, num_coords+1):\n",
    "    landmarks += ['x{}'.format(val), 'y{}'.format(val), 'z{}'.format(val), 'v{}'.format(val)]"
   ]
  },
  {
   "cell_type": "code",
   "execution_count": 39,
   "metadata": {},
   "outputs": [],
   "source": [
    "with open('position_estimation_by_frames.csv',mode='w', newline='') as f: \n",
    "    csv_writer = csv.writer(f, delimiter=',', quotechar='\"', quoting=csv.QUOTE_MINIMAL)\n",
    "    csv_writer.writerow(landmarks)"
   ]
  },
  {
   "cell_type": "code",
   "execution_count": 41,
   "metadata": {},
   "outputs": [
    {
     "name": "stdout",
     "output_type": "stream",
     "text": [
      "The video was successfully saved\n"
     ]
    }
   ],
   "source": [
    "# Load Video\n",
    "fn = 'word_h0_01'\n",
    "cap = cv2.VideoCapture(f\"videos/{fn}.mp4\")\n",
    "frame_width = int(cap.get(3))\n",
    "frame_height = int(cap.get(4))\n",
    "\n",
    "size = (frame_width, frame_height)\n",
    "\n",
    "\n",
    "marked_video = cv2.VideoWriter(f'{fn}_marked.avi',cv2.VideoWriter_fourcc(*'MJPG'),30, size)\n",
    "# Initiate holistic model\n",
    "with mp_holistic.Holistic(min_detection_confidence=0.5, min_tracking_confidence=0.5) as holistic:\n",
    "    \n",
    "    while cap.isOpened():\n",
    "        ret, frame = cap.read()\n",
    "        if not ret:\n",
    "            break\n",
    "        # Recolor Feed\n",
    "        image = cv2.cvtColor(frame, cv2.COLOR_BGR2RGB)\n",
    "        results = holistic.process(image)\n",
    "        \n",
    "        \n",
    "        # Recolor image back to BGR for rendering\n",
    "        image.flags.writeable = True   \n",
    "        image = cv2.cvtColor(image, cv2.COLOR_RGB2BGR)\n",
    "        \n",
    "       \n",
    "        # Pose Detections\n",
    "        mp_drawing.draw_landmarks(image, results.pose_landmarks, mp_holistic.POSE_CONNECTIONS, \n",
    "                                 mp_drawing.DrawingSpec(color=(245,117,66), thickness=2, circle_radius=4),\n",
    "                                 mp_drawing.DrawingSpec(color=(245,66,230), thickness=2, circle_radius=2)\n",
    "                                 )\n",
    "                        \n",
    "\n",
    "        # Export coordinates\n",
    "        try:\n",
    "            # Extract Pose landmarks\n",
    "            pose = results.pose_landmarks.landmark\n",
    "            pose_row = list(np.array([[landmark.x, landmark.y, landmark.z] for landmark in pose]).flatten())\n",
    "            row = pose_row\n",
    "            \n",
    "            # Name colls\n",
    "            num_coords = len(results.pose_landmarks.landmark)\n",
    "            col_name = []\n",
    "            for val in range(1, num_coords+1):\n",
    "                col_name += ['x{}'.format(val), 'y{}'.format(val), 'z{}'.format(val)]\n",
    "\n",
    "            # Make Detections\n",
    "            X = pd.DataFrame([row], columns = col_name)\n",
    "            predicted_position = model.predict(X)[0]\n",
    "            position_prob = model.predict_proba(X)[0]\n",
    "            \n",
    "            \n",
    "            # Append prediction class and probability \n",
    "            row.insert(0, predicted_position)\n",
    "            row.insert(1, position_prob)\n",
    "            \n",
    "            \n",
    "            # Write prediction to a CSV\n",
    "            with open('position_estimation_by_frames.csv', mode='a', newline='') as f:\n",
    "                csv_writer = csv.writer(f, delimiter=',', quotechar='\"', quoting=csv.QUOTE_MINIMAL)\n",
    "                csv_writer.writerow(row)\n",
    "                \n",
    "                \n",
    "            # Write prediction on video\n",
    "            font = cv2.FONT_HERSHEY_SIMPLEX\n",
    "            \n",
    "            # Get status box\n",
    "            cv2.rectangle(image, (0,0), (250, 60), (245, 117, 16), -1)\n",
    "            \n",
    "            # Display Class\n",
    "            cv2.putText(image, 'Pred Position',\n",
    "                         (95,12), font, 0.5, (0, 0, 0), 1, cv2.LINE_AA)\n",
    "            cv2.putText(image, predicted_position,\n",
    "                         (90,40), font, 1, (255, 255, 255), 2, cv2.LINE_AA)\n",
    "                    \n",
    "            \n",
    "            # Display Probability\n",
    "            cv2.putText(image, 'PROB'\n",
    "                        , (15,12), font, 0.5, (0, 0, 0), 1, cv2.LINE_AA)\n",
    "            cv2.putText(image, str(round(predicted_position[np.argmax(position_prob)],2))\n",
    "                        , (10,40), font, 1, (255, 255, 255), 2, cv2.LINE_AA)\n",
    "            \n",
    "            \n",
    "            \n",
    "        except:\n",
    "            pass\n",
    "\n",
    "\n",
    "        cv2.imshow('cued_estimated', image)\n",
    "        marked_video.write(image)\n",
    "\n",
    "\n",
    "        if cv2.waitKey(10) & 0xFF == ord('q'):\n",
    "            break\n",
    "\n",
    "\n",
    "marked_video.release()\n",
    "cap.release()\n",
    "cv2.destroyAllWindows()\n",
    "print(\"The video was successfully saved\")"
   ]
  },
  {
   "cell_type": "code",
   "execution_count": null,
   "metadata": {},
   "outputs": [],
   "source": [
    "\n",
    "#Syntax: cv2.rectangle(image, start_point, end_point, color, thickness)\n",
    "#Syntax: cv2.putText(image, text, org, font, fontScale, color[, thickness[, lineType[, bottomLeftOrigin]]])\n",
    "# Write prediction on video\n",
    "            font = cv2.FONT_HERSHEY_SIMPLEX\n",
    "           \n",
    "            \n",
    "            # Get status box\n",
    "            cv2.rectangle(image, (0,0), (250, 60), (245, 117, 16), -1)\n",
    "            \n",
    "            # Display Class\n",
    "            cv2.putText(image, 'Pred Position'\n",
    "                        , (95,12), font, 0.5, (0, 0, 0), 1, cv2.LINE_AA)\n",
    "            cv2.putText(image, predicted_position,\n",
    "                        , (90,40), font, 1, (255, 255, 255), 2, cv2.LINE_AA)\n",
    "                    \n",
    "            \n",
    "            # Display Probability\n",
    "            cv2.putText(image, 'PROB'\n",
    "                        , (15,12), font, 0.5, (0, 0, 0), 1, cv2.LINE_AA)\n",
    "            cv2.putText(image, str(round(predicted_position[np.argmax(position_prob)],2))\n",
    "                        , (10,40), font, 1, (255, 255, 255), 2, cv2.LINE_AA)\n",
    "            \n",
    "            \n",
    "            marked_video.release()\n",
    "\n",
    "            "
   ]
  }
 ],
 "metadata": {
  "kernelspec": {
   "display_name": "Python 3 (ipykernel)",
   "language": "python",
   "name": "python3"
  },
  "language_info": {
   "codemirror_mode": {
    "name": "ipython",
    "version": 3
   },
   "file_extension": ".py",
   "mimetype": "text/x-python",
   "name": "python",
   "nbconvert_exporter": "python",
   "pygments_lexer": "ipython3",
   "version": "3.10.4"
  }
 },
 "nbformat": 4,
 "nbformat_minor": 4
}
