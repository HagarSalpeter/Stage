{
 "cells": [
  {
   "cell_type": "code",
   "execution_count": 7,
   "id": "cd177964",
   "metadata": {},
   "outputs": [
    {
     "name": "stdout",
     "output_type": "stream",
     "text": [
      "Requirement already satisfied: moviepy in c:\\users\\hagar\\anaconda3\\lib\\site-packages (1.0.0)\n",
      "Requirement already satisfied: proglog<=1.0.0 in c:\\users\\hagar\\anaconda3\\lib\\site-packages (from moviepy) (0.1.9)\n",
      "Requirement already satisfied: decorator<5.0,>=4.0.2 in c:\\users\\hagar\\anaconda3\\lib\\site-packages (from moviepy) (4.4.2)\n",
      "Requirement already satisfied: imageio<3.0,>=2.5 in c:\\users\\hagar\\anaconda3\\lib\\site-packages (from moviepy) (2.9.0)\n",
      "Requirement already satisfied: tqdm<5.0,>=4.11.2 in c:\\users\\hagar\\anaconda3\\lib\\site-packages (from moviepy) (4.62.3)\n",
      "Requirement already satisfied: requests<3.0,>=2.8.1 in c:\\users\\hagar\\anaconda3\\lib\\site-packages (from moviepy) (2.26.0)\n",
      "Requirement already satisfied: numpy in c:\\users\\hagar\\anaconda3\\lib\\site-packages (from moviepy) (1.20.3)\n",
      "Requirement already satisfied: imageio-ffmpeg>=0.2.0 in c:\\users\\hagar\\anaconda3\\lib\\site-packages (from moviepy) (0.4.7)\n",
      "Requirement already satisfied: pillow in c:\\users\\hagar\\anaconda3\\lib\\site-packages (from imageio<3.0,>=2.5->moviepy) (8.4.0)\n",
      "Requirement already satisfied: urllib3<1.27,>=1.21.1 in c:\\users\\hagar\\anaconda3\\lib\\site-packages (from requests<3.0,>=2.8.1->moviepy) (1.26.7)\n",
      "Requirement already satisfied: idna<4,>=2.5 in c:\\users\\hagar\\anaconda3\\lib\\site-packages (from requests<3.0,>=2.8.1->moviepy) (3.2)\n",
      "Requirement already satisfied: certifi>=2017.4.17 in c:\\users\\hagar\\anaconda3\\lib\\site-packages (from requests<3.0,>=2.8.1->moviepy) (2021.10.8)\n",
      "Requirement already satisfied: charset-normalizer~=2.0.0 in c:\\users\\hagar\\anaconda3\\lib\\site-packages (from requests<3.0,>=2.8.1->moviepy) (2.0.4)\n",
      "Requirement already satisfied: colorama in c:\\users\\hagar\\anaconda3\\lib\\site-packages (from tqdm<5.0,>=4.11.2->moviepy) (0.4.4)\n",
      "Requirement already satisfied: moviepy in c:\\users\\hagar\\anaconda3\\lib\\site-packages (1.0.0)\n",
      "Collecting moviepy\n",
      "  Using cached moviepy-1.0.3-py3-none-any.whl\n",
      "Requirement already satisfied: tqdm<5.0,>=4.11.2 in c:\\users\\hagar\\anaconda3\\lib\\site-packages (from moviepy) (4.62.3)\n",
      "Requirement already satisfied: numpy>=1.17.3 in c:\\users\\hagar\\anaconda3\\lib\\site-packages (from moviepy) (1.20.3)\n",
      "Requirement already satisfied: requests<3.0,>=2.8.1 in c:\\users\\hagar\\anaconda3\\lib\\site-packages (from moviepy) (2.26.0)\n",
      "Requirement already satisfied: proglog<=1.0.0 in c:\\users\\hagar\\anaconda3\\lib\\site-packages (from moviepy) (0.1.9)\n",
      "Requirement already satisfied: decorator<5.0,>=4.0.2 in c:\\users\\hagar\\anaconda3\\lib\\site-packages (from moviepy) (4.4.2)\n",
      "Requirement already satisfied: imageio<3.0,>=2.5 in c:\\users\\hagar\\anaconda3\\lib\\site-packages (from moviepy) (2.9.0)\n",
      "Requirement already satisfied: imageio-ffmpeg>=0.2.0 in c:\\users\\hagar\\anaconda3\\lib\\site-packages (from moviepy) (0.4.7)\n",
      "Requirement already satisfied: pillow in c:\\users\\hagar\\anaconda3\\lib\\site-packages (from imageio<3.0,>=2.5->moviepy) (8.4.0)\n",
      "Requirement already satisfied: idna<4,>=2.5 in c:\\users\\hagar\\anaconda3\\lib\\site-packages (from requests<3.0,>=2.8.1->moviepy) (3.2)\n",
      "Requirement already satisfied: certifi>=2017.4.17 in c:\\users\\hagar\\anaconda3\\lib\\site-packages (from requests<3.0,>=2.8.1->moviepy) (2021.10.8)\n",
      "Requirement already satisfied: urllib3<1.27,>=1.21.1 in c:\\users\\hagar\\anaconda3\\lib\\site-packages (from requests<3.0,>=2.8.1->moviepy) (1.26.7)\n",
      "Requirement already satisfied: charset-normalizer~=2.0.0 in c:\\users\\hagar\\anaconda3\\lib\\site-packages (from requests<3.0,>=2.8.1->moviepy) (2.0.4)\n",
      "Requirement already satisfied: colorama in c:\\users\\hagar\\anaconda3\\lib\\site-packages (from tqdm<5.0,>=4.11.2->moviepy) (0.4.4)\n",
      "Installing collected packages: moviepy\n",
      "  Attempting uninstall: moviepy\n",
      "    Found existing installation: moviepy 1.0.0\n",
      "    Uninstalling moviepy-1.0.0:\n",
      "      Successfully uninstalled moviepy-1.0.0\n",
      "Successfully installed moviepy-1.0.3\n",
      "Requirement already satisfied: pygame in c:\\users\\hagar\\anaconda3\\lib\\site-packages (2.1.2)\n"
     ]
    }
   ],
   "source": [
    "#installation\n",
    "\n",
    "!pip install moviepy\n",
    "!pip install moviepy --upgrade\n",
    "!pip install pygame\n",
    "\n"
   ]
  },
  {
   "cell_type": "code",
   "execution_count": 8,
   "id": "dc42db8a",
   "metadata": {},
   "outputs": [],
   "source": [
    "from moviepy.editor import *\n",
    "import moviepy.video.fx.all as vfx\n",
    "from moviepy.editor import VideoFileClip\n",
    "import os"
   ]
  },
  {
   "cell_type": "code",
   "execution_count": 9,
   "id": "64c3a088",
   "metadata": {},
   "outputs": [],
   "source": [
    "#THESE ARE JUST FOR TEST, PLEASE IGNOR\n",
    "\n",
    "#video = VideoFileClip(r\"C:\\Users\\hagar\\OneDrive - mail.tau.ac.il\\Desktop\\CUSTIME videos\\word_h0_01.mp4\")\n",
    "# original video size is w=1920,h=1080\n",
    "\n",
    "def adjust_video_f(filename, dst):\n",
    "    clip = VideoFileClip(filename)\n",
    "    new_clip = (clip).fx(vfx.colorx, 1.3).fx(vfx.lum_contrast, 15, 0, 150)\n",
    "    new_clip = new_clip.crop(x1=400, y1=200, x2=1400, y2=950)\n",
    "    #new_clip = new_clip.fadein(0.1, [224, 201, 157])\n",
    "    #new_clip = new_clip.fadein(0.1, [132, 116, 92])\n",
    "    #new_clip = new_clip.fadein(0.3, [140,125,94]) \n",
    "    new_clip = new_clip.fadein(0.3, [159,145,107])\n",
    "    #new_clip = new_clip.fadeout( 0.1, [224, 201, 157]) #took the RGB from: https://imagecolorpicker.com/color-code/e0c99d\n",
    "    #new_clip = new_clip.fadeout(0.1, [132, 116, 92])\n",
    "    #new_clip = new_clip.fadeout(0.3, [140,125,94])\n",
    "    new_clip = new_clip.fadeout(0.3, [159,145,107])\n",
    "    no_audio_clip = new_clip.without_audio()\n",
    "    no_audio_clip.write_videofile(os.path.join(dst,os.path.basename(filename)))\n",
    "    return no_audio_clip.duration #the function returns the duration of the video\n",
    "\n",
    "\n",
    "\n",
    "def adjust_video_m(filename, dst):\n",
    "    clip = VideoFileClip(filename)\n",
    "    new_clip = (clip).fx(vfx.colorx, 1.3).fx(vfx.lum_contrast, 15, 0, 150)\n",
    "    new_clip = new_clip.crop(x1=500, y1=100, x2=1650, y2=950)\n",
    "    #new_clip = new_clip.fadein(0.3, [224, 201, 157])\n",
    "    new_clip = new_clip.fadein(0.3, [132, 116, 92])\n",
    "    #new_clip = new_clip.fadeout( 0.3, [224, 201, 157]) #took the RGB from: https://imagecolorpicker.com/color-code/e0c99d\n",
    "    new_clip = new_clip.fadeout(0.3, [132, 116, 92])\n",
    "    no_audio_clip = new_clip.without_audio()\n",
    "    no_audio_clip.write_videofile(os.path.join(dst,os.path.basename(filename)))\n",
    "    return no_audio_clip.duration #the function returns the duration of the video\n",
    "\n",
    "\n",
    "def dur(filename):\n",
    "    clip = VideoFileClip(filename)\n",
    "    return clip.duration\n"
   ]
  },
  {
   "cell_type": "code",
   "execution_count": 10,
   "id": "ee850338",
   "metadata": {},
   "outputs": [],
   "source": [
    "#clean version - Use this one \n",
    "\n",
    "\n",
    "def adjust_video(filename, dst):\n",
    "    clip = VideoFileClip(filename)\n",
    "    new_clip = (clip).fx(vfx.colorx, 1.3).fx(vfx.lum_contrast, 15, 0, 150) #adjusting the colors\n",
    "    new_clip = new_clip.fadein(0.2, [224, 201, 157]) # the first parameter is the time of the fae in/out, took the RGB from: https://imagecolorpicker.com/color-code/e0c99d\n",
    "    new_clip = new_clip.fadeout(0.2, [224, 201, 157])\n",
    "    no_audio_clip = new_clip.without_audio()\n",
    "    no_audio_clip.write_videofile(os.path.join(dst,os.path.basename(filename)))\n",
    "    return no_audio_clip.duration #the function returns the duration of the video\n",
    "\n"
   ]
  },
  {
   "cell_type": "code",
   "execution_count": 11,
   "id": "87f0b3d0",
   "metadata": {},
   "outputs": [],
   "source": [
    "#get the time of the video\n",
    "src = r'C:\\Users\\hagar\\OneDrive - mail.tau.ac.il\\Desktop\\CUSTIME videos\\CUSTIME sentences\\finalcut' #path of the video to adjust\n",
    "dst = r\"C:\\Users\\hagar\\OneDrive - mail.tau.ac.il\\Desktop\\CUSTIME videos\\CUSTIME sentences\\after_crop\" #path of the destenation file you want to save the adjusted video to \n"
   ]
  },
  {
   "cell_type": "code",
   "execution_count": null,
   "id": "4c9e3aae",
   "metadata": {},
   "outputs": [],
   "source": [
    "#GET TIME OD SPESIFIC VIDEO\n",
    "time = dur(src)\n",
    "\n",
    "print(time)"
   ]
  },
  {
   "cell_type": "code",
   "execution_count": 38,
   "id": "26aff4d0",
   "metadata": {
    "scrolled": false
   },
   "outputs": [
    {
     "name": "stderr",
     "output_type": "stream",
     "text": [
      "t:   1%|          | 2/249 [00:55<01:17,  3.20it/s, now=None]"
     ]
    },
    {
     "name": "stdout",
     "output_type": "stream",
     "text": [
      "Moviepy - Building video C:\\Users\\hagar\\OneDrive - mail.tau.ac.il\\Desktop\\CUSTIME videos\\CUSTIME sentences\\after_crop\\sent_01.mp4.\n",
      "Moviepy - Writing video C:\\Users\\hagar\\OneDrive - mail.tau.ac.il\\Desktop\\CUSTIME videos\\CUSTIME sentences\\after_crop\\sent_01.mp4\n",
      "\n"
     ]
    },
    {
     "name": "stderr",
     "output_type": "stream",
     "text": [
      "\n",
      "t:   0%|          | 0/249 [00:00<?, ?it/s, now=None]\u001b[A\n",
      "t:   1%|          | 2/249 [00:00<01:14,  3.30it/s, now=None]\u001b[A\n",
      "t:   1%|          | 3/249 [00:01<01:53,  2.17it/s, now=None]\u001b[A\n",
      "t:   2%|▏         | 4/249 [00:01<02:04,  1.97it/s, now=None]\u001b[A\n",
      "t:   2%|▏         | 5/249 [00:02<02:12,  1.85it/s, now=None]\u001b[A\n",
      "t:   2%|▏         | 6/249 [00:03<02:16,  1.78it/s, now=None]\u001b[A\n",
      "t:   3%|▎         | 7/249 [00:03<02:20,  1.72it/s, now=None]\u001b[A\n",
      "t:   3%|▎         | 8/249 [00:04<02:23,  1.68it/s, now=None]\u001b[A\n",
      "t:   4%|▎         | 9/249 [00:04<02:14,  1.78it/s, now=None]\u001b[A\n",
      "t:   4%|▍         | 10/249 [00:05<02:09,  1.85it/s, now=None]\u001b[A\n",
      "t:   4%|▍         | 11/249 [00:05<02:12,  1.80it/s, now=None]\u001b[A\n",
      "t:   5%|▍         | 12/249 [00:06<02:06,  1.87it/s, now=None]\u001b[A\n",
      "t:   5%|▌         | 13/249 [00:06<02:03,  1.91it/s, now=None]\u001b[A\n",
      "t:   6%|▌         | 14/249 [00:07<02:00,  1.96it/s, now=None]\u001b[A\n",
      "t:   6%|▌         | 15/249 [00:08<02:16,  1.72it/s, now=None]\u001b[A\n",
      "t:   6%|▋         | 16/249 [00:08<02:30,  1.55it/s, now=None]\u001b[A\n",
      "t:   7%|▋         | 17/249 [00:09<02:19,  1.66it/s, now=None]\u001b[A\n",
      "t:   7%|▋         | 18/249 [00:09<02:17,  1.69it/s, now=None]\u001b[A\n",
      "t:   8%|▊         | 19/249 [00:10<02:13,  1.72it/s, now=None]\u001b[A\n",
      "t:   8%|▊         | 20/249 [00:11<02:07,  1.79it/s, now=None]\u001b[A\n",
      "t:   8%|▊         | 21/249 [00:11<02:03,  1.85it/s, now=None]\u001b[A\n",
      "t:   9%|▉         | 22/249 [00:12<01:58,  1.91it/s, now=None]\u001b[A\n",
      "t:   9%|▉         | 23/249 [00:12<01:54,  1.97it/s, now=None]\u001b[A\n",
      "t:  10%|▉         | 24/249 [00:12<01:52,  2.00it/s, now=None]\u001b[A\n",
      "t:  10%|█         | 25/249 [00:13<01:54,  1.95it/s, now=None]\u001b[A\n",
      "t:  10%|█         | 26/249 [00:14<01:54,  1.94it/s, now=None]\u001b[A\n",
      "t:  11%|█         | 27/249 [00:14<01:50,  2.01it/s, now=None]\u001b[A\n",
      "t:  11%|█         | 28/249 [00:14<01:48,  2.04it/s, now=None]\u001b[A\n",
      "t:  12%|█▏        | 29/249 [00:15<01:47,  2.05it/s, now=None]\u001b[A\n",
      "t:  12%|█▏        | 30/249 [00:15<01:49,  2.01it/s, now=None]\u001b[A\n",
      "t:  12%|█▏        | 31/249 [00:16<01:54,  1.90it/s, now=None]\u001b[A\n",
      "t:  13%|█▎        | 32/249 [00:17<01:50,  1.97it/s, now=None]\u001b[A\n",
      "t:  13%|█▎        | 33/249 [00:17<01:49,  1.97it/s, now=None]\u001b[A\n",
      "t:  14%|█▎        | 34/249 [00:18<01:48,  1.99it/s, now=None]\u001b[A\n",
      "t:  14%|█▍        | 35/249 [00:18<01:46,  2.01it/s, now=None]\u001b[A\n",
      "t:  14%|█▍        | 36/249 [00:18<01:44,  2.04it/s, now=None]\u001b[A\n",
      "t:  15%|█▍        | 37/249 [00:19<01:45,  2.00it/s, now=None]\u001b[A\n",
      "t:  15%|█▌        | 38/249 [00:19<01:43,  2.04it/s, now=None]\u001b[A\n",
      "t:  16%|█▌        | 39/249 [00:20<01:42,  2.05it/s, now=None]\u001b[A\n",
      "t:  16%|█▌        | 40/249 [00:21<01:45,  1.98it/s, now=None]\u001b[A\n",
      "t:  16%|█▋        | 41/249 [00:21<01:53,  1.83it/s, now=None]\u001b[A\n",
      "t:  17%|█▋        | 42/249 [00:22<02:02,  1.69it/s, now=None]\u001b[A\n",
      "t:  17%|█▋        | 43/249 [00:23<02:13,  1.55it/s, now=None]\u001b[A\n",
      "t:  18%|█▊        | 44/249 [00:23<02:15,  1.51it/s, now=None]\u001b[A\n",
      "t:  18%|█▊        | 45/249 [00:24<02:15,  1.51it/s, now=None]\u001b[A\n",
      "t:  18%|█▊        | 46/249 [00:25<02:18,  1.46it/s, now=None]\u001b[A\n",
      "t:  19%|█▉        | 47/249 [00:25<02:17,  1.47it/s, now=None]\u001b[A\n",
      "t:  19%|█▉        | 48/249 [00:26<02:16,  1.47it/s, now=None]\u001b[A\n",
      "t:  20%|█▉        | 49/249 [00:27<02:17,  1.45it/s, now=None]\u001b[A\n",
      "t:  20%|██        | 50/249 [00:28<02:25,  1.36it/s, now=None]\u001b[A\n",
      "t:  20%|██        | 51/249 [00:29<02:37,  1.26it/s, now=None]\u001b[A\n",
      "t:  21%|██        | 52/249 [00:29<02:41,  1.22it/s, now=None]\u001b[A\n",
      "t:  21%|██▏       | 53/249 [00:30<02:51,  1.14it/s, now=None]\u001b[A\n",
      "t:  22%|██▏       | 54/249 [00:31<02:57,  1.10it/s, now=None]\u001b[A\n",
      "t:  22%|██▏       | 55/249 [00:32<02:55,  1.10it/s, now=None]\u001b[A\n",
      "t:  22%|██▏       | 56/249 [00:33<02:59,  1.07it/s, now=None]\u001b[A\n",
      "t:  23%|██▎       | 57/249 [00:34<03:10,  1.01it/s, now=None]\u001b[A\n",
      "t:  23%|██▎       | 58/249 [00:36<03:15,  1.02s/it, now=None]\u001b[A\n",
      "t:  24%|██▎       | 59/249 [00:37<03:19,  1.05s/it, now=None]\u001b[A\n",
      "t:  24%|██▍       | 60/249 [00:38<03:11,  1.01s/it, now=None]\u001b[A\n",
      "t:  24%|██▍       | 61/249 [00:38<03:01,  1.04it/s, now=None]\u001b[A\n",
      "t:  25%|██▍       | 62/249 [00:39<02:54,  1.07it/s, now=None]\u001b[A\n",
      "t:  25%|██▌       | 63/249 [00:40<02:44,  1.13it/s, now=None]\u001b[A\n",
      "t:  26%|██▌       | 64/249 [00:41<02:32,  1.21it/s, now=None]\u001b[A\n",
      "t:  26%|██▌       | 65/249 [00:41<02:23,  1.29it/s, now=None]\u001b[A\n",
      "t:  27%|██▋       | 66/249 [00:42<02:14,  1.36it/s, now=None]\u001b[A\n",
      "t:  27%|██▋       | 67/249 [00:43<02:11,  1.39it/s, now=None]\u001b[A\n",
      "t:  27%|██▋       | 68/249 [00:43<02:06,  1.43it/s, now=None]\u001b[A\n",
      "t:  28%|██▊       | 69/249 [00:44<02:04,  1.45it/s, now=None]\u001b[A\n",
      "t:  28%|██▊       | 70/249 [00:45<02:03,  1.45it/s, now=None]\u001b[A\n",
      "t:  29%|██▊       | 71/249 [00:45<02:01,  1.46it/s, now=None]\u001b[A\n",
      "t:  29%|██▉       | 72/249 [00:46<02:02,  1.45it/s, now=None]\u001b[A\n",
      "t:  29%|██▉       | 73/249 [00:47<02:01,  1.44it/s, now=None]\u001b[A\n",
      "t:  30%|██▉       | 74/249 [00:48<02:00,  1.45it/s, now=None]\u001b[A\n",
      "t:  30%|███       | 75/249 [00:48<01:58,  1.47it/s, now=None]\u001b[A\n",
      "t:  31%|███       | 76/249 [00:49<01:55,  1.50it/s, now=None]\u001b[A\n",
      "t:  31%|███       | 77/249 [00:49<01:54,  1.50it/s, now=None]\u001b[A\n",
      "t:  31%|███▏      | 78/249 [00:50<01:59,  1.43it/s, now=None]\u001b[A\n",
      "t:  32%|███▏      | 79/249 [00:51<02:05,  1.35it/s, now=None]\u001b[A\n",
      "t:  32%|███▏      | 80/249 [00:52<02:10,  1.29it/s, now=None]\u001b[A\n",
      "t:  33%|███▎      | 81/249 [00:53<02:18,  1.21it/s, now=None]\u001b[A\n",
      "t:  33%|███▎      | 82/249 [00:54<02:20,  1.19it/s, now=None]\u001b[A\n",
      "t:  33%|███▎      | 83/249 [00:55<02:21,  1.18it/s, now=None]\u001b[A\n",
      "t:  34%|███▎      | 84/249 [00:55<02:20,  1.18it/s, now=None]\u001b[A\n",
      "t:  34%|███▍      | 85/249 [00:56<02:17,  1.20it/s, now=None]\u001b[A\n",
      "t:  35%|███▍      | 86/249 [00:57<02:09,  1.25it/s, now=None]\u001b[A\n",
      "t:  35%|███▍      | 87/249 [00:58<02:02,  1.33it/s, now=None]\u001b[A\n",
      "t:  35%|███▌      | 88/249 [00:58<01:57,  1.37it/s, now=None]\u001b[A\n",
      "t:  36%|███▌      | 89/249 [00:59<01:54,  1.39it/s, now=None]\u001b[A\n",
      "t:  36%|███▌      | 90/249 [01:00<01:51,  1.43it/s, now=None]\u001b[A\n",
      "t:  37%|███▋      | 91/249 [01:00<01:46,  1.48it/s, now=None]\u001b[A\n",
      "t:  37%|███▋      | 92/249 [01:01<01:43,  1.52it/s, now=None]\u001b[A\n",
      "t:  37%|███▋      | 93/249 [01:02<01:42,  1.53it/s, now=None]\u001b[A\n",
      "t:  38%|███▊      | 94/249 [01:02<01:39,  1.56it/s, now=None]\u001b[A\n",
      "t:  38%|███▊      | 95/249 [01:03<01:36,  1.60it/s, now=None]\u001b[A\n",
      "t:  39%|███▊      | 96/249 [01:03<01:34,  1.63it/s, now=None]\u001b[A\n",
      "t:  39%|███▉      | 97/249 [01:04<01:32,  1.64it/s, now=None]\u001b[A\n",
      "t:  39%|███▉      | 98/249 [01:04<01:30,  1.67it/s, now=None]\u001b[A\n",
      "t:  40%|███▉      | 99/249 [01:05<01:28,  1.69it/s, now=None]\u001b[A\n",
      "t:  40%|████      | 100/249 [01:06<01:28,  1.68it/s, now=None]\u001b[A\n",
      "t:  41%|████      | 101/249 [01:06<01:32,  1.60it/s, now=None]\u001b[A\n",
      "t:  41%|████      | 102/249 [01:07<01:33,  1.57it/s, now=None]\u001b[A\n",
      "t:  41%|████▏     | 103/249 [01:08<01:34,  1.54it/s, now=None]\u001b[A\n",
      "t:  42%|████▏     | 104/249 [01:08<01:32,  1.56it/s, now=None]\u001b[A\n",
      "t:  42%|████▏     | 105/249 [01:09<01:31,  1.58it/s, now=None]\u001b[A\n",
      "t:  43%|████▎     | 106/249 [01:10<01:28,  1.61it/s, now=None]\u001b[A\n",
      "t:  43%|████▎     | 107/249 [01:10<01:28,  1.60it/s, now=None]\u001b[A\n",
      "t:  43%|████▎     | 108/249 [01:11<01:37,  1.45it/s, now=None]\u001b[A\n",
      "t:  44%|████▍     | 109/249 [01:12<01:37,  1.43it/s, now=None]\u001b[A\n",
      "t:  44%|████▍     | 110/249 [01:12<01:33,  1.49it/s, now=None]\u001b[A\n",
      "t:  45%|████▍     | 111/249 [01:13<01:28,  1.56it/s, now=None]\u001b[A\n",
      "t:  45%|████▍     | 112/249 [01:14<01:26,  1.59it/s, now=None]\u001b[A\n",
      "t:  45%|████▌     | 113/249 [01:14<01:24,  1.61it/s, now=None]\u001b[A\n",
      "t:  46%|████▌     | 114/249 [01:15<01:24,  1.59it/s, now=None]\u001b[A\n",
      "t:  46%|████▌     | 115/249 [01:15<01:24,  1.59it/s, now=None]\u001b[A\n",
      "t:  47%|████▋     | 116/249 [01:16<01:23,  1.59it/s, now=None]\u001b[A\n",
      "t:  47%|████▋     | 117/249 [01:17<01:22,  1.59it/s, now=None]\u001b[A\n",
      "t:  47%|████▋     | 118/249 [01:17<01:21,  1.60it/s, now=None]\u001b[A\n",
      "t:  48%|████▊     | 119/249 [01:18<01:18,  1.65it/s, now=None]\u001b[A\n",
      "t:  48%|████▊     | 120/249 [01:18<01:17,  1.67it/s, now=None]\u001b[A\n",
      "t:  49%|████▊     | 121/249 [01:19<01:16,  1.67it/s, now=None]\u001b[A\n",
      "t:  49%|████▉     | 122/249 [01:20<01:15,  1.69it/s, now=None]\u001b[A\n",
      "t:  49%|████▉     | 123/249 [01:20<01:13,  1.72it/s, now=None]\u001b[A\n",
      "t:  50%|████▉     | 124/249 [01:21<01:13,  1.70it/s, now=None]\u001b[A\n",
      "t:  50%|█████     | 125/249 [01:21<01:12,  1.70it/s, now=None]\u001b[A\n",
      "t:  51%|█████     | 126/249 [01:22<01:15,  1.62it/s, now=None]\u001b[A\n",
      "t:  51%|█████     | 127/249 [01:23<01:17,  1.58it/s, now=None]\u001b[A\n",
      "t:  51%|█████▏    | 128/249 [01:23<01:19,  1.51it/s, now=None]\u001b[A\n",
      "t:  52%|█████▏    | 129/249 [01:24<01:18,  1.53it/s, now=None]\u001b[A\n",
      "t:  52%|█████▏    | 130/249 [01:25<01:15,  1.58it/s, now=None]\u001b[A\n",
      "t:  53%|█████▎    | 131/249 [01:25<01:13,  1.62it/s, now=None]\u001b[A\n",
      "t:  53%|█████▎    | 132/249 [01:26<01:10,  1.65it/s, now=None]\u001b[A\n",
      "t:  53%|█████▎    | 133/249 [01:26<01:09,  1.68it/s, now=None]\u001b[A\n",
      "t:  54%|█████▍    | 134/249 [01:27<01:07,  1.70it/s, now=None]\u001b[A\n",
      "t:  54%|█████▍    | 135/249 [01:27<01:06,  1.73it/s, now=None]\u001b[A\n",
      "t:  55%|█████▍    | 136/249 [01:28<01:04,  1.74it/s, now=None]\u001b[A\n",
      "t:  55%|█████▌    | 137/249 [01:29<01:04,  1.73it/s, now=None]\u001b[A\n",
      "t:  55%|█████▌    | 138/249 [01:29<01:03,  1.74it/s, now=None]\u001b[A\n",
      "t:  56%|█████▌    | 139/249 [01:30<01:03,  1.75it/s, now=None]\u001b[A\n",
      "t:  56%|█████▌    | 140/249 [01:30<01:03,  1.72it/s, now=None]\u001b[A\n",
      "t:  57%|█████▋    | 141/249 [01:31<01:02,  1.72it/s, now=None]\u001b[A\n",
      "t:  57%|█████▋    | 142/249 [01:32<01:01,  1.73it/s, now=None]\u001b[A\n",
      "t:  57%|█████▋    | 143/249 [01:32<01:00,  1.75it/s, now=None]\u001b[A\n",
      "t:  58%|█████▊    | 144/249 [01:33<00:59,  1.76it/s, now=None]\u001b[A\n",
      "t:  58%|█████▊    | 145/249 [01:33<01:02,  1.68it/s, now=None]\u001b[A\n",
      "t:  59%|█████▊    | 146/249 [01:34<01:03,  1.63it/s, now=None]\u001b[A\n",
      "t:  59%|█████▉    | 147/249 [01:35<01:01,  1.66it/s, now=None]\u001b[A\n",
      "t:  59%|█████▉    | 148/249 [01:35<01:00,  1.66it/s, now=None]\u001b[A\n",
      "t:  60%|█████▉    | 149/249 [01:36<00:59,  1.67it/s, now=None]\u001b[A\n",
      "t:  60%|██████    | 150/249 [01:36<00:58,  1.70it/s, now=None]\u001b[A\n",
      "t:  61%|██████    | 151/249 [01:37<00:56,  1.73it/s, now=None]\u001b[A\n",
      "t:  61%|██████    | 152/249 [01:37<00:56,  1.71it/s, now=None]\u001b[A\n",
      "t:  61%|██████▏   | 153/249 [01:38<00:58,  1.64it/s, now=None]\u001b[A\n",
      "t:  62%|██████▏   | 154/249 [01:39<00:59,  1.60it/s, now=None]\u001b[A\n",
      "t:  62%|██████▏   | 155/249 [01:39<00:59,  1.59it/s, now=None]\u001b[A\n",
      "t:  63%|██████▎   | 156/249 [01:40<00:58,  1.59it/s, now=None]\u001b[A\n",
      "t:  63%|██████▎   | 157/249 [01:41<00:56,  1.62it/s, now=None]\u001b[A\n",
      "t:  63%|██████▎   | 158/249 [01:41<00:55,  1.64it/s, now=None]\u001b[A\n",
      "t:  64%|██████▍   | 159/249 [01:42<00:52,  1.71it/s, now=None]\u001b[A\n",
      "t:  64%|██████▍   | 160/249 [01:42<00:52,  1.69it/s, now=None]\u001b[A\n",
      "t:  65%|██████▍   | 161/249 [01:43<00:51,  1.71it/s, now=None]\u001b[A\n",
      "t:  65%|██████▌   | 162/249 [01:43<00:50,  1.73it/s, now=None]\u001b[A\n",
      "t:  65%|██████▌   | 163/249 [01:44<00:49,  1.75it/s, now=None]\u001b[A\n",
      "t:  66%|██████▌   | 164/249 [01:45<00:49,  1.70it/s, now=None]\u001b[A\n",
      "t:  66%|██████▋   | 165/249 [01:45<00:48,  1.73it/s, now=None]\u001b[A\n",
      "t:  67%|██████▋   | 166/249 [01:46<00:48,  1.72it/s, now=None]\u001b[A\n",
      "t:  67%|██████▋   | 167/249 [01:46<00:47,  1.73it/s, now=None]\u001b[A\n",
      "t:  67%|██████▋   | 168/249 [01:47<00:46,  1.76it/s, now=None]\u001b[A\n",
      "t:  68%|██████▊   | 169/249 [01:48<00:45,  1.75it/s, now=None]\u001b[A\n",
      "t:  68%|██████▊   | 170/249 [01:48<00:46,  1.72it/s, now=None]\u001b[A\n",
      "t:  69%|██████▊   | 171/249 [01:49<00:45,  1.73it/s, now=None]\u001b[A\n",
      "t:  69%|██████▉   | 172/249 [01:49<00:44,  1.74it/s, now=None]\u001b[A\n",
      "t:  69%|██████▉   | 173/249 [01:50<00:43,  1.76it/s, now=None]\u001b[A\n",
      "t:  70%|██████▉   | 174/249 [01:50<00:43,  1.73it/s, now=None]\u001b[A\n",
      "t:  70%|███████   | 175/249 [01:51<00:42,  1.72it/s, now=None]\u001b[A\n",
      "t:  71%|███████   | 176/249 [01:52<00:42,  1.73it/s, now=None]\u001b[A\n",
      "t:  71%|███████   | 177/249 [01:52<00:42,  1.70it/s, now=None]\u001b[A\n",
      "t:  71%|███████▏  | 178/249 [01:53<00:41,  1.69it/s, now=None]\u001b[A\n",
      "t:  72%|███████▏  | 179/249 [01:53<00:41,  1.70it/s, now=None]\u001b[A\n",
      "t:  72%|███████▏  | 180/249 [01:54<00:41,  1.65it/s, now=None]\u001b[A\n",
      "t:  73%|███████▎  | 181/249 [01:55<00:42,  1.61it/s, now=None]\u001b[A\n",
      "t:  73%|███████▎  | 182/249 [01:55<00:42,  1.56it/s, now=None]\u001b[A\n",
      "t:  73%|███████▎  | 183/249 [01:56<00:42,  1.57it/s, now=None]\u001b[A\n",
      "t:  74%|███████▍  | 184/249 [01:57<00:41,  1.55it/s, now=None]\u001b[A\n",
      "t:  74%|███████▍  | 185/249 [01:57<00:41,  1.55it/s, now=None]\u001b[A\n",
      "t:  75%|███████▍  | 186/249 [01:58<00:40,  1.57it/s, now=None]\u001b[A\n",
      "t:  75%|███████▌  | 187/249 [01:59<00:38,  1.60it/s, now=None]\u001b[A\n",
      "t:  76%|███████▌  | 188/249 [01:59<00:37,  1.62it/s, now=None]\u001b[A\n",
      "t:  76%|███████▌  | 189/249 [02:00<00:35,  1.69it/s, now=None]\u001b[A\n",
      "t:  76%|███████▋  | 190/249 [02:00<00:35,  1.68it/s, now=None]\u001b[A\n",
      "t:  77%|███████▋  | 191/249 [02:01<00:34,  1.69it/s, now=None]\u001b[A\n",
      "t:  77%|███████▋  | 192/249 [02:01<00:33,  1.71it/s, now=None]\u001b[A\n",
      "t:  78%|███████▊  | 193/249 [02:02<00:32,  1.71it/s, now=None]\u001b[A\n",
      "t:  78%|███████▊  | 194/249 [02:03<00:31,  1.72it/s, now=None]\u001b[A\n",
      "t:  78%|███████▊  | 195/249 [02:03<00:30,  1.74it/s, now=None]\u001b[A\n",
      "t:  79%|███████▊  | 196/249 [02:04<00:30,  1.74it/s, now=None]\u001b[A\n",
      "t:  79%|███████▉  | 197/249 [02:04<00:30,  1.72it/s, now=None]\u001b[A\n",
      "t:  80%|███████▉  | 198/249 [02:05<00:31,  1.64it/s, now=None]\u001b[A\n",
      "t:  80%|███████▉  | 199/249 [02:06<00:31,  1.57it/s, now=None]\u001b[A\n",
      "t:  80%|████████  | 200/249 [02:06<00:33,  1.48it/s, now=None]\u001b[A\n",
      "t:  81%|████████  | 201/249 [02:07<00:32,  1.47it/s, now=None]\u001b[A\n",
      "t:  81%|████████  | 202/249 [02:08<00:32,  1.46it/s, now=None]\u001b[A\n",
      "t:  82%|████████▏ | 203/249 [02:08<00:30,  1.52it/s, now=None]\u001b[A\n",
      "t:  82%|████████▏ | 204/249 [02:09<00:28,  1.57it/s, now=None]\u001b[A\n",
      "t:  82%|████████▏ | 205/249 [02:10<00:26,  1.63it/s, now=None]\u001b[A\n",
      "t:  83%|████████▎ | 206/249 [02:10<00:27,  1.58it/s, now=None]\u001b[A\n",
      "t:  83%|████████▎ | 207/249 [02:11<00:27,  1.54it/s, now=None]\u001b[A\n",
      "t:  84%|████████▎ | 208/249 [02:12<00:27,  1.52it/s, now=None]\u001b[A\n",
      "t:  84%|████████▍ | 209/249 [02:12<00:25,  1.54it/s, now=None]\u001b[A\n",
      "t:  84%|████████▍ | 210/249 [02:13<00:25,  1.55it/s, now=None]\u001b[A\n",
      "t:  85%|████████▍ | 211/249 [02:13<00:23,  1.59it/s, now=None]\u001b[A\n",
      "t:  85%|████████▌ | 212/249 [02:14<00:22,  1.65it/s, now=None]\u001b[A\n",
      "t:  86%|████████▌ | 213/249 [02:15<00:22,  1.61it/s, now=None]\u001b[A\n",
      "t:  86%|████████▌ | 214/249 [02:15<00:21,  1.62it/s, now=None]\u001b[A\n",
      "t:  86%|████████▋ | 215/249 [02:16<00:20,  1.62it/s, now=None]\u001b[A\n",
      "t:  87%|████████▋ | 216/249 [02:16<00:20,  1.65it/s, now=None]\u001b[A\n",
      "t:  87%|████████▋ | 217/249 [02:17<00:19,  1.67it/s, now=None]\u001b[A\n",
      "t:  88%|████████▊ | 218/249 [02:18<00:18,  1.71it/s, now=None]\u001b[A\n",
      "t:  88%|████████▊ | 219/249 [02:18<00:17,  1.75it/s, now=None]\u001b[A\n",
      "t:  88%|████████▊ | 220/249 [02:19<00:16,  1.75it/s, now=None]\u001b[A\n",
      "t:  89%|████████▉ | 221/249 [02:19<00:15,  1.77it/s, now=None]\u001b[A\n",
      "t:  89%|████████▉ | 222/249 [02:20<00:15,  1.73it/s, now=None]\u001b[A\n",
      "t:  90%|████████▉ | 223/249 [02:20<00:15,  1.72it/s, now=None]\u001b[A\n",
      "t:  90%|████████▉ | 224/249 [02:21<00:14,  1.73it/s, now=None]\u001b[A\n",
      "t:  90%|█████████ | 225/249 [02:22<00:13,  1.75it/s, now=None]\u001b[A\n",
      "t:  91%|█████████ | 226/249 [02:22<00:13,  1.65it/s, now=None]\u001b[A\n",
      "t:  91%|█████████ | 227/249 [02:23<00:13,  1.63it/s, now=None]\u001b[A\n",
      "t:  92%|█████████▏| 228/249 [02:23<00:12,  1.66it/s, now=None]\u001b[A\n",
      "t:  92%|█████████▏| 229/249 [02:24<00:12,  1.66it/s, now=None]\u001b[A\n",
      "t:  92%|█████████▏| 230/249 [02:25<00:11,  1.68it/s, now=None]\u001b[A\n",
      "t:  93%|█████████▎| 231/249 [02:25<00:10,  1.70it/s, now=None]\u001b[A\n",
      "t:  93%|█████████▎| 232/249 [02:26<00:10,  1.68it/s, now=None]\u001b[A\n",
      "t:  94%|█████████▎| 233/249 [02:26<00:09,  1.63it/s, now=None]\u001b[A\n",
      "t:  94%|█████████▍| 234/249 [02:27<00:09,  1.57it/s, now=None]\u001b[A\n",
      "t:  94%|█████████▍| 235/249 [02:28<00:08,  1.56it/s, now=None]\u001b[A\n",
      "t:  95%|█████████▍| 236/249 [02:28<00:08,  1.60it/s, now=None]\u001b[A\n",
      "t:  95%|█████████▌| 237/249 [02:29<00:07,  1.66it/s, now=None]\u001b[A\n",
      "t:  96%|█████████▌| 238/249 [02:30<00:06,  1.64it/s, now=None]\u001b[A\n",
      "t:  96%|█████████▌| 239/249 [02:30<00:06,  1.64it/s, now=None]\u001b[A\n",
      "t:  96%|█████████▋| 240/249 [02:31<00:05,  1.64it/s, now=None]\u001b[A\n",
      "t:  97%|█████████▋| 241/249 [02:31<00:04,  1.64it/s, now=None]\u001b[A\n",
      "t:  97%|█████████▋| 242/249 [02:32<00:04,  1.59it/s, now=None]\u001b[A\n",
      "t:  98%|█████████▊| 243/249 [02:33<00:03,  1.54it/s, now=None]\u001b[A\n",
      "t:  98%|█████████▊| 244/249 [02:33<00:03,  1.52it/s, now=None]\u001b[A\n",
      "t:  98%|█████████▊| 245/249 [02:34<00:02,  1.34it/s, now=None]\u001b[A\n",
      "t:  99%|█████████▉| 246/249 [02:36<00:02,  1.15it/s, now=None]\u001b[A\n",
      "t:  99%|█████████▉| 247/249 [02:37<00:01,  1.13it/s, now=None]\u001b[A\n",
      "t: 100%|█████████▉| 248/249 [02:37<00:00,  1.13it/s, now=None]\u001b[A\n",
      "t: 100%|██████████| 249/249 [02:38<00:00,  1.14it/s, now=None]\u001b[A\n"
     ]
    },
    {
     "name": "stderr",
     "output_type": "stream",
     "text": [
      "t:   1%|          | 2/249 [03:44<01:17,  3.20it/s, now=None]  \u001b[A"
     ]
    },
    {
     "name": "stdout",
     "output_type": "stream",
     "text": [
      "Moviepy - Done !\n",
      "Moviepy - video ready C:\\Users\\hagar\\OneDrive - mail.tau.ac.il\\Desktop\\CUSTIME videos\\CUSTIME sentences\\after_crop\\sent_01.mp4\n"
     ]
    },
    {
     "data": {
      "text/plain": [
       "8.28"
      ]
     },
     "execution_count": 38,
     "metadata": {},
     "output_type": "execute_result"
    }
   ],
   "source": [
    "#apply the adjusting function in spesific video\n",
    "word = r\"C:\\Users\\hagar\\OneDrive - mail.tau.ac.il\\Desktop\\CUSTIME videos\\CUSTIME sentences\\finalcut\\sent_01.mp4\" #path of the video\n",
    "adjust_video(word, dst)\n"
   ]
  },
  {
   "cell_type": "code",
   "execution_count": 8,
   "id": "788d7822",
   "metadata": {},
   "outputs": [
    {
     "name": "stdout",
     "output_type": "stream",
     "text": [
      "0.28\n"
     ]
    }
   ],
   "source": [
    "time = dur(file)\n",
    "print(time)"
   ]
  },
  {
   "cell_type": "code",
   "execution_count": 12,
   "id": "835535e1",
   "metadata": {},
   "outputs": [
    {
     "name": "stdout",
     "output_type": "stream",
     "text": [
      "Moviepy - Building video C:\\Users\\hagar\\OneDrive - mail.tau.ac.il\\Desktop\\CUSTIME videos\\CUSTIME sentences\\after_crop\\sent_01.mp4.\n",
      "Moviepy - Writing video C:\\Users\\hagar\\OneDrive - mail.tau.ac.il\\Desktop\\CUSTIME videos\\CUSTIME sentences\\after_crop\\sent_01.mp4\n",
      "\n"
     ]
    },
    {
     "name": "stderr",
     "output_type": "stream",
     "text": [
      "                                                              \r"
     ]
    },
    {
     "name": "stdout",
     "output_type": "stream",
     "text": [
      "Moviepy - Done !\n",
      "Moviepy - video ready C:\\Users\\hagar\\OneDrive - mail.tau.ac.il\\Desktop\\CUSTIME videos\\CUSTIME sentences\\after_crop\\sent_01.mp4\n",
      "Moviepy - Building video C:\\Users\\hagar\\OneDrive - mail.tau.ac.il\\Desktop\\CUSTIME videos\\CUSTIME sentences\\after_crop\\sent_02.mp4.\n",
      "Moviepy - Writing video C:\\Users\\hagar\\OneDrive - mail.tau.ac.il\\Desktop\\CUSTIME videos\\CUSTIME sentences\\after_crop\\sent_02.mp4\n",
      "\n"
     ]
    },
    {
     "name": "stderr",
     "output_type": "stream",
     "text": [
      "                                                              \r"
     ]
    },
    {
     "name": "stdout",
     "output_type": "stream",
     "text": [
      "Moviepy - Done !\n",
      "Moviepy - video ready C:\\Users\\hagar\\OneDrive - mail.tau.ac.il\\Desktop\\CUSTIME videos\\CUSTIME sentences\\after_crop\\sent_02.mp4\n",
      "Moviepy - Building video C:\\Users\\hagar\\OneDrive - mail.tau.ac.il\\Desktop\\CUSTIME videos\\CUSTIME sentences\\after_crop\\sent_03.mp4.\n",
      "Moviepy - Writing video C:\\Users\\hagar\\OneDrive - mail.tau.ac.il\\Desktop\\CUSTIME videos\\CUSTIME sentences\\after_crop\\sent_03.mp4\n",
      "\n"
     ]
    },
    {
     "name": "stderr",
     "output_type": "stream",
     "text": [
      "                                                              \r"
     ]
    },
    {
     "name": "stdout",
     "output_type": "stream",
     "text": [
      "Moviepy - Done !\n",
      "Moviepy - video ready C:\\Users\\hagar\\OneDrive - mail.tau.ac.il\\Desktop\\CUSTIME videos\\CUSTIME sentences\\after_crop\\sent_03.mp4\n",
      "Moviepy - Building video C:\\Users\\hagar\\OneDrive - mail.tau.ac.il\\Desktop\\CUSTIME videos\\CUSTIME sentences\\after_crop\\sent_04.mp4.\n",
      "Moviepy - Writing video C:\\Users\\hagar\\OneDrive - mail.tau.ac.il\\Desktop\\CUSTIME videos\\CUSTIME sentences\\after_crop\\sent_04.mp4\n",
      "\n"
     ]
    },
    {
     "name": "stderr",
     "output_type": "stream",
     "text": [
      "                                                              \r"
     ]
    },
    {
     "name": "stdout",
     "output_type": "stream",
     "text": [
      "Moviepy - Done !\n",
      "Moviepy - video ready C:\\Users\\hagar\\OneDrive - mail.tau.ac.il\\Desktop\\CUSTIME videos\\CUSTIME sentences\\after_crop\\sent_04.mp4\n",
      "Moviepy - Building video C:\\Users\\hagar\\OneDrive - mail.tau.ac.il\\Desktop\\CUSTIME videos\\CUSTIME sentences\\after_crop\\sent_05.mp4.\n",
      "Moviepy - Writing video C:\\Users\\hagar\\OneDrive - mail.tau.ac.il\\Desktop\\CUSTIME videos\\CUSTIME sentences\\after_crop\\sent_05.mp4\n",
      "\n"
     ]
    },
    {
     "name": "stderr",
     "output_type": "stream",
     "text": [
      "                                                              \r"
     ]
    },
    {
     "name": "stdout",
     "output_type": "stream",
     "text": [
      "Moviepy - Done !\n",
      "Moviepy - video ready C:\\Users\\hagar\\OneDrive - mail.tau.ac.il\\Desktop\\CUSTIME videos\\CUSTIME sentences\\after_crop\\sent_05.mp4\n",
      "Moviepy - Building video C:\\Users\\hagar\\OneDrive - mail.tau.ac.il\\Desktop\\CUSTIME videos\\CUSTIME sentences\\after_crop\\sent_06.mp4.\n",
      "Moviepy - Writing video C:\\Users\\hagar\\OneDrive - mail.tau.ac.il\\Desktop\\CUSTIME videos\\CUSTIME sentences\\after_crop\\sent_06.mp4\n",
      "\n"
     ]
    },
    {
     "name": "stderr",
     "output_type": "stream",
     "text": [
      "                                                              \r"
     ]
    },
    {
     "name": "stdout",
     "output_type": "stream",
     "text": [
      "Moviepy - Done !\n",
      "Moviepy - video ready C:\\Users\\hagar\\OneDrive - mail.tau.ac.il\\Desktop\\CUSTIME videos\\CUSTIME sentences\\after_crop\\sent_06.mp4\n",
      "Moviepy - Building video C:\\Users\\hagar\\OneDrive - mail.tau.ac.il\\Desktop\\CUSTIME videos\\CUSTIME sentences\\after_crop\\sent_07.mp4.\n",
      "Moviepy - Writing video C:\\Users\\hagar\\OneDrive - mail.tau.ac.il\\Desktop\\CUSTIME videos\\CUSTIME sentences\\after_crop\\sent_07.mp4\n",
      "\n"
     ]
    },
    {
     "name": "stderr",
     "output_type": "stream",
     "text": [
      "                                                              \r"
     ]
    },
    {
     "name": "stdout",
     "output_type": "stream",
     "text": [
      "Moviepy - Done !\n",
      "Moviepy - video ready C:\\Users\\hagar\\OneDrive - mail.tau.ac.il\\Desktop\\CUSTIME videos\\CUSTIME sentences\\after_crop\\sent_07.mp4\n",
      "Moviepy - Building video C:\\Users\\hagar\\OneDrive - mail.tau.ac.il\\Desktop\\CUSTIME videos\\CUSTIME sentences\\after_crop\\sent_08.mp4.\n",
      "Moviepy - Writing video C:\\Users\\hagar\\OneDrive - mail.tau.ac.il\\Desktop\\CUSTIME videos\\CUSTIME sentences\\after_crop\\sent_08.mp4\n",
      "\n"
     ]
    },
    {
     "name": "stderr",
     "output_type": "stream",
     "text": [
      "                                                              \r"
     ]
    },
    {
     "name": "stdout",
     "output_type": "stream",
     "text": [
      "Moviepy - Done !\n",
      "Moviepy - video ready C:\\Users\\hagar\\OneDrive - mail.tau.ac.il\\Desktop\\CUSTIME videos\\CUSTIME sentences\\after_crop\\sent_08.mp4\n",
      "Moviepy - Building video C:\\Users\\hagar\\OneDrive - mail.tau.ac.il\\Desktop\\CUSTIME videos\\CUSTIME sentences\\after_crop\\sent_09.mp4.\n",
      "Moviepy - Writing video C:\\Users\\hagar\\OneDrive - mail.tau.ac.il\\Desktop\\CUSTIME videos\\CUSTIME sentences\\after_crop\\sent_09.mp4\n",
      "\n"
     ]
    },
    {
     "name": "stderr",
     "output_type": "stream",
     "text": [
      "                                                              \r"
     ]
    },
    {
     "name": "stdout",
     "output_type": "stream",
     "text": [
      "Moviepy - Done !\n",
      "Moviepy - video ready C:\\Users\\hagar\\OneDrive - mail.tau.ac.il\\Desktop\\CUSTIME videos\\CUSTIME sentences\\after_crop\\sent_09.mp4\n",
      "Moviepy - Building video C:\\Users\\hagar\\OneDrive - mail.tau.ac.il\\Desktop\\CUSTIME videos\\CUSTIME sentences\\after_crop\\sent_10.mp4.\n",
      "Moviepy - Writing video C:\\Users\\hagar\\OneDrive - mail.tau.ac.il\\Desktop\\CUSTIME videos\\CUSTIME sentences\\after_crop\\sent_10.mp4\n",
      "\n"
     ]
    },
    {
     "name": "stderr",
     "output_type": "stream",
     "text": [
      "                                                              \r"
     ]
    },
    {
     "name": "stdout",
     "output_type": "stream",
     "text": [
      "Moviepy - Done !\n",
      "Moviepy - video ready C:\\Users\\hagar\\OneDrive - mail.tau.ac.il\\Desktop\\CUSTIME videos\\CUSTIME sentences\\after_crop\\sent_10.mp4\n",
      "Moviepy - Building video C:\\Users\\hagar\\OneDrive - mail.tau.ac.il\\Desktop\\CUSTIME videos\\CUSTIME sentences\\after_crop\\sent_100.mp4.\n",
      "Moviepy - Writing video C:\\Users\\hagar\\OneDrive - mail.tau.ac.il\\Desktop\\CUSTIME videos\\CUSTIME sentences\\after_crop\\sent_100.mp4\n",
      "\n"
     ]
    },
    {
     "name": "stderr",
     "output_type": "stream",
     "text": [
      "                                                              \r"
     ]
    },
    {
     "name": "stdout",
     "output_type": "stream",
     "text": [
      "Moviepy - Done !\n",
      "Moviepy - video ready C:\\Users\\hagar\\OneDrive - mail.tau.ac.il\\Desktop\\CUSTIME videos\\CUSTIME sentences\\after_crop\\sent_100.mp4\n",
      "Moviepy - Building video C:\\Users\\hagar\\OneDrive - mail.tau.ac.il\\Desktop\\CUSTIME videos\\CUSTIME sentences\\after_crop\\sent_11.mp4.\n",
      "Moviepy - Writing video C:\\Users\\hagar\\OneDrive - mail.tau.ac.il\\Desktop\\CUSTIME videos\\CUSTIME sentences\\after_crop\\sent_11.mp4\n",
      "\n"
     ]
    },
    {
     "name": "stderr",
     "output_type": "stream",
     "text": [
      "                                                              \r"
     ]
    },
    {
     "name": "stdout",
     "output_type": "stream",
     "text": [
      "Moviepy - Done !\n",
      "Moviepy - video ready C:\\Users\\hagar\\OneDrive - mail.tau.ac.il\\Desktop\\CUSTIME videos\\CUSTIME sentences\\after_crop\\sent_11.mp4\n",
      "Moviepy - Building video C:\\Users\\hagar\\OneDrive - mail.tau.ac.il\\Desktop\\CUSTIME videos\\CUSTIME sentences\\after_crop\\sent_12.mp4.\n",
      "Moviepy - Writing video C:\\Users\\hagar\\OneDrive - mail.tau.ac.il\\Desktop\\CUSTIME videos\\CUSTIME sentences\\after_crop\\sent_12.mp4\n",
      "\n"
     ]
    },
    {
     "name": "stderr",
     "output_type": "stream",
     "text": [
      "                                                              \r"
     ]
    },
    {
     "name": "stdout",
     "output_type": "stream",
     "text": [
      "Moviepy - Done !\n",
      "Moviepy - video ready C:\\Users\\hagar\\OneDrive - mail.tau.ac.il\\Desktop\\CUSTIME videos\\CUSTIME sentences\\after_crop\\sent_12.mp4\n",
      "Moviepy - Building video C:\\Users\\hagar\\OneDrive - mail.tau.ac.il\\Desktop\\CUSTIME videos\\CUSTIME sentences\\after_crop\\sent_13.mp4.\n",
      "Moviepy - Writing video C:\\Users\\hagar\\OneDrive - mail.tau.ac.il\\Desktop\\CUSTIME videos\\CUSTIME sentences\\after_crop\\sent_13.mp4\n",
      "\n"
     ]
    },
    {
     "name": "stderr",
     "output_type": "stream",
     "text": [
      "                                                              \r"
     ]
    },
    {
     "name": "stdout",
     "output_type": "stream",
     "text": [
      "Moviepy - Done !\n",
      "Moviepy - video ready C:\\Users\\hagar\\OneDrive - mail.tau.ac.il\\Desktop\\CUSTIME videos\\CUSTIME sentences\\after_crop\\sent_13.mp4\n",
      "Moviepy - Building video C:\\Users\\hagar\\OneDrive - mail.tau.ac.il\\Desktop\\CUSTIME videos\\CUSTIME sentences\\after_crop\\sent_14.mp4.\n",
      "Moviepy - Writing video C:\\Users\\hagar\\OneDrive - mail.tau.ac.il\\Desktop\\CUSTIME videos\\CUSTIME sentences\\after_crop\\sent_14.mp4\n",
      "\n"
     ]
    },
    {
     "name": "stderr",
     "output_type": "stream",
     "text": [
      "                                                              \r"
     ]
    },
    {
     "name": "stdout",
     "output_type": "stream",
     "text": [
      "Moviepy - Done !\n",
      "Moviepy - video ready C:\\Users\\hagar\\OneDrive - mail.tau.ac.il\\Desktop\\CUSTIME videos\\CUSTIME sentences\\after_crop\\sent_14.mp4\n",
      "Moviepy - Building video C:\\Users\\hagar\\OneDrive - mail.tau.ac.il\\Desktop\\CUSTIME videos\\CUSTIME sentences\\after_crop\\sent_15.mp4.\n",
      "Moviepy - Writing video C:\\Users\\hagar\\OneDrive - mail.tau.ac.il\\Desktop\\CUSTIME videos\\CUSTIME sentences\\after_crop\\sent_15.mp4\n",
      "\n"
     ]
    },
    {
     "name": "stderr",
     "output_type": "stream",
     "text": [
      "                                                              \r"
     ]
    },
    {
     "name": "stdout",
     "output_type": "stream",
     "text": [
      "Moviepy - Done !\n",
      "Moviepy - video ready C:\\Users\\hagar\\OneDrive - mail.tau.ac.il\\Desktop\\CUSTIME videos\\CUSTIME sentences\\after_crop\\sent_15.mp4\n",
      "Moviepy - Building video C:\\Users\\hagar\\OneDrive - mail.tau.ac.il\\Desktop\\CUSTIME videos\\CUSTIME sentences\\after_crop\\sent_16.mp4.\n",
      "Moviepy - Writing video C:\\Users\\hagar\\OneDrive - mail.tau.ac.il\\Desktop\\CUSTIME videos\\CUSTIME sentences\\after_crop\\sent_16.mp4\n",
      "\n"
     ]
    },
    {
     "name": "stderr",
     "output_type": "stream",
     "text": [
      "                                                              \r"
     ]
    },
    {
     "name": "stdout",
     "output_type": "stream",
     "text": [
      "Moviepy - Done !\n",
      "Moviepy - video ready C:\\Users\\hagar\\OneDrive - mail.tau.ac.il\\Desktop\\CUSTIME videos\\CUSTIME sentences\\after_crop\\sent_16.mp4\n",
      "Moviepy - Building video C:\\Users\\hagar\\OneDrive - mail.tau.ac.il\\Desktop\\CUSTIME videos\\CUSTIME sentences\\after_crop\\sent_17.mp4.\n",
      "Moviepy - Writing video C:\\Users\\hagar\\OneDrive - mail.tau.ac.il\\Desktop\\CUSTIME videos\\CUSTIME sentences\\after_crop\\sent_17.mp4\n",
      "\n"
     ]
    },
    {
     "name": "stderr",
     "output_type": "stream",
     "text": [
      "                                                              \r"
     ]
    },
    {
     "name": "stdout",
     "output_type": "stream",
     "text": [
      "Moviepy - Done !\n",
      "Moviepy - video ready C:\\Users\\hagar\\OneDrive - mail.tau.ac.il\\Desktop\\CUSTIME videos\\CUSTIME sentences\\after_crop\\sent_17.mp4\n",
      "Moviepy - Building video C:\\Users\\hagar\\OneDrive - mail.tau.ac.il\\Desktop\\CUSTIME videos\\CUSTIME sentences\\after_crop\\sent_18.mp4.\n",
      "Moviepy - Writing video C:\\Users\\hagar\\OneDrive - mail.tau.ac.il\\Desktop\\CUSTIME videos\\CUSTIME sentences\\after_crop\\sent_18.mp4\n",
      "\n"
     ]
    },
    {
     "name": "stderr",
     "output_type": "stream",
     "text": [
      "                                                              \r"
     ]
    },
    {
     "name": "stdout",
     "output_type": "stream",
     "text": [
      "Moviepy - Done !\n",
      "Moviepy - video ready C:\\Users\\hagar\\OneDrive - mail.tau.ac.il\\Desktop\\CUSTIME videos\\CUSTIME sentences\\after_crop\\sent_18.mp4\n",
      "Moviepy - Building video C:\\Users\\hagar\\OneDrive - mail.tau.ac.il\\Desktop\\CUSTIME videos\\CUSTIME sentences\\after_crop\\sent_19.mp4.\n",
      "Moviepy - Writing video C:\\Users\\hagar\\OneDrive - mail.tau.ac.il\\Desktop\\CUSTIME videos\\CUSTIME sentences\\after_crop\\sent_19.mp4\n",
      "\n"
     ]
    },
    {
     "name": "stderr",
     "output_type": "stream",
     "text": [
      "                                                              \r"
     ]
    },
    {
     "name": "stdout",
     "output_type": "stream",
     "text": [
      "Moviepy - Done !\n",
      "Moviepy - video ready C:\\Users\\hagar\\OneDrive - mail.tau.ac.il\\Desktop\\CUSTIME videos\\CUSTIME sentences\\after_crop\\sent_19.mp4\n",
      "Moviepy - Building video C:\\Users\\hagar\\OneDrive - mail.tau.ac.il\\Desktop\\CUSTIME videos\\CUSTIME sentences\\after_crop\\sent_20.mp4.\n",
      "Moviepy - Writing video C:\\Users\\hagar\\OneDrive - mail.tau.ac.il\\Desktop\\CUSTIME videos\\CUSTIME sentences\\after_crop\\sent_20.mp4\n",
      "\n"
     ]
    },
    {
     "name": "stderr",
     "output_type": "stream",
     "text": [
      "                                                              \r"
     ]
    },
    {
     "name": "stdout",
     "output_type": "stream",
     "text": [
      "Moviepy - Done !\n",
      "Moviepy - video ready C:\\Users\\hagar\\OneDrive - mail.tau.ac.il\\Desktop\\CUSTIME videos\\CUSTIME sentences\\after_crop\\sent_20.mp4\n",
      "Moviepy - Building video C:\\Users\\hagar\\OneDrive - mail.tau.ac.il\\Desktop\\CUSTIME videos\\CUSTIME sentences\\after_crop\\sent_21.mp4.\n",
      "Moviepy - Writing video C:\\Users\\hagar\\OneDrive - mail.tau.ac.il\\Desktop\\CUSTIME videos\\CUSTIME sentences\\after_crop\\sent_21.mp4\n",
      "\n"
     ]
    },
    {
     "name": "stderr",
     "output_type": "stream",
     "text": [
      "                                                              \r"
     ]
    },
    {
     "name": "stdout",
     "output_type": "stream",
     "text": [
      "Moviepy - Done !\n",
      "Moviepy - video ready C:\\Users\\hagar\\OneDrive - mail.tau.ac.il\\Desktop\\CUSTIME videos\\CUSTIME sentences\\after_crop\\sent_21.mp4\n",
      "Moviepy - Building video C:\\Users\\hagar\\OneDrive - mail.tau.ac.il\\Desktop\\CUSTIME videos\\CUSTIME sentences\\after_crop\\sent_22.mp4.\n",
      "Moviepy - Writing video C:\\Users\\hagar\\OneDrive - mail.tau.ac.il\\Desktop\\CUSTIME videos\\CUSTIME sentences\\after_crop\\sent_22.mp4\n",
      "\n"
     ]
    },
    {
     "name": "stderr",
     "output_type": "stream",
     "text": [
      "                                                              \r"
     ]
    },
    {
     "name": "stdout",
     "output_type": "stream",
     "text": [
      "Moviepy - Done !\n",
      "Moviepy - video ready C:\\Users\\hagar\\OneDrive - mail.tau.ac.il\\Desktop\\CUSTIME videos\\CUSTIME sentences\\after_crop\\sent_22.mp4\n",
      "Moviepy - Building video C:\\Users\\hagar\\OneDrive - mail.tau.ac.il\\Desktop\\CUSTIME videos\\CUSTIME sentences\\after_crop\\sent_23.mp4.\n",
      "Moviepy - Writing video C:\\Users\\hagar\\OneDrive - mail.tau.ac.il\\Desktop\\CUSTIME videos\\CUSTIME sentences\\after_crop\\sent_23.mp4\n",
      "\n"
     ]
    },
    {
     "name": "stderr",
     "output_type": "stream",
     "text": [
      "                                                              \r"
     ]
    },
    {
     "name": "stdout",
     "output_type": "stream",
     "text": [
      "Moviepy - Done !\n",
      "Moviepy - video ready C:\\Users\\hagar\\OneDrive - mail.tau.ac.il\\Desktop\\CUSTIME videos\\CUSTIME sentences\\after_crop\\sent_23.mp4\n",
      "Moviepy - Building video C:\\Users\\hagar\\OneDrive - mail.tau.ac.il\\Desktop\\CUSTIME videos\\CUSTIME sentences\\after_crop\\sent_24.mp4.\n",
      "Moviepy - Writing video C:\\Users\\hagar\\OneDrive - mail.tau.ac.il\\Desktop\\CUSTIME videos\\CUSTIME sentences\\after_crop\\sent_24.mp4\n",
      "\n"
     ]
    },
    {
     "name": "stderr",
     "output_type": "stream",
     "text": [
      "                                                              \r"
     ]
    },
    {
     "name": "stdout",
     "output_type": "stream",
     "text": [
      "Moviepy - Done !\n",
      "Moviepy - video ready C:\\Users\\hagar\\OneDrive - mail.tau.ac.il\\Desktop\\CUSTIME videos\\CUSTIME sentences\\after_crop\\sent_24.mp4\n",
      "Moviepy - Building video C:\\Users\\hagar\\OneDrive - mail.tau.ac.il\\Desktop\\CUSTIME videos\\CUSTIME sentences\\after_crop\\sent_25.mp4.\n",
      "Moviepy - Writing video C:\\Users\\hagar\\OneDrive - mail.tau.ac.il\\Desktop\\CUSTIME videos\\CUSTIME sentences\\after_crop\\sent_25.mp4\n",
      "\n"
     ]
    },
    {
     "name": "stderr",
     "output_type": "stream",
     "text": [
      "                                                              \r"
     ]
    },
    {
     "name": "stdout",
     "output_type": "stream",
     "text": [
      "Moviepy - Done !\n",
      "Moviepy - video ready C:\\Users\\hagar\\OneDrive - mail.tau.ac.il\\Desktop\\CUSTIME videos\\CUSTIME sentences\\after_crop\\sent_25.mp4\n",
      "Moviepy - Building video C:\\Users\\hagar\\OneDrive - mail.tau.ac.il\\Desktop\\CUSTIME videos\\CUSTIME sentences\\after_crop\\sent_26.mp4.\n",
      "Moviepy - Writing video C:\\Users\\hagar\\OneDrive - mail.tau.ac.il\\Desktop\\CUSTIME videos\\CUSTIME sentences\\after_crop\\sent_26.mp4\n",
      "\n"
     ]
    },
    {
     "name": "stderr",
     "output_type": "stream",
     "text": [
      "                                                              \r"
     ]
    },
    {
     "name": "stdout",
     "output_type": "stream",
     "text": [
      "Moviepy - Done !\n",
      "Moviepy - video ready C:\\Users\\hagar\\OneDrive - mail.tau.ac.il\\Desktop\\CUSTIME videos\\CUSTIME sentences\\after_crop\\sent_26.mp4\n",
      "Moviepy - Building video C:\\Users\\hagar\\OneDrive - mail.tau.ac.il\\Desktop\\CUSTIME videos\\CUSTIME sentences\\after_crop\\sent_27.mp4.\n",
      "Moviepy - Writing video C:\\Users\\hagar\\OneDrive - mail.tau.ac.il\\Desktop\\CUSTIME videos\\CUSTIME sentences\\after_crop\\sent_27.mp4\n",
      "\n"
     ]
    },
    {
     "name": "stderr",
     "output_type": "stream",
     "text": [
      "                                                              \r"
     ]
    },
    {
     "name": "stdout",
     "output_type": "stream",
     "text": [
      "Moviepy - Done !\n",
      "Moviepy - video ready C:\\Users\\hagar\\OneDrive - mail.tau.ac.il\\Desktop\\CUSTIME videos\\CUSTIME sentences\\after_crop\\sent_27.mp4\n",
      "Moviepy - Building video C:\\Users\\hagar\\OneDrive - mail.tau.ac.il\\Desktop\\CUSTIME videos\\CUSTIME sentences\\after_crop\\sent_28.mp4.\n",
      "Moviepy - Writing video C:\\Users\\hagar\\OneDrive - mail.tau.ac.il\\Desktop\\CUSTIME videos\\CUSTIME sentences\\after_crop\\sent_28.mp4\n",
      "\n"
     ]
    },
    {
     "name": "stderr",
     "output_type": "stream",
     "text": [
      "                                                              \r"
     ]
    },
    {
     "name": "stdout",
     "output_type": "stream",
     "text": [
      "Moviepy - Done !\n",
      "Moviepy - video ready C:\\Users\\hagar\\OneDrive - mail.tau.ac.il\\Desktop\\CUSTIME videos\\CUSTIME sentences\\after_crop\\sent_28.mp4\n",
      "Moviepy - Building video C:\\Users\\hagar\\OneDrive - mail.tau.ac.il\\Desktop\\CUSTIME videos\\CUSTIME sentences\\after_crop\\sent_29.mp4.\n",
      "Moviepy - Writing video C:\\Users\\hagar\\OneDrive - mail.tau.ac.il\\Desktop\\CUSTIME videos\\CUSTIME sentences\\after_crop\\sent_29.mp4\n",
      "\n"
     ]
    },
    {
     "name": "stderr",
     "output_type": "stream",
     "text": [
      "                                                              \r"
     ]
    },
    {
     "name": "stdout",
     "output_type": "stream",
     "text": [
      "Moviepy - Done !\n",
      "Moviepy - video ready C:\\Users\\hagar\\OneDrive - mail.tau.ac.il\\Desktop\\CUSTIME videos\\CUSTIME sentences\\after_crop\\sent_29.mp4\n",
      "Moviepy - Building video C:\\Users\\hagar\\OneDrive - mail.tau.ac.il\\Desktop\\CUSTIME videos\\CUSTIME sentences\\after_crop\\sent_30.mp4.\n",
      "Moviepy - Writing video C:\\Users\\hagar\\OneDrive - mail.tau.ac.il\\Desktop\\CUSTIME videos\\CUSTIME sentences\\after_crop\\sent_30.mp4\n",
      "\n"
     ]
    },
    {
     "name": "stderr",
     "output_type": "stream",
     "text": [
      "                                                              \r"
     ]
    },
    {
     "name": "stdout",
     "output_type": "stream",
     "text": [
      "Moviepy - Done !\n",
      "Moviepy - video ready C:\\Users\\hagar\\OneDrive - mail.tau.ac.il\\Desktop\\CUSTIME videos\\CUSTIME sentences\\after_crop\\sent_30.mp4\n",
      "Moviepy - Building video C:\\Users\\hagar\\OneDrive - mail.tau.ac.il\\Desktop\\CUSTIME videos\\CUSTIME sentences\\after_crop\\sent_31.mp4.\n",
      "Moviepy - Writing video C:\\Users\\hagar\\OneDrive - mail.tau.ac.il\\Desktop\\CUSTIME videos\\CUSTIME sentences\\after_crop\\sent_31.mp4\n",
      "\n"
     ]
    },
    {
     "name": "stderr",
     "output_type": "stream",
     "text": [
      "                                                              \r"
     ]
    },
    {
     "name": "stdout",
     "output_type": "stream",
     "text": [
      "Moviepy - Done !\n",
      "Moviepy - video ready C:\\Users\\hagar\\OneDrive - mail.tau.ac.il\\Desktop\\CUSTIME videos\\CUSTIME sentences\\after_crop\\sent_31.mp4\n",
      "Moviepy - Building video C:\\Users\\hagar\\OneDrive - mail.tau.ac.il\\Desktop\\CUSTIME videos\\CUSTIME sentences\\after_crop\\sent_32.mp4.\n",
      "Moviepy - Writing video C:\\Users\\hagar\\OneDrive - mail.tau.ac.il\\Desktop\\CUSTIME videos\\CUSTIME sentences\\after_crop\\sent_32.mp4\n",
      "\n"
     ]
    },
    {
     "name": "stderr",
     "output_type": "stream",
     "text": [
      "                                                              \r"
     ]
    },
    {
     "name": "stdout",
     "output_type": "stream",
     "text": [
      "Moviepy - Done !\n",
      "Moviepy - video ready C:\\Users\\hagar\\OneDrive - mail.tau.ac.il\\Desktop\\CUSTIME videos\\CUSTIME sentences\\after_crop\\sent_32.mp4\n",
      "Moviepy - Building video C:\\Users\\hagar\\OneDrive - mail.tau.ac.il\\Desktop\\CUSTIME videos\\CUSTIME sentences\\after_crop\\sent_33.mp4.\n",
      "Moviepy - Writing video C:\\Users\\hagar\\OneDrive - mail.tau.ac.il\\Desktop\\CUSTIME videos\\CUSTIME sentences\\after_crop\\sent_33.mp4\n",
      "\n"
     ]
    },
    {
     "name": "stderr",
     "output_type": "stream",
     "text": [
      "                                                              \r"
     ]
    },
    {
     "name": "stdout",
     "output_type": "stream",
     "text": [
      "Moviepy - Done !\n",
      "Moviepy - video ready C:\\Users\\hagar\\OneDrive - mail.tau.ac.il\\Desktop\\CUSTIME videos\\CUSTIME sentences\\after_crop\\sent_33.mp4\n",
      "Moviepy - Building video C:\\Users\\hagar\\OneDrive - mail.tau.ac.il\\Desktop\\CUSTIME videos\\CUSTIME sentences\\after_crop\\sent_34.mp4.\n",
      "Moviepy - Writing video C:\\Users\\hagar\\OneDrive - mail.tau.ac.il\\Desktop\\CUSTIME videos\\CUSTIME sentences\\after_crop\\sent_34.mp4\n",
      "\n"
     ]
    },
    {
     "name": "stderr",
     "output_type": "stream",
     "text": [
      "                                                              \r"
     ]
    },
    {
     "name": "stdout",
     "output_type": "stream",
     "text": [
      "Moviepy - Done !\n",
      "Moviepy - video ready C:\\Users\\hagar\\OneDrive - mail.tau.ac.il\\Desktop\\CUSTIME videos\\CUSTIME sentences\\after_crop\\sent_34.mp4\n",
      "Moviepy - Building video C:\\Users\\hagar\\OneDrive - mail.tau.ac.il\\Desktop\\CUSTIME videos\\CUSTIME sentences\\after_crop\\sent_35.mp4.\n",
      "Moviepy - Writing video C:\\Users\\hagar\\OneDrive - mail.tau.ac.il\\Desktop\\CUSTIME videos\\CUSTIME sentences\\after_crop\\sent_35.mp4\n",
      "\n"
     ]
    },
    {
     "name": "stderr",
     "output_type": "stream",
     "text": [
      "                                                              \r"
     ]
    },
    {
     "name": "stdout",
     "output_type": "stream",
     "text": [
      "Moviepy - Done !\n",
      "Moviepy - video ready C:\\Users\\hagar\\OneDrive - mail.tau.ac.il\\Desktop\\CUSTIME videos\\CUSTIME sentences\\after_crop\\sent_35.mp4\n",
      "Moviepy - Building video C:\\Users\\hagar\\OneDrive - mail.tau.ac.il\\Desktop\\CUSTIME videos\\CUSTIME sentences\\after_crop\\sent_36.mp4.\n",
      "Moviepy - Writing video C:\\Users\\hagar\\OneDrive - mail.tau.ac.il\\Desktop\\CUSTIME videos\\CUSTIME sentences\\after_crop\\sent_36.mp4\n",
      "\n"
     ]
    },
    {
     "name": "stderr",
     "output_type": "stream",
     "text": [
      "                                                              \r"
     ]
    },
    {
     "name": "stdout",
     "output_type": "stream",
     "text": [
      "Moviepy - Done !\n",
      "Moviepy - video ready C:\\Users\\hagar\\OneDrive - mail.tau.ac.il\\Desktop\\CUSTIME videos\\CUSTIME sentences\\after_crop\\sent_36.mp4\n",
      "Moviepy - Building video C:\\Users\\hagar\\OneDrive - mail.tau.ac.il\\Desktop\\CUSTIME videos\\CUSTIME sentences\\after_crop\\sent_37.mp4.\n",
      "Moviepy - Writing video C:\\Users\\hagar\\OneDrive - mail.tau.ac.il\\Desktop\\CUSTIME videos\\CUSTIME sentences\\after_crop\\sent_37.mp4\n",
      "\n"
     ]
    },
    {
     "name": "stderr",
     "output_type": "stream",
     "text": [
      "                                                              \r"
     ]
    },
    {
     "name": "stdout",
     "output_type": "stream",
     "text": [
      "Moviepy - Done !\n",
      "Moviepy - video ready C:\\Users\\hagar\\OneDrive - mail.tau.ac.il\\Desktop\\CUSTIME videos\\CUSTIME sentences\\after_crop\\sent_37.mp4\n",
      "Moviepy - Building video C:\\Users\\hagar\\OneDrive - mail.tau.ac.il\\Desktop\\CUSTIME videos\\CUSTIME sentences\\after_crop\\sent_38.mp4.\n",
      "Moviepy - Writing video C:\\Users\\hagar\\OneDrive - mail.tau.ac.il\\Desktop\\CUSTIME videos\\CUSTIME sentences\\after_crop\\sent_38.mp4\n",
      "\n"
     ]
    },
    {
     "name": "stderr",
     "output_type": "stream",
     "text": [
      "                                                              \r"
     ]
    },
    {
     "name": "stdout",
     "output_type": "stream",
     "text": [
      "Moviepy - Done !\n",
      "Moviepy - video ready C:\\Users\\hagar\\OneDrive - mail.tau.ac.il\\Desktop\\CUSTIME videos\\CUSTIME sentences\\after_crop\\sent_38.mp4\n",
      "Moviepy - Building video C:\\Users\\hagar\\OneDrive - mail.tau.ac.il\\Desktop\\CUSTIME videos\\CUSTIME sentences\\after_crop\\sent_39.mp4.\n",
      "Moviepy - Writing video C:\\Users\\hagar\\OneDrive - mail.tau.ac.il\\Desktop\\CUSTIME videos\\CUSTIME sentences\\after_crop\\sent_39.mp4\n",
      "\n"
     ]
    },
    {
     "name": "stderr",
     "output_type": "stream",
     "text": [
      "                                                              \r"
     ]
    },
    {
     "name": "stdout",
     "output_type": "stream",
     "text": [
      "Moviepy - Done !\n",
      "Moviepy - video ready C:\\Users\\hagar\\OneDrive - mail.tau.ac.il\\Desktop\\CUSTIME videos\\CUSTIME sentences\\after_crop\\sent_39.mp4\n",
      "Moviepy - Building video C:\\Users\\hagar\\OneDrive - mail.tau.ac.il\\Desktop\\CUSTIME videos\\CUSTIME sentences\\after_crop\\sent_40.mp4.\n",
      "Moviepy - Writing video C:\\Users\\hagar\\OneDrive - mail.tau.ac.il\\Desktop\\CUSTIME videos\\CUSTIME sentences\\after_crop\\sent_40.mp4\n",
      "\n"
     ]
    },
    {
     "name": "stderr",
     "output_type": "stream",
     "text": [
      "                                                              \r"
     ]
    },
    {
     "name": "stdout",
     "output_type": "stream",
     "text": [
      "Moviepy - Done !\n",
      "Moviepy - video ready C:\\Users\\hagar\\OneDrive - mail.tau.ac.il\\Desktop\\CUSTIME videos\\CUSTIME sentences\\after_crop\\sent_40.mp4\n",
      "Moviepy - Building video C:\\Users\\hagar\\OneDrive - mail.tau.ac.il\\Desktop\\CUSTIME videos\\CUSTIME sentences\\after_crop\\sent_41.mp4.\n",
      "Moviepy - Writing video C:\\Users\\hagar\\OneDrive - mail.tau.ac.il\\Desktop\\CUSTIME videos\\CUSTIME sentences\\after_crop\\sent_41.mp4\n",
      "\n"
     ]
    },
    {
     "name": "stderr",
     "output_type": "stream",
     "text": [
      "                                                              \r"
     ]
    },
    {
     "name": "stdout",
     "output_type": "stream",
     "text": [
      "Moviepy - Done !\n",
      "Moviepy - video ready C:\\Users\\hagar\\OneDrive - mail.tau.ac.il\\Desktop\\CUSTIME videos\\CUSTIME sentences\\after_crop\\sent_41.mp4\n",
      "Moviepy - Building video C:\\Users\\hagar\\OneDrive - mail.tau.ac.il\\Desktop\\CUSTIME videos\\CUSTIME sentences\\after_crop\\sent_42.mp4.\n",
      "Moviepy - Writing video C:\\Users\\hagar\\OneDrive - mail.tau.ac.il\\Desktop\\CUSTIME videos\\CUSTIME sentences\\after_crop\\sent_42.mp4\n",
      "\n"
     ]
    },
    {
     "name": "stderr",
     "output_type": "stream",
     "text": [
      "                                                              \r"
     ]
    },
    {
     "name": "stdout",
     "output_type": "stream",
     "text": [
      "Moviepy - Done !\n",
      "Moviepy - video ready C:\\Users\\hagar\\OneDrive - mail.tau.ac.il\\Desktop\\CUSTIME videos\\CUSTIME sentences\\after_crop\\sent_42.mp4\n",
      "Moviepy - Building video C:\\Users\\hagar\\OneDrive - mail.tau.ac.il\\Desktop\\CUSTIME videos\\CUSTIME sentences\\after_crop\\sent_43.mp4.\n",
      "Moviepy - Writing video C:\\Users\\hagar\\OneDrive - mail.tau.ac.il\\Desktop\\CUSTIME videos\\CUSTIME sentences\\after_crop\\sent_43.mp4\n",
      "\n"
     ]
    },
    {
     "name": "stderr",
     "output_type": "stream",
     "text": [
      "                                                              \r"
     ]
    },
    {
     "name": "stdout",
     "output_type": "stream",
     "text": [
      "Moviepy - Done !\n",
      "Moviepy - video ready C:\\Users\\hagar\\OneDrive - mail.tau.ac.il\\Desktop\\CUSTIME videos\\CUSTIME sentences\\after_crop\\sent_43.mp4\n",
      "Moviepy - Building video C:\\Users\\hagar\\OneDrive - mail.tau.ac.il\\Desktop\\CUSTIME videos\\CUSTIME sentences\\after_crop\\sent_44.mp4.\n",
      "Moviepy - Writing video C:\\Users\\hagar\\OneDrive - mail.tau.ac.il\\Desktop\\CUSTIME videos\\CUSTIME sentences\\after_crop\\sent_44.mp4\n",
      "\n"
     ]
    },
    {
     "name": "stderr",
     "output_type": "stream",
     "text": [
      "                                                              \r"
     ]
    },
    {
     "name": "stdout",
     "output_type": "stream",
     "text": [
      "Moviepy - Done !\n",
      "Moviepy - video ready C:\\Users\\hagar\\OneDrive - mail.tau.ac.il\\Desktop\\CUSTIME videos\\CUSTIME sentences\\after_crop\\sent_44.mp4\n",
      "Moviepy - Building video C:\\Users\\hagar\\OneDrive - mail.tau.ac.il\\Desktop\\CUSTIME videos\\CUSTIME sentences\\after_crop\\sent_45.mp4.\n",
      "Moviepy - Writing video C:\\Users\\hagar\\OneDrive - mail.tau.ac.il\\Desktop\\CUSTIME videos\\CUSTIME sentences\\after_crop\\sent_45.mp4\n",
      "\n"
     ]
    },
    {
     "name": "stderr",
     "output_type": "stream",
     "text": [
      "                                                              \r"
     ]
    },
    {
     "name": "stdout",
     "output_type": "stream",
     "text": [
      "Moviepy - Done !\n",
      "Moviepy - video ready C:\\Users\\hagar\\OneDrive - mail.tau.ac.il\\Desktop\\CUSTIME videos\\CUSTIME sentences\\after_crop\\sent_45.mp4\n",
      "Moviepy - Building video C:\\Users\\hagar\\OneDrive - mail.tau.ac.il\\Desktop\\CUSTIME videos\\CUSTIME sentences\\after_crop\\sent_46.mp4.\n",
      "Moviepy - Writing video C:\\Users\\hagar\\OneDrive - mail.tau.ac.il\\Desktop\\CUSTIME videos\\CUSTIME sentences\\after_crop\\sent_46.mp4\n",
      "\n"
     ]
    },
    {
     "name": "stderr",
     "output_type": "stream",
     "text": [
      "                                                              \r"
     ]
    },
    {
     "name": "stdout",
     "output_type": "stream",
     "text": [
      "Moviepy - Done !\n",
      "Moviepy - video ready C:\\Users\\hagar\\OneDrive - mail.tau.ac.il\\Desktop\\CUSTIME videos\\CUSTIME sentences\\after_crop\\sent_46.mp4\n",
      "Moviepy - Building video C:\\Users\\hagar\\OneDrive - mail.tau.ac.il\\Desktop\\CUSTIME videos\\CUSTIME sentences\\after_crop\\sent_47.mp4.\n",
      "Moviepy - Writing video C:\\Users\\hagar\\OneDrive - mail.tau.ac.il\\Desktop\\CUSTIME videos\\CUSTIME sentences\\after_crop\\sent_47.mp4\n",
      "\n"
     ]
    },
    {
     "name": "stderr",
     "output_type": "stream",
     "text": [
      "                                                              \r"
     ]
    },
    {
     "name": "stdout",
     "output_type": "stream",
     "text": [
      "Moviepy - Done !\n",
      "Moviepy - video ready C:\\Users\\hagar\\OneDrive - mail.tau.ac.il\\Desktop\\CUSTIME videos\\CUSTIME sentences\\after_crop\\sent_47.mp4\n",
      "Moviepy - Building video C:\\Users\\hagar\\OneDrive - mail.tau.ac.il\\Desktop\\CUSTIME videos\\CUSTIME sentences\\after_crop\\sent_48.mp4.\n",
      "Moviepy - Writing video C:\\Users\\hagar\\OneDrive - mail.tau.ac.il\\Desktop\\CUSTIME videos\\CUSTIME sentences\\after_crop\\sent_48.mp4\n",
      "\n"
     ]
    },
    {
     "name": "stderr",
     "output_type": "stream",
     "text": [
      "                                                              \r"
     ]
    },
    {
     "name": "stdout",
     "output_type": "stream",
     "text": [
      "Moviepy - Done !\n",
      "Moviepy - video ready C:\\Users\\hagar\\OneDrive - mail.tau.ac.il\\Desktop\\CUSTIME videos\\CUSTIME sentences\\after_crop\\sent_48.mp4\n",
      "Moviepy - Building video C:\\Users\\hagar\\OneDrive - mail.tau.ac.il\\Desktop\\CUSTIME videos\\CUSTIME sentences\\after_crop\\sent_49.mp4.\n",
      "Moviepy - Writing video C:\\Users\\hagar\\OneDrive - mail.tau.ac.il\\Desktop\\CUSTIME videos\\CUSTIME sentences\\after_crop\\sent_49.mp4\n",
      "\n"
     ]
    },
    {
     "name": "stderr",
     "output_type": "stream",
     "text": [
      "                                                              \r"
     ]
    },
    {
     "name": "stdout",
     "output_type": "stream",
     "text": [
      "Moviepy - Done !\n",
      "Moviepy - video ready C:\\Users\\hagar\\OneDrive - mail.tau.ac.il\\Desktop\\CUSTIME videos\\CUSTIME sentences\\after_crop\\sent_49.mp4\n",
      "Moviepy - Building video C:\\Users\\hagar\\OneDrive - mail.tau.ac.il\\Desktop\\CUSTIME videos\\CUSTIME sentences\\after_crop\\sent_50.mp4.\n",
      "Moviepy - Writing video C:\\Users\\hagar\\OneDrive - mail.tau.ac.il\\Desktop\\CUSTIME videos\\CUSTIME sentences\\after_crop\\sent_50.mp4\n",
      "\n"
     ]
    },
    {
     "name": "stderr",
     "output_type": "stream",
     "text": [
      "                                                              \r"
     ]
    },
    {
     "name": "stdout",
     "output_type": "stream",
     "text": [
      "Moviepy - Done !\n",
      "Moviepy - video ready C:\\Users\\hagar\\OneDrive - mail.tau.ac.il\\Desktop\\CUSTIME videos\\CUSTIME sentences\\after_crop\\sent_50.mp4\n",
      "Moviepy - Building video C:\\Users\\hagar\\OneDrive - mail.tau.ac.il\\Desktop\\CUSTIME videos\\CUSTIME sentences\\after_crop\\sent_51.mp4.\n",
      "Moviepy - Writing video C:\\Users\\hagar\\OneDrive - mail.tau.ac.il\\Desktop\\CUSTIME videos\\CUSTIME sentences\\after_crop\\sent_51.mp4\n",
      "\n"
     ]
    },
    {
     "name": "stderr",
     "output_type": "stream",
     "text": [
      "                                                              \r"
     ]
    },
    {
     "name": "stdout",
     "output_type": "stream",
     "text": [
      "Moviepy - Done !\n",
      "Moviepy - video ready C:\\Users\\hagar\\OneDrive - mail.tau.ac.il\\Desktop\\CUSTIME videos\\CUSTIME sentences\\after_crop\\sent_51.mp4\n",
      "Moviepy - Building video C:\\Users\\hagar\\OneDrive - mail.tau.ac.il\\Desktop\\CUSTIME videos\\CUSTIME sentences\\after_crop\\sent_52.mp4.\n",
      "Moviepy - Writing video C:\\Users\\hagar\\OneDrive - mail.tau.ac.il\\Desktop\\CUSTIME videos\\CUSTIME sentences\\after_crop\\sent_52.mp4\n",
      "\n"
     ]
    },
    {
     "name": "stderr",
     "output_type": "stream",
     "text": [
      "                                                              \r"
     ]
    },
    {
     "name": "stdout",
     "output_type": "stream",
     "text": [
      "Moviepy - Done !\n",
      "Moviepy - video ready C:\\Users\\hagar\\OneDrive - mail.tau.ac.il\\Desktop\\CUSTIME videos\\CUSTIME sentences\\after_crop\\sent_52.mp4\n",
      "Moviepy - Building video C:\\Users\\hagar\\OneDrive - mail.tau.ac.il\\Desktop\\CUSTIME videos\\CUSTIME sentences\\after_crop\\sent_53.mp4.\n",
      "Moviepy - Writing video C:\\Users\\hagar\\OneDrive - mail.tau.ac.il\\Desktop\\CUSTIME videos\\CUSTIME sentences\\after_crop\\sent_53.mp4\n",
      "\n"
     ]
    },
    {
     "name": "stderr",
     "output_type": "stream",
     "text": [
      "                                                              \r"
     ]
    },
    {
     "name": "stdout",
     "output_type": "stream",
     "text": [
      "Moviepy - Done !\n",
      "Moviepy - video ready C:\\Users\\hagar\\OneDrive - mail.tau.ac.il\\Desktop\\CUSTIME videos\\CUSTIME sentences\\after_crop\\sent_53.mp4\n",
      "Moviepy - Building video C:\\Users\\hagar\\OneDrive - mail.tau.ac.il\\Desktop\\CUSTIME videos\\CUSTIME sentences\\after_crop\\sent_54.mp4.\n",
      "Moviepy - Writing video C:\\Users\\hagar\\OneDrive - mail.tau.ac.il\\Desktop\\CUSTIME videos\\CUSTIME sentences\\after_crop\\sent_54.mp4\n",
      "\n"
     ]
    },
    {
     "name": "stderr",
     "output_type": "stream",
     "text": [
      "                                                              \r"
     ]
    },
    {
     "name": "stdout",
     "output_type": "stream",
     "text": [
      "Moviepy - Done !\n",
      "Moviepy - video ready C:\\Users\\hagar\\OneDrive - mail.tau.ac.il\\Desktop\\CUSTIME videos\\CUSTIME sentences\\after_crop\\sent_54.mp4\n",
      "Moviepy - Building video C:\\Users\\hagar\\OneDrive - mail.tau.ac.il\\Desktop\\CUSTIME videos\\CUSTIME sentences\\after_crop\\sent_55.mp4.\n",
      "Moviepy - Writing video C:\\Users\\hagar\\OneDrive - mail.tau.ac.il\\Desktop\\CUSTIME videos\\CUSTIME sentences\\after_crop\\sent_55.mp4\n",
      "\n"
     ]
    },
    {
     "name": "stderr",
     "output_type": "stream",
     "text": [
      "                                                              \r"
     ]
    },
    {
     "name": "stdout",
     "output_type": "stream",
     "text": [
      "Moviepy - Done !\n",
      "Moviepy - video ready C:\\Users\\hagar\\OneDrive - mail.tau.ac.il\\Desktop\\CUSTIME videos\\CUSTIME sentences\\after_crop\\sent_55.mp4\n",
      "Moviepy - Building video C:\\Users\\hagar\\OneDrive - mail.tau.ac.il\\Desktop\\CUSTIME videos\\CUSTIME sentences\\after_crop\\sent_56.mp4.\n",
      "Moviepy - Writing video C:\\Users\\hagar\\OneDrive - mail.tau.ac.il\\Desktop\\CUSTIME videos\\CUSTIME sentences\\after_crop\\sent_56.mp4\n",
      "\n"
     ]
    },
    {
     "name": "stderr",
     "output_type": "stream",
     "text": [
      "                                                              \r"
     ]
    },
    {
     "name": "stdout",
     "output_type": "stream",
     "text": [
      "Moviepy - Done !\n",
      "Moviepy - video ready C:\\Users\\hagar\\OneDrive - mail.tau.ac.il\\Desktop\\CUSTIME videos\\CUSTIME sentences\\after_crop\\sent_56.mp4\n",
      "Moviepy - Building video C:\\Users\\hagar\\OneDrive - mail.tau.ac.il\\Desktop\\CUSTIME videos\\CUSTIME sentences\\after_crop\\sent_57.mp4.\n",
      "Moviepy - Writing video C:\\Users\\hagar\\OneDrive - mail.tau.ac.il\\Desktop\\CUSTIME videos\\CUSTIME sentences\\after_crop\\sent_57.mp4\n",
      "\n"
     ]
    },
    {
     "name": "stderr",
     "output_type": "stream",
     "text": [
      "                                                              \r"
     ]
    },
    {
     "name": "stdout",
     "output_type": "stream",
     "text": [
      "Moviepy - Done !\n",
      "Moviepy - video ready C:\\Users\\hagar\\OneDrive - mail.tau.ac.il\\Desktop\\CUSTIME videos\\CUSTIME sentences\\after_crop\\sent_57.mp4\n",
      "Moviepy - Building video C:\\Users\\hagar\\OneDrive - mail.tau.ac.il\\Desktop\\CUSTIME videos\\CUSTIME sentences\\after_crop\\sent_58.mp4.\n",
      "Moviepy - Writing video C:\\Users\\hagar\\OneDrive - mail.tau.ac.il\\Desktop\\CUSTIME videos\\CUSTIME sentences\\after_crop\\sent_58.mp4\n",
      "\n"
     ]
    },
    {
     "name": "stderr",
     "output_type": "stream",
     "text": [
      "                                                              \r"
     ]
    },
    {
     "name": "stdout",
     "output_type": "stream",
     "text": [
      "Moviepy - Done !\n",
      "Moviepy - video ready C:\\Users\\hagar\\OneDrive - mail.tau.ac.il\\Desktop\\CUSTIME videos\\CUSTIME sentences\\after_crop\\sent_58.mp4\n",
      "Moviepy - Building video C:\\Users\\hagar\\OneDrive - mail.tau.ac.il\\Desktop\\CUSTIME videos\\CUSTIME sentences\\after_crop\\sent_59.mp4.\n",
      "Moviepy - Writing video C:\\Users\\hagar\\OneDrive - mail.tau.ac.il\\Desktop\\CUSTIME videos\\CUSTIME sentences\\after_crop\\sent_59.mp4\n",
      "\n"
     ]
    },
    {
     "name": "stderr",
     "output_type": "stream",
     "text": [
      "                                                              \r"
     ]
    },
    {
     "name": "stdout",
     "output_type": "stream",
     "text": [
      "Moviepy - Done !\n",
      "Moviepy - video ready C:\\Users\\hagar\\OneDrive - mail.tau.ac.il\\Desktop\\CUSTIME videos\\CUSTIME sentences\\after_crop\\sent_59.mp4\n",
      "Moviepy - Building video C:\\Users\\hagar\\OneDrive - mail.tau.ac.il\\Desktop\\CUSTIME videos\\CUSTIME sentences\\after_crop\\sent_60.mp4.\n",
      "Moviepy - Writing video C:\\Users\\hagar\\OneDrive - mail.tau.ac.il\\Desktop\\CUSTIME videos\\CUSTIME sentences\\after_crop\\sent_60.mp4\n",
      "\n"
     ]
    },
    {
     "name": "stderr",
     "output_type": "stream",
     "text": [
      "                                                              \r"
     ]
    },
    {
     "name": "stdout",
     "output_type": "stream",
     "text": [
      "Moviepy - Done !\n",
      "Moviepy - video ready C:\\Users\\hagar\\OneDrive - mail.tau.ac.il\\Desktop\\CUSTIME videos\\CUSTIME sentences\\after_crop\\sent_60.mp4\n",
      "Moviepy - Building video C:\\Users\\hagar\\OneDrive - mail.tau.ac.il\\Desktop\\CUSTIME videos\\CUSTIME sentences\\after_crop\\sent_61.mp4.\n",
      "Moviepy - Writing video C:\\Users\\hagar\\OneDrive - mail.tau.ac.il\\Desktop\\CUSTIME videos\\CUSTIME sentences\\after_crop\\sent_61.mp4\n",
      "\n"
     ]
    },
    {
     "name": "stderr",
     "output_type": "stream",
     "text": [
      "                                                              \r"
     ]
    },
    {
     "name": "stdout",
     "output_type": "stream",
     "text": [
      "Moviepy - Done !\n",
      "Moviepy - video ready C:\\Users\\hagar\\OneDrive - mail.tau.ac.il\\Desktop\\CUSTIME videos\\CUSTIME sentences\\after_crop\\sent_61.mp4\n",
      "Moviepy - Building video C:\\Users\\hagar\\OneDrive - mail.tau.ac.il\\Desktop\\CUSTIME videos\\CUSTIME sentences\\after_crop\\sent_62.mp4.\n",
      "Moviepy - Writing video C:\\Users\\hagar\\OneDrive - mail.tau.ac.il\\Desktop\\CUSTIME videos\\CUSTIME sentences\\after_crop\\sent_62.mp4\n",
      "\n"
     ]
    },
    {
     "name": "stderr",
     "output_type": "stream",
     "text": [
      "                                                              \r"
     ]
    },
    {
     "name": "stdout",
     "output_type": "stream",
     "text": [
      "Moviepy - Done !\n",
      "Moviepy - video ready C:\\Users\\hagar\\OneDrive - mail.tau.ac.il\\Desktop\\CUSTIME videos\\CUSTIME sentences\\after_crop\\sent_62.mp4\n",
      "Moviepy - Building video C:\\Users\\hagar\\OneDrive - mail.tau.ac.il\\Desktop\\CUSTIME videos\\CUSTIME sentences\\after_crop\\sent_63.mp4.\n",
      "Moviepy - Writing video C:\\Users\\hagar\\OneDrive - mail.tau.ac.il\\Desktop\\CUSTIME videos\\CUSTIME sentences\\after_crop\\sent_63.mp4\n",
      "\n"
     ]
    },
    {
     "name": "stderr",
     "output_type": "stream",
     "text": [
      "                                                              \r"
     ]
    },
    {
     "name": "stdout",
     "output_type": "stream",
     "text": [
      "Moviepy - Done !\n",
      "Moviepy - video ready C:\\Users\\hagar\\OneDrive - mail.tau.ac.il\\Desktop\\CUSTIME videos\\CUSTIME sentences\\after_crop\\sent_63.mp4\n",
      "Moviepy - Building video C:\\Users\\hagar\\OneDrive - mail.tau.ac.il\\Desktop\\CUSTIME videos\\CUSTIME sentences\\after_crop\\sent_64.mp4.\n",
      "Moviepy - Writing video C:\\Users\\hagar\\OneDrive - mail.tau.ac.il\\Desktop\\CUSTIME videos\\CUSTIME sentences\\after_crop\\sent_64.mp4\n",
      "\n"
     ]
    },
    {
     "name": "stderr",
     "output_type": "stream",
     "text": [
      "                                                              \r"
     ]
    },
    {
     "name": "stdout",
     "output_type": "stream",
     "text": [
      "Moviepy - Done !\n",
      "Moviepy - video ready C:\\Users\\hagar\\OneDrive - mail.tau.ac.il\\Desktop\\CUSTIME videos\\CUSTIME sentences\\after_crop\\sent_64.mp4\n",
      "Moviepy - Building video C:\\Users\\hagar\\OneDrive - mail.tau.ac.il\\Desktop\\CUSTIME videos\\CUSTIME sentences\\after_crop\\sent_65.mp4.\n",
      "Moviepy - Writing video C:\\Users\\hagar\\OneDrive - mail.tau.ac.il\\Desktop\\CUSTIME videos\\CUSTIME sentences\\after_crop\\sent_65.mp4\n",
      "\n"
     ]
    },
    {
     "name": "stderr",
     "output_type": "stream",
     "text": [
      "                                                              \r"
     ]
    },
    {
     "name": "stdout",
     "output_type": "stream",
     "text": [
      "Moviepy - Done !\n",
      "Moviepy - video ready C:\\Users\\hagar\\OneDrive - mail.tau.ac.il\\Desktop\\CUSTIME videos\\CUSTIME sentences\\after_crop\\sent_65.mp4\n",
      "Moviepy - Building video C:\\Users\\hagar\\OneDrive - mail.tau.ac.il\\Desktop\\CUSTIME videos\\CUSTIME sentences\\after_crop\\sent_66.mp4.\n",
      "Moviepy - Writing video C:\\Users\\hagar\\OneDrive - mail.tau.ac.il\\Desktop\\CUSTIME videos\\CUSTIME sentences\\after_crop\\sent_66.mp4\n",
      "\n"
     ]
    },
    {
     "name": "stderr",
     "output_type": "stream",
     "text": [
      "                                                              \r"
     ]
    },
    {
     "name": "stdout",
     "output_type": "stream",
     "text": [
      "Moviepy - Done !\n",
      "Moviepy - video ready C:\\Users\\hagar\\OneDrive - mail.tau.ac.il\\Desktop\\CUSTIME videos\\CUSTIME sentences\\after_crop\\sent_66.mp4\n",
      "Moviepy - Building video C:\\Users\\hagar\\OneDrive - mail.tau.ac.il\\Desktop\\CUSTIME videos\\CUSTIME sentences\\after_crop\\sent_67.mp4.\n",
      "Moviepy - Writing video C:\\Users\\hagar\\OneDrive - mail.tau.ac.il\\Desktop\\CUSTIME videos\\CUSTIME sentences\\after_crop\\sent_67.mp4\n",
      "\n"
     ]
    },
    {
     "name": "stderr",
     "output_type": "stream",
     "text": [
      "                                                              \r"
     ]
    },
    {
     "name": "stdout",
     "output_type": "stream",
     "text": [
      "Moviepy - Done !\n",
      "Moviepy - video ready C:\\Users\\hagar\\OneDrive - mail.tau.ac.il\\Desktop\\CUSTIME videos\\CUSTIME sentences\\after_crop\\sent_67.mp4\n",
      "Moviepy - Building video C:\\Users\\hagar\\OneDrive - mail.tau.ac.il\\Desktop\\CUSTIME videos\\CUSTIME sentences\\after_crop\\sent_68.mp4.\n",
      "Moviepy - Writing video C:\\Users\\hagar\\OneDrive - mail.tau.ac.il\\Desktop\\CUSTIME videos\\CUSTIME sentences\\after_crop\\sent_68.mp4\n",
      "\n"
     ]
    },
    {
     "name": "stderr",
     "output_type": "stream",
     "text": [
      "                                                              \r"
     ]
    },
    {
     "name": "stdout",
     "output_type": "stream",
     "text": [
      "Moviepy - Done !\n",
      "Moviepy - video ready C:\\Users\\hagar\\OneDrive - mail.tau.ac.il\\Desktop\\CUSTIME videos\\CUSTIME sentences\\after_crop\\sent_68.mp4\n",
      "Moviepy - Building video C:\\Users\\hagar\\OneDrive - mail.tau.ac.il\\Desktop\\CUSTIME videos\\CUSTIME sentences\\after_crop\\sent_69.mp4.\n",
      "Moviepy - Writing video C:\\Users\\hagar\\OneDrive - mail.tau.ac.il\\Desktop\\CUSTIME videos\\CUSTIME sentences\\after_crop\\sent_69.mp4\n",
      "\n"
     ]
    },
    {
     "name": "stderr",
     "output_type": "stream",
     "text": [
      "                                                              \r"
     ]
    },
    {
     "name": "stdout",
     "output_type": "stream",
     "text": [
      "Moviepy - Done !\n",
      "Moviepy - video ready C:\\Users\\hagar\\OneDrive - mail.tau.ac.il\\Desktop\\CUSTIME videos\\CUSTIME sentences\\after_crop\\sent_69.mp4\n",
      "Moviepy - Building video C:\\Users\\hagar\\OneDrive - mail.tau.ac.il\\Desktop\\CUSTIME videos\\CUSTIME sentences\\after_crop\\sent_70.mp4.\n",
      "Moviepy - Writing video C:\\Users\\hagar\\OneDrive - mail.tau.ac.il\\Desktop\\CUSTIME videos\\CUSTIME sentences\\after_crop\\sent_70.mp4\n",
      "\n"
     ]
    },
    {
     "name": "stderr",
     "output_type": "stream",
     "text": [
      "                                                              \r"
     ]
    },
    {
     "name": "stdout",
     "output_type": "stream",
     "text": [
      "Moviepy - Done !\n",
      "Moviepy - video ready C:\\Users\\hagar\\OneDrive - mail.tau.ac.il\\Desktop\\CUSTIME videos\\CUSTIME sentences\\after_crop\\sent_70.mp4\n",
      "Moviepy - Building video C:\\Users\\hagar\\OneDrive - mail.tau.ac.il\\Desktop\\CUSTIME videos\\CUSTIME sentences\\after_crop\\sent_71.mp4.\n",
      "Moviepy - Writing video C:\\Users\\hagar\\OneDrive - mail.tau.ac.il\\Desktop\\CUSTIME videos\\CUSTIME sentences\\after_crop\\sent_71.mp4\n",
      "\n"
     ]
    },
    {
     "name": "stderr",
     "output_type": "stream",
     "text": [
      "                                                              \r"
     ]
    },
    {
     "name": "stdout",
     "output_type": "stream",
     "text": [
      "Moviepy - Done !\n",
      "Moviepy - video ready C:\\Users\\hagar\\OneDrive - mail.tau.ac.il\\Desktop\\CUSTIME videos\\CUSTIME sentences\\after_crop\\sent_71.mp4\n",
      "Moviepy - Building video C:\\Users\\hagar\\OneDrive - mail.tau.ac.il\\Desktop\\CUSTIME videos\\CUSTIME sentences\\after_crop\\sent_72.mp4.\n",
      "Moviepy - Writing video C:\\Users\\hagar\\OneDrive - mail.tau.ac.il\\Desktop\\CUSTIME videos\\CUSTIME sentences\\after_crop\\sent_72.mp4\n",
      "\n"
     ]
    },
    {
     "name": "stderr",
     "output_type": "stream",
     "text": [
      "                                                              \r"
     ]
    },
    {
     "name": "stdout",
     "output_type": "stream",
     "text": [
      "Moviepy - Done !\n",
      "Moviepy - video ready C:\\Users\\hagar\\OneDrive - mail.tau.ac.il\\Desktop\\CUSTIME videos\\CUSTIME sentences\\after_crop\\sent_72.mp4\n",
      "Moviepy - Building video C:\\Users\\hagar\\OneDrive - mail.tau.ac.il\\Desktop\\CUSTIME videos\\CUSTIME sentences\\after_crop\\sent_73.mp4.\n",
      "Moviepy - Writing video C:\\Users\\hagar\\OneDrive - mail.tau.ac.il\\Desktop\\CUSTIME videos\\CUSTIME sentences\\after_crop\\sent_73.mp4\n",
      "\n"
     ]
    },
    {
     "name": "stderr",
     "output_type": "stream",
     "text": [
      "                                                              \r"
     ]
    },
    {
     "name": "stdout",
     "output_type": "stream",
     "text": [
      "Moviepy - Done !\n",
      "Moviepy - video ready C:\\Users\\hagar\\OneDrive - mail.tau.ac.il\\Desktop\\CUSTIME videos\\CUSTIME sentences\\after_crop\\sent_73.mp4\n",
      "Moviepy - Building video C:\\Users\\hagar\\OneDrive - mail.tau.ac.il\\Desktop\\CUSTIME videos\\CUSTIME sentences\\after_crop\\sent_74.mp4.\n",
      "Moviepy - Writing video C:\\Users\\hagar\\OneDrive - mail.tau.ac.il\\Desktop\\CUSTIME videos\\CUSTIME sentences\\after_crop\\sent_74.mp4\n",
      "\n"
     ]
    },
    {
     "name": "stderr",
     "output_type": "stream",
     "text": [
      "                                                              \r"
     ]
    },
    {
     "name": "stdout",
     "output_type": "stream",
     "text": [
      "Moviepy - Done !\n",
      "Moviepy - video ready C:\\Users\\hagar\\OneDrive - mail.tau.ac.il\\Desktop\\CUSTIME videos\\CUSTIME sentences\\after_crop\\sent_74.mp4\n",
      "Moviepy - Building video C:\\Users\\hagar\\OneDrive - mail.tau.ac.il\\Desktop\\CUSTIME videos\\CUSTIME sentences\\after_crop\\sent_75.mp4.\n",
      "Moviepy - Writing video C:\\Users\\hagar\\OneDrive - mail.tau.ac.il\\Desktop\\CUSTIME videos\\CUSTIME sentences\\after_crop\\sent_75.mp4\n",
      "\n"
     ]
    },
    {
     "name": "stderr",
     "output_type": "stream",
     "text": [
      "                                                              \r"
     ]
    },
    {
     "name": "stdout",
     "output_type": "stream",
     "text": [
      "Moviepy - Done !\n",
      "Moviepy - video ready C:\\Users\\hagar\\OneDrive - mail.tau.ac.il\\Desktop\\CUSTIME videos\\CUSTIME sentences\\after_crop\\sent_75.mp4\n",
      "Moviepy - Building video C:\\Users\\hagar\\OneDrive - mail.tau.ac.il\\Desktop\\CUSTIME videos\\CUSTIME sentences\\after_crop\\sent_76.mp4.\n",
      "Moviepy - Writing video C:\\Users\\hagar\\OneDrive - mail.tau.ac.il\\Desktop\\CUSTIME videos\\CUSTIME sentences\\after_crop\\sent_76.mp4\n",
      "\n"
     ]
    },
    {
     "name": "stderr",
     "output_type": "stream",
     "text": [
      "                                                              \r"
     ]
    },
    {
     "name": "stdout",
     "output_type": "stream",
     "text": [
      "Moviepy - Done !\n",
      "Moviepy - video ready C:\\Users\\hagar\\OneDrive - mail.tau.ac.il\\Desktop\\CUSTIME videos\\CUSTIME sentences\\after_crop\\sent_76.mp4\n",
      "Moviepy - Building video C:\\Users\\hagar\\OneDrive - mail.tau.ac.il\\Desktop\\CUSTIME videos\\CUSTIME sentences\\after_crop\\sent_77.mp4.\n",
      "Moviepy - Writing video C:\\Users\\hagar\\OneDrive - mail.tau.ac.il\\Desktop\\CUSTIME videos\\CUSTIME sentences\\after_crop\\sent_77.mp4\n",
      "\n"
     ]
    },
    {
     "name": "stderr",
     "output_type": "stream",
     "text": [
      "                                                              \r"
     ]
    },
    {
     "name": "stdout",
     "output_type": "stream",
     "text": [
      "Moviepy - Done !\n",
      "Moviepy - video ready C:\\Users\\hagar\\OneDrive - mail.tau.ac.il\\Desktop\\CUSTIME videos\\CUSTIME sentences\\after_crop\\sent_77.mp4\n",
      "Moviepy - Building video C:\\Users\\hagar\\OneDrive - mail.tau.ac.il\\Desktop\\CUSTIME videos\\CUSTIME sentences\\after_crop\\sent_78.mp4.\n",
      "Moviepy - Writing video C:\\Users\\hagar\\OneDrive - mail.tau.ac.il\\Desktop\\CUSTIME videos\\CUSTIME sentences\\after_crop\\sent_78.mp4\n",
      "\n"
     ]
    },
    {
     "name": "stderr",
     "output_type": "stream",
     "text": [
      "                                                              \r"
     ]
    },
    {
     "name": "stdout",
     "output_type": "stream",
     "text": [
      "Moviepy - Done !\n",
      "Moviepy - video ready C:\\Users\\hagar\\OneDrive - mail.tau.ac.il\\Desktop\\CUSTIME videos\\CUSTIME sentences\\after_crop\\sent_78.mp4\n",
      "Moviepy - Building video C:\\Users\\hagar\\OneDrive - mail.tau.ac.il\\Desktop\\CUSTIME videos\\CUSTIME sentences\\after_crop\\sent_79.mp4.\n",
      "Moviepy - Writing video C:\\Users\\hagar\\OneDrive - mail.tau.ac.il\\Desktop\\CUSTIME videos\\CUSTIME sentences\\after_crop\\sent_79.mp4\n",
      "\n"
     ]
    },
    {
     "name": "stderr",
     "output_type": "stream",
     "text": [
      "                                                              \r"
     ]
    },
    {
     "name": "stdout",
     "output_type": "stream",
     "text": [
      "Moviepy - Done !\n",
      "Moviepy - video ready C:\\Users\\hagar\\OneDrive - mail.tau.ac.il\\Desktop\\CUSTIME videos\\CUSTIME sentences\\after_crop\\sent_79.mp4\n",
      "Moviepy - Building video C:\\Users\\hagar\\OneDrive - mail.tau.ac.il\\Desktop\\CUSTIME videos\\CUSTIME sentences\\after_crop\\sent_80.mp4.\n",
      "Moviepy - Writing video C:\\Users\\hagar\\OneDrive - mail.tau.ac.il\\Desktop\\CUSTIME videos\\CUSTIME sentences\\after_crop\\sent_80.mp4\n",
      "\n"
     ]
    },
    {
     "name": "stderr",
     "output_type": "stream",
     "text": [
      "                                                              \r"
     ]
    },
    {
     "name": "stdout",
     "output_type": "stream",
     "text": [
      "Moviepy - Done !\n",
      "Moviepy - video ready C:\\Users\\hagar\\OneDrive - mail.tau.ac.il\\Desktop\\CUSTIME videos\\CUSTIME sentences\\after_crop\\sent_80.mp4\n",
      "Moviepy - Building video C:\\Users\\hagar\\OneDrive - mail.tau.ac.il\\Desktop\\CUSTIME videos\\CUSTIME sentences\\after_crop\\sent_81.mp4.\n",
      "Moviepy - Writing video C:\\Users\\hagar\\OneDrive - mail.tau.ac.il\\Desktop\\CUSTIME videos\\CUSTIME sentences\\after_crop\\sent_81.mp4\n",
      "\n"
     ]
    },
    {
     "name": "stderr",
     "output_type": "stream",
     "text": [
      "                                                              \r"
     ]
    },
    {
     "name": "stdout",
     "output_type": "stream",
     "text": [
      "Moviepy - Done !\n",
      "Moviepy - video ready C:\\Users\\hagar\\OneDrive - mail.tau.ac.il\\Desktop\\CUSTIME videos\\CUSTIME sentences\\after_crop\\sent_81.mp4\n",
      "Moviepy - Building video C:\\Users\\hagar\\OneDrive - mail.tau.ac.il\\Desktop\\CUSTIME videos\\CUSTIME sentences\\after_crop\\sent_82.mp4.\n",
      "Moviepy - Writing video C:\\Users\\hagar\\OneDrive - mail.tau.ac.il\\Desktop\\CUSTIME videos\\CUSTIME sentences\\after_crop\\sent_82.mp4\n",
      "\n"
     ]
    },
    {
     "name": "stderr",
     "output_type": "stream",
     "text": [
      "                                                                 \r"
     ]
    },
    {
     "name": "stdout",
     "output_type": "stream",
     "text": [
      "Moviepy - Done !\n",
      "Moviepy - video ready C:\\Users\\hagar\\OneDrive - mail.tau.ac.il\\Desktop\\CUSTIME videos\\CUSTIME sentences\\after_crop\\sent_82.mp4\n",
      "Moviepy - Building video C:\\Users\\hagar\\OneDrive - mail.tau.ac.il\\Desktop\\CUSTIME videos\\CUSTIME sentences\\after_crop\\sent_83.mp4.\n",
      "Moviepy - Writing video C:\\Users\\hagar\\OneDrive - mail.tau.ac.il\\Desktop\\CUSTIME videos\\CUSTIME sentences\\after_crop\\sent_83.mp4\n",
      "\n"
     ]
    },
    {
     "name": "stderr",
     "output_type": "stream",
     "text": [
      "                                                              \r"
     ]
    },
    {
     "name": "stdout",
     "output_type": "stream",
     "text": [
      "Moviepy - Done !\n",
      "Moviepy - video ready C:\\Users\\hagar\\OneDrive - mail.tau.ac.il\\Desktop\\CUSTIME videos\\CUSTIME sentences\\after_crop\\sent_83.mp4\n",
      "Moviepy - Building video C:\\Users\\hagar\\OneDrive - mail.tau.ac.il\\Desktop\\CUSTIME videos\\CUSTIME sentences\\after_crop\\sent_84.mp4.\n",
      "Moviepy - Writing video C:\\Users\\hagar\\OneDrive - mail.tau.ac.il\\Desktop\\CUSTIME videos\\CUSTIME sentences\\after_crop\\sent_84.mp4\n",
      "\n"
     ]
    },
    {
     "name": "stderr",
     "output_type": "stream",
     "text": [
      "                                                              \r"
     ]
    },
    {
     "name": "stdout",
     "output_type": "stream",
     "text": [
      "Moviepy - Done !\n",
      "Moviepy - video ready C:\\Users\\hagar\\OneDrive - mail.tau.ac.il\\Desktop\\CUSTIME videos\\CUSTIME sentences\\after_crop\\sent_84.mp4\n",
      "Moviepy - Building video C:\\Users\\hagar\\OneDrive - mail.tau.ac.il\\Desktop\\CUSTIME videos\\CUSTIME sentences\\after_crop\\sent_85.mp4.\n",
      "Moviepy - Writing video C:\\Users\\hagar\\OneDrive - mail.tau.ac.il\\Desktop\\CUSTIME videos\\CUSTIME sentences\\after_crop\\sent_85.mp4\n",
      "\n"
     ]
    },
    {
     "name": "stderr",
     "output_type": "stream",
     "text": [
      "                                                              \r"
     ]
    },
    {
     "name": "stdout",
     "output_type": "stream",
     "text": [
      "Moviepy - Done !\n",
      "Moviepy - video ready C:\\Users\\hagar\\OneDrive - mail.tau.ac.il\\Desktop\\CUSTIME videos\\CUSTIME sentences\\after_crop\\sent_85.mp4\n",
      "Moviepy - Building video C:\\Users\\hagar\\OneDrive - mail.tau.ac.il\\Desktop\\CUSTIME videos\\CUSTIME sentences\\after_crop\\sent_86.mp4.\n",
      "Moviepy - Writing video C:\\Users\\hagar\\OneDrive - mail.tau.ac.il\\Desktop\\CUSTIME videos\\CUSTIME sentences\\after_crop\\sent_86.mp4\n",
      "\n"
     ]
    },
    {
     "name": "stderr",
     "output_type": "stream",
     "text": [
      "                                                              \r"
     ]
    },
    {
     "name": "stdout",
     "output_type": "stream",
     "text": [
      "Moviepy - Done !\n",
      "Moviepy - video ready C:\\Users\\hagar\\OneDrive - mail.tau.ac.il\\Desktop\\CUSTIME videos\\CUSTIME sentences\\after_crop\\sent_86.mp4\n",
      "Moviepy - Building video C:\\Users\\hagar\\OneDrive - mail.tau.ac.il\\Desktop\\CUSTIME videos\\CUSTIME sentences\\after_crop\\sent_87.mp4.\n",
      "Moviepy - Writing video C:\\Users\\hagar\\OneDrive - mail.tau.ac.il\\Desktop\\CUSTIME videos\\CUSTIME sentences\\after_crop\\sent_87.mp4\n",
      "\n"
     ]
    },
    {
     "name": "stderr",
     "output_type": "stream",
     "text": [
      "                                                              \r"
     ]
    },
    {
     "name": "stdout",
     "output_type": "stream",
     "text": [
      "Moviepy - Done !\n",
      "Moviepy - video ready C:\\Users\\hagar\\OneDrive - mail.tau.ac.il\\Desktop\\CUSTIME videos\\CUSTIME sentences\\after_crop\\sent_87.mp4\n",
      "Moviepy - Building video C:\\Users\\hagar\\OneDrive - mail.tau.ac.il\\Desktop\\CUSTIME videos\\CUSTIME sentences\\after_crop\\sent_88.mp4.\n",
      "Moviepy - Writing video C:\\Users\\hagar\\OneDrive - mail.tau.ac.il\\Desktop\\CUSTIME videos\\CUSTIME sentences\\after_crop\\sent_88.mp4\n",
      "\n"
     ]
    },
    {
     "name": "stderr",
     "output_type": "stream",
     "text": [
      "                                                              \r"
     ]
    },
    {
     "name": "stdout",
     "output_type": "stream",
     "text": [
      "Moviepy - Done !\n",
      "Moviepy - video ready C:\\Users\\hagar\\OneDrive - mail.tau.ac.il\\Desktop\\CUSTIME videos\\CUSTIME sentences\\after_crop\\sent_88.mp4\n",
      "Moviepy - Building video C:\\Users\\hagar\\OneDrive - mail.tau.ac.il\\Desktop\\CUSTIME videos\\CUSTIME sentences\\after_crop\\sent_89.mp4.\n",
      "Moviepy - Writing video C:\\Users\\hagar\\OneDrive - mail.tau.ac.il\\Desktop\\CUSTIME videos\\CUSTIME sentences\\after_crop\\sent_89.mp4\n",
      "\n"
     ]
    },
    {
     "name": "stderr",
     "output_type": "stream",
     "text": [
      "                                                              \r"
     ]
    },
    {
     "name": "stdout",
     "output_type": "stream",
     "text": [
      "Moviepy - Done !\n",
      "Moviepy - video ready C:\\Users\\hagar\\OneDrive - mail.tau.ac.il\\Desktop\\CUSTIME videos\\CUSTIME sentences\\after_crop\\sent_89.mp4\n",
      "Moviepy - Building video C:\\Users\\hagar\\OneDrive - mail.tau.ac.il\\Desktop\\CUSTIME videos\\CUSTIME sentences\\after_crop\\sent_90.mp4.\n",
      "Moviepy - Writing video C:\\Users\\hagar\\OneDrive - mail.tau.ac.il\\Desktop\\CUSTIME videos\\CUSTIME sentences\\after_crop\\sent_90.mp4\n",
      "\n"
     ]
    },
    {
     "name": "stderr",
     "output_type": "stream",
     "text": [
      "                                                              \r"
     ]
    },
    {
     "name": "stdout",
     "output_type": "stream",
     "text": [
      "Moviepy - Done !\n",
      "Moviepy - video ready C:\\Users\\hagar\\OneDrive - mail.tau.ac.il\\Desktop\\CUSTIME videos\\CUSTIME sentences\\after_crop\\sent_90.mp4\n",
      "Moviepy - Building video C:\\Users\\hagar\\OneDrive - mail.tau.ac.il\\Desktop\\CUSTIME videos\\CUSTIME sentences\\after_crop\\sent_91.mp4.\n",
      "Moviepy - Writing video C:\\Users\\hagar\\OneDrive - mail.tau.ac.il\\Desktop\\CUSTIME videos\\CUSTIME sentences\\after_crop\\sent_91.mp4\n",
      "\n"
     ]
    },
    {
     "name": "stderr",
     "output_type": "stream",
     "text": [
      "                                                              \r"
     ]
    },
    {
     "name": "stdout",
     "output_type": "stream",
     "text": [
      "Moviepy - Done !\n",
      "Moviepy - video ready C:\\Users\\hagar\\OneDrive - mail.tau.ac.il\\Desktop\\CUSTIME videos\\CUSTIME sentences\\after_crop\\sent_91.mp4\n",
      "Moviepy - Building video C:\\Users\\hagar\\OneDrive - mail.tau.ac.il\\Desktop\\CUSTIME videos\\CUSTIME sentences\\after_crop\\sent_92.mp4.\n",
      "Moviepy - Writing video C:\\Users\\hagar\\OneDrive - mail.tau.ac.il\\Desktop\\CUSTIME videos\\CUSTIME sentences\\after_crop\\sent_92.mp4\n",
      "\n"
     ]
    },
    {
     "name": "stderr",
     "output_type": "stream",
     "text": [
      "                                                              \r"
     ]
    },
    {
     "name": "stdout",
     "output_type": "stream",
     "text": [
      "Moviepy - Done !\n",
      "Moviepy - video ready C:\\Users\\hagar\\OneDrive - mail.tau.ac.il\\Desktop\\CUSTIME videos\\CUSTIME sentences\\after_crop\\sent_92.mp4\n",
      "Moviepy - Building video C:\\Users\\hagar\\OneDrive - mail.tau.ac.il\\Desktop\\CUSTIME videos\\CUSTIME sentences\\after_crop\\sent_93.mp4.\n",
      "Moviepy - Writing video C:\\Users\\hagar\\OneDrive - mail.tau.ac.il\\Desktop\\CUSTIME videos\\CUSTIME sentences\\after_crop\\sent_93.mp4\n",
      "\n"
     ]
    },
    {
     "name": "stderr",
     "output_type": "stream",
     "text": [
      "                                                              \r"
     ]
    },
    {
     "name": "stdout",
     "output_type": "stream",
     "text": [
      "Moviepy - Done !\n",
      "Moviepy - video ready C:\\Users\\hagar\\OneDrive - mail.tau.ac.il\\Desktop\\CUSTIME videos\\CUSTIME sentences\\after_crop\\sent_93.mp4\n",
      "Moviepy - Building video C:\\Users\\hagar\\OneDrive - mail.tau.ac.il\\Desktop\\CUSTIME videos\\CUSTIME sentences\\after_crop\\sent_94.mp4.\n",
      "Moviepy - Writing video C:\\Users\\hagar\\OneDrive - mail.tau.ac.il\\Desktop\\CUSTIME videos\\CUSTIME sentences\\after_crop\\sent_94.mp4\n",
      "\n"
     ]
    },
    {
     "name": "stderr",
     "output_type": "stream",
     "text": [
      "                                                              \r"
     ]
    },
    {
     "name": "stdout",
     "output_type": "stream",
     "text": [
      "Moviepy - Done !\n",
      "Moviepy - video ready C:\\Users\\hagar\\OneDrive - mail.tau.ac.il\\Desktop\\CUSTIME videos\\CUSTIME sentences\\after_crop\\sent_94.mp4\n",
      "Moviepy - Building video C:\\Users\\hagar\\OneDrive - mail.tau.ac.il\\Desktop\\CUSTIME videos\\CUSTIME sentences\\after_crop\\sent_95.mp4.\n",
      "Moviepy - Writing video C:\\Users\\hagar\\OneDrive - mail.tau.ac.il\\Desktop\\CUSTIME videos\\CUSTIME sentences\\after_crop\\sent_95.mp4\n",
      "\n"
     ]
    },
    {
     "name": "stderr",
     "output_type": "stream",
     "text": [
      "                                                              \r"
     ]
    },
    {
     "name": "stdout",
     "output_type": "stream",
     "text": [
      "Moviepy - Done !\n",
      "Moviepy - video ready C:\\Users\\hagar\\OneDrive - mail.tau.ac.il\\Desktop\\CUSTIME videos\\CUSTIME sentences\\after_crop\\sent_95.mp4\n",
      "Moviepy - Building video C:\\Users\\hagar\\OneDrive - mail.tau.ac.il\\Desktop\\CUSTIME videos\\CUSTIME sentences\\after_crop\\sent_96.mp4.\n",
      "Moviepy - Writing video C:\\Users\\hagar\\OneDrive - mail.tau.ac.il\\Desktop\\CUSTIME videos\\CUSTIME sentences\\after_crop\\sent_96.mp4\n",
      "\n"
     ]
    },
    {
     "name": "stderr",
     "output_type": "stream",
     "text": [
      "                                                              \r"
     ]
    },
    {
     "name": "stdout",
     "output_type": "stream",
     "text": [
      "Moviepy - Done !\n",
      "Moviepy - video ready C:\\Users\\hagar\\OneDrive - mail.tau.ac.il\\Desktop\\CUSTIME videos\\CUSTIME sentences\\after_crop\\sent_96.mp4\n",
      "Moviepy - Building video C:\\Users\\hagar\\OneDrive - mail.tau.ac.il\\Desktop\\CUSTIME videos\\CUSTIME sentences\\after_crop\\sent_97.mp4.\n",
      "Moviepy - Writing video C:\\Users\\hagar\\OneDrive - mail.tau.ac.il\\Desktop\\CUSTIME videos\\CUSTIME sentences\\after_crop\\sent_97.mp4\n",
      "\n"
     ]
    },
    {
     "name": "stderr",
     "output_type": "stream",
     "text": [
      "                                                              \r"
     ]
    },
    {
     "name": "stdout",
     "output_type": "stream",
     "text": [
      "Moviepy - Done !\n",
      "Moviepy - video ready C:\\Users\\hagar\\OneDrive - mail.tau.ac.il\\Desktop\\CUSTIME videos\\CUSTIME sentences\\after_crop\\sent_97.mp4\n",
      "Moviepy - Building video C:\\Users\\hagar\\OneDrive - mail.tau.ac.il\\Desktop\\CUSTIME videos\\CUSTIME sentences\\after_crop\\sent_98.mp4.\n",
      "Moviepy - Writing video C:\\Users\\hagar\\OneDrive - mail.tau.ac.il\\Desktop\\CUSTIME videos\\CUSTIME sentences\\after_crop\\sent_98.mp4\n",
      "\n"
     ]
    },
    {
     "name": "stderr",
     "output_type": "stream",
     "text": [
      "                                                              \r"
     ]
    },
    {
     "name": "stdout",
     "output_type": "stream",
     "text": [
      "Moviepy - Done !\n",
      "Moviepy - video ready C:\\Users\\hagar\\OneDrive - mail.tau.ac.il\\Desktop\\CUSTIME videos\\CUSTIME sentences\\after_crop\\sent_98.mp4\n",
      "Moviepy - Building video C:\\Users\\hagar\\OneDrive - mail.tau.ac.il\\Desktop\\CUSTIME videos\\CUSTIME sentences\\after_crop\\sent_99.mp4.\n",
      "Moviepy - Writing video C:\\Users\\hagar\\OneDrive - mail.tau.ac.il\\Desktop\\CUSTIME videos\\CUSTIME sentences\\after_crop\\sent_99.mp4\n",
      "\n"
     ]
    },
    {
     "name": "stderr",
     "output_type": "stream",
     "text": [
      "                                                              \r"
     ]
    },
    {
     "name": "stdout",
     "output_type": "stream",
     "text": [
      "Moviepy - Done !\n",
      "Moviepy - video ready C:\\Users\\hagar\\OneDrive - mail.tau.ac.il\\Desktop\\CUSTIME videos\\CUSTIME sentences\\after_crop\\sent_99.mp4\n"
     ]
    }
   ],
   "source": [
    "#adjust all the videos in the file\n",
    "import glob\n",
    "import pandas as pd\n",
    "\n",
    "duration_dic = {} \n",
    "\n",
    "for f in glob.glob(f'{src}\\*.mp4'):\n",
    "    time = adjust_video(f, dst)\n",
    "    duration_dic[os.path.basename(f)] = time\n",
    "\n",
    "df = pd.DataFrame(data=duration_dic, index=['duration'])\n",
    "df = df.T\n",
    "df.to_csv(r'C:\\Users\\hagar\\OneDrive - mail.tau.ac.il\\Desktop\\CUSTIME videos\\CUSTIME sentences\\sentences_duration.csv')\n",
    "    "
   ]
  },
  {
   "cell_type": "code",
   "execution_count": 29,
   "id": "69c0fd1b",
   "metadata": {},
   "outputs": [],
   "source": [
    "#writing the duration of the videos to a csv file without manipulating the videos\n",
    "import glob\n",
    "import pandas as pd\n",
    "\n",
    "duration_dic = {} \n",
    "\n",
    "for f in glob.glob(f'{src}\\*.mp4'):\n",
    "    time = dur(f)\n",
    "    duration_dic[os.path.basename(f)] = time\n",
    "\n",
    "df = pd.DataFrame(data=duration_dic, index=['duration'])\n",
    "df = df.T\n",
    "df.to_csv(r'C:\\Users\\hagar\\OneDrive - mail.tau.ac.il\\Desktop\\CUSTIME videos\\vid_duration.csv')"
   ]
  },
  {
   "cell_type": "code",
   "execution_count": 92,
   "id": "032199ae",
   "metadata": {},
   "outputs": [
    {
     "name": "stderr",
     "output_type": "stream",
     "text": [
      "t:  14%|█▍        | 28/203 [00:17<01:32,  1.89it/s, now=None]"
     ]
    },
    {
     "name": "stdout",
     "output_type": "stream",
     "text": [
      "Moviepy - Building video sample3.mp4.\n",
      "Moviepy - Writing video sample3.mp4\n",
      "\n"
     ]
    },
    {
     "name": "stderr",
     "output_type": "stream",
     "text": [
      "\n",
      "t:   0%|          | 0/203 [00:00<?, ?it/s, now=None]\u001b[A\n",
      "t:   1%|          | 2/203 [00:00<00:54,  3.67it/s, now=None]\u001b[A\n",
      "t:   1%|▏         | 3/203 [00:01<01:10,  2.82it/s, now=None]\u001b[A\n",
      "t:   2%|▏         | 4/203 [00:01<01:22,  2.40it/s, now=None]\u001b[A\n",
      "t:   2%|▏         | 5/203 [00:02<01:29,  2.22it/s, now=None]\u001b[A\n",
      "t:   3%|▎         | 6/203 [00:02<01:32,  2.13it/s, now=None]\u001b[A\n",
      "t:   3%|▎         | 7/203 [00:03<01:37,  2.00it/s, now=None]\u001b[A\n",
      "t:   4%|▍         | 8/203 [00:03<01:41,  1.91it/s, now=None]\u001b[A\n",
      "t:   4%|▍         | 9/203 [00:04<01:41,  1.92it/s, now=None]\u001b[A\n",
      "t:   5%|▍         | 10/203 [00:04<01:38,  1.96it/s, now=None]\u001b[A\n",
      "t:   5%|▌         | 11/203 [00:05<01:38,  1.95it/s, now=None]\u001b[A\n",
      "t:   6%|▌         | 12/203 [00:05<01:38,  1.95it/s, now=None]\u001b[A\n",
      "t:   6%|▋         | 13/203 [00:06<01:38,  1.93it/s, now=None]\u001b[A\n",
      "t:   7%|▋         | 14/203 [00:06<01:37,  1.93it/s, now=None]\u001b[A\n",
      "t:   7%|▋         | 15/203 [00:07<01:36,  1.94it/s, now=None]\u001b[A\n",
      "t:   8%|▊         | 16/203 [00:07<01:34,  1.98it/s, now=None]\u001b[A\n",
      "t:   8%|▊         | 17/203 [00:08<01:39,  1.86it/s, now=None]\u001b[A\n",
      "t:   9%|▉         | 18/203 [00:09<01:44,  1.77it/s, now=None]\u001b[A\n",
      "t:   9%|▉         | 19/203 [00:09<01:46,  1.73it/s, now=None]\u001b[A\n",
      "t:  10%|▉         | 20/203 [00:10<01:41,  1.81it/s, now=None]\u001b[A\n",
      "t:  10%|█         | 21/203 [00:10<01:35,  1.90it/s, now=None]\u001b[A\n",
      "t:  11%|█         | 22/203 [00:11<01:34,  1.91it/s, now=None]\u001b[A\n",
      "t:  11%|█▏        | 23/203 [00:11<01:38,  1.82it/s, now=None]\u001b[A\n",
      "t:  12%|█▏        | 24/203 [00:12<01:37,  1.84it/s, now=None]\u001b[A\n",
      "t:  12%|█▏        | 25/203 [00:12<01:43,  1.73it/s, now=None]\u001b[A\n",
      "t:  13%|█▎        | 26/203 [00:13<01:44,  1.69it/s, now=None]\u001b[A\n",
      "t:  13%|█▎        | 27/203 [00:13<01:38,  1.79it/s, now=None]\u001b[A\n",
      "t:  14%|█▍        | 28/203 [00:14<01:33,  1.87it/s, now=None]\u001b[A\n",
      "t:  14%|█▍        | 29/203 [00:15<01:32,  1.87it/s, now=None]\u001b[A\n",
      "t:  15%|█▍        | 30/203 [00:15<01:30,  1.92it/s, now=None]\u001b[A\n",
      "t:  15%|█▌        | 31/203 [00:16<01:30,  1.91it/s, now=None]\u001b[A\n",
      "t:  16%|█▌        | 32/203 [00:16<01:28,  1.94it/s, now=None]\u001b[A\n",
      "t:  16%|█▋        | 33/203 [00:17<01:26,  1.96it/s, now=None]\u001b[A\n",
      "t:  17%|█▋        | 34/203 [00:17<01:26,  1.96it/s, now=None]\u001b[A\n",
      "t:  17%|█▋        | 35/203 [00:18<01:29,  1.87it/s, now=None]\u001b[A\n",
      "t:  18%|█▊        | 36/203 [00:18<01:25,  1.94it/s, now=None]\u001b[A\n",
      "t:  18%|█▊        | 37/203 [00:19<01:25,  1.94it/s, now=None]\u001b[A\n",
      "t:  19%|█▊        | 38/203 [00:19<01:23,  1.98it/s, now=None]\u001b[A\n",
      "t:  19%|█▉        | 39/203 [00:20<01:22,  2.00it/s, now=None]\u001b[A\n",
      "t:  20%|█▉        | 40/203 [00:20<01:23,  1.96it/s, now=None]\u001b[A\n",
      "t:  20%|██        | 41/203 [00:21<01:23,  1.94it/s, now=None]\u001b[A\n",
      "t:  21%|██        | 42/203 [00:21<01:26,  1.87it/s, now=None]\u001b[A\n",
      "t:  21%|██        | 43/203 [00:22<01:22,  1.95it/s, now=None]\u001b[A\n",
      "t:  22%|██▏       | 44/203 [00:22<01:20,  1.99it/s, now=None]\u001b[A\n",
      "t:  22%|██▏       | 45/203 [00:23<01:19,  1.98it/s, now=None]\u001b[A\n",
      "t:  23%|██▎       | 46/203 [00:23<01:24,  1.86it/s, now=None]\u001b[A\n",
      "t:  23%|██▎       | 47/203 [00:24<01:22,  1.88it/s, now=None]\u001b[A\n",
      "t:  24%|██▎       | 48/203 [00:24<01:26,  1.78it/s, now=None]\u001b[A\n",
      "t:  24%|██▍       | 49/203 [00:25<01:24,  1.82it/s, now=None]\u001b[A\n",
      "t:  25%|██▍       | 50/203 [00:26<01:24,  1.82it/s, now=None]\u001b[A\n",
      "t:  25%|██▌       | 51/203 [00:26<01:26,  1.76it/s, now=None]\u001b[A\n",
      "t:  26%|██▌       | 52/203 [00:27<01:26,  1.75it/s, now=None]\u001b[A\n",
      "t:  26%|██▌       | 53/203 [00:27<01:23,  1.79it/s, now=None]\u001b[A\n",
      "t:  27%|██▋       | 54/203 [00:28<01:19,  1.87it/s, now=None]\u001b[A\n",
      "t:  27%|██▋       | 55/203 [00:28<01:18,  1.90it/s, now=None]\u001b[A\n",
      "t:  28%|██▊       | 56/203 [00:29<01:14,  1.96it/s, now=None]\u001b[A\n",
      "t:  28%|██▊       | 57/203 [00:29<01:12,  2.01it/s, now=None]\u001b[A\n",
      "t:  29%|██▊       | 58/203 [00:30<01:17,  1.87it/s, now=None]\u001b[A\n",
      "t:  29%|██▉       | 59/203 [00:30<01:16,  1.89it/s, now=None]\u001b[A\n",
      "t:  30%|██▉       | 60/203 [00:31<01:17,  1.84it/s, now=None]\u001b[A\n",
      "t:  30%|███       | 61/203 [00:31<01:15,  1.89it/s, now=None]\u001b[A\n",
      "t:  31%|███       | 62/203 [00:32<01:12,  1.93it/s, now=None]\u001b[A\n",
      "t:  31%|███       | 63/203 [00:32<01:13,  1.91it/s, now=None]\u001b[A\n",
      "t:  32%|███▏      | 64/203 [00:33<01:11,  1.95it/s, now=None]\u001b[A\n",
      "t:  32%|███▏      | 65/203 [00:33<01:13,  1.88it/s, now=None]\u001b[A\n",
      "t:  33%|███▎      | 66/203 [00:34<01:11,  1.92it/s, now=None]\u001b[A\n",
      "t:  33%|███▎      | 67/203 [00:34<01:10,  1.92it/s, now=None]\u001b[A\n",
      "t:  33%|███▎      | 68/203 [00:35<01:08,  1.98it/s, now=None]\u001b[A\n",
      "t:  34%|███▍      | 69/203 [00:35<01:08,  1.96it/s, now=None]\u001b[A\n",
      "t:  34%|███▍      | 70/203 [00:36<01:07,  1.97it/s, now=None]\u001b[A\n",
      "t:  35%|███▍      | 71/203 [00:36<01:06,  2.00it/s, now=None]\u001b[A\n",
      "t:  35%|███▌      | 72/203 [00:37<01:06,  1.97it/s, now=None]\u001b[A\n",
      "t:  36%|███▌      | 73/203 [00:37<01:04,  2.00it/s, now=None]\u001b[A\n",
      "t:  36%|███▋      | 74/203 [00:38<01:04,  1.99it/s, now=None]\u001b[A\n",
      "t:  37%|███▋      | 75/203 [00:38<01:03,  2.01it/s, now=None]\u001b[A\n",
      "t:  37%|███▋      | 76/203 [00:39<01:05,  1.95it/s, now=None]\u001b[A\n",
      "t:  38%|███▊      | 77/203 [00:39<01:02,  2.00it/s, now=None]\u001b[A\n",
      "t:  38%|███▊      | 78/203 [00:40<01:02,  2.02it/s, now=None]\u001b[A\n",
      "t:  39%|███▉      | 79/203 [00:40<01:00,  2.04it/s, now=None]\u001b[A\n",
      "t:  39%|███▉      | 80/203 [00:41<01:01,  2.01it/s, now=None]\u001b[A\n",
      "t:  40%|███▉      | 81/203 [00:41<00:59,  2.05it/s, now=None]\u001b[A\n",
      "t:  40%|████      | 82/203 [00:42<00:58,  2.08it/s, now=None]\u001b[A\n",
      "t:  41%|████      | 83/203 [00:42<00:57,  2.09it/s, now=None]\u001b[A\n",
      "t:  41%|████▏     | 84/203 [00:43<00:57,  2.06it/s, now=None]\u001b[A\n",
      "t:  42%|████▏     | 85/203 [00:43<00:59,  1.98it/s, now=None]\u001b[A\n",
      "t:  42%|████▏     | 86/203 [00:44<00:58,  2.01it/s, now=None]\u001b[A\n",
      "t:  43%|████▎     | 87/203 [00:44<01:00,  1.92it/s, now=None]\u001b[A\n",
      "t:  43%|████▎     | 88/203 [00:45<01:04,  1.80it/s, now=None]\u001b[A\n",
      "t:  44%|████▍     | 89/203 [00:46<01:05,  1.74it/s, now=None]\u001b[A\n",
      "t:  44%|████▍     | 90/203 [00:46<01:01,  1.84it/s, now=None]\u001b[A\n",
      "t:  45%|████▍     | 91/203 [00:47<01:01,  1.81it/s, now=None]\u001b[A\n",
      "t:  45%|████▌     | 92/203 [00:47<00:59,  1.86it/s, now=None]\u001b[A\n",
      "t:  46%|████▌     | 93/203 [00:48<00:57,  1.90it/s, now=None]\u001b[A\n",
      "t:  46%|████▋     | 94/203 [00:48<00:55,  1.96it/s, now=None]\u001b[A\n",
      "t:  47%|████▋     | 95/203 [00:49<00:55,  1.94it/s, now=None]\u001b[A\n",
      "t:  47%|████▋     | 96/203 [00:49<00:53,  2.01it/s, now=None]\u001b[A\n",
      "t:  48%|████▊     | 97/203 [00:50<00:51,  2.04it/s, now=None]\u001b[A\n",
      "t:  48%|████▊     | 98/203 [00:50<00:51,  2.02it/s, now=None]\u001b[A\n",
      "t:  49%|████▉     | 99/203 [00:51<00:50,  2.06it/s, now=None]\u001b[A\n",
      "t:  49%|████▉     | 100/203 [00:51<00:50,  2.03it/s, now=None]\u001b[A\n",
      "t:  50%|████▉     | 101/203 [00:52<00:52,  1.94it/s, now=None]\u001b[A\n",
      "t:  50%|█████     | 102/203 [00:52<00:57,  1.77it/s, now=None]\u001b[A\n",
      "t:  51%|█████     | 103/203 [00:53<00:58,  1.71it/s, now=None]\u001b[A\n",
      "t:  51%|█████     | 104/203 [00:54<00:58,  1.69it/s, now=None]\u001b[A\n",
      "t:  52%|█████▏    | 105/203 [00:54<00:58,  1.68it/s, now=None]\u001b[A\n",
      "t:  52%|█████▏    | 106/203 [00:55<00:56,  1.72it/s, now=None]\u001b[A\n",
      "t:  53%|█████▎    | 107/203 [00:55<00:54,  1.75it/s, now=None]\u001b[A\n",
      "t:  53%|█████▎    | 108/203 [00:56<00:53,  1.79it/s, now=None]\u001b[A\n",
      "t:  54%|█████▎    | 109/203 [00:56<00:53,  1.75it/s, now=None]\u001b[A\n",
      "t:  54%|█████▍    | 110/203 [00:57<00:51,  1.82it/s, now=None]\u001b[A\n",
      "t:  55%|█████▍    | 111/203 [00:57<00:49,  1.86it/s, now=None]\u001b[A\n",
      "t:  55%|█████▌    | 112/203 [00:58<00:49,  1.85it/s, now=None]\u001b[A\n",
      "t:  56%|█████▌    | 113/203 [00:59<00:57,  1.57it/s, now=None]\u001b[A\n",
      "t:  56%|█████▌    | 114/203 [00:59<00:53,  1.66it/s, now=None]\u001b[A\n",
      "t:  57%|█████▋    | 115/203 [01:00<00:54,  1.61it/s, now=None]\u001b[A\n",
      "t:  57%|█████▋    | 116/203 [01:01<00:50,  1.72it/s, now=None]\u001b[A\n",
      "t:  58%|█████▊    | 117/203 [01:01<00:48,  1.77it/s, now=None]\u001b[A\n",
      "t:  58%|█████▊    | 118/203 [01:02<00:47,  1.79it/s, now=None]\u001b[A\n",
      "t:  59%|█████▊    | 119/203 [01:02<00:46,  1.79it/s, now=None]\u001b[A\n",
      "t:  59%|█████▉    | 120/203 [01:03<00:47,  1.76it/s, now=None]\u001b[A\n",
      "t:  60%|█████▉    | 121/203 [01:03<00:45,  1.81it/s, now=None]\u001b[A\n",
      "t:  60%|██████    | 122/203 [01:04<00:43,  1.88it/s, now=None]\u001b[A\n",
      "t:  61%|██████    | 123/203 [01:04<00:42,  1.86it/s, now=None]\u001b[A\n",
      "t:  61%|██████    | 124/203 [01:05<00:43,  1.81it/s, now=None]\u001b[A\n",
      "t:  62%|██████▏   | 125/203 [01:05<00:42,  1.84it/s, now=None]\u001b[A\n",
      "t:  62%|██████▏   | 126/203 [01:06<00:41,  1.86it/s, now=None]\u001b[A\n",
      "t:  63%|██████▎   | 127/203 [01:06<00:40,  1.89it/s, now=None]\u001b[A\n",
      "t:  63%|██████▎   | 128/203 [01:07<00:38,  1.94it/s, now=None]\u001b[A\n",
      "t:  64%|██████▎   | 129/203 [01:07<00:37,  1.98it/s, now=None]\u001b[A\n",
      "t:  64%|██████▍   | 130/203 [01:08<00:41,  1.75it/s, now=None]\u001b[A\n",
      "t:  65%|██████▍   | 131/203 [01:09<00:44,  1.63it/s, now=None]\u001b[A\n",
      "t:  65%|██████▌   | 132/203 [01:09<00:42,  1.66it/s, now=None]\u001b[A\n",
      "t:  66%|██████▌   | 133/203 [01:10<00:40,  1.74it/s, now=None]\u001b[A\n",
      "t:  66%|██████▌   | 134/203 [01:10<00:37,  1.82it/s, now=None]\u001b[A\n",
      "t:  67%|██████▋   | 135/203 [01:11<00:38,  1.78it/s, now=None]\u001b[A\n",
      "t:  67%|██████▋   | 136/203 [01:12<00:36,  1.83it/s, now=None]\u001b[A\n",
      "t:  67%|██████▋   | 137/203 [01:12<00:39,  1.66it/s, now=None]\u001b[A\n",
      "t:  68%|██████▊   | 138/203 [01:13<00:38,  1.71it/s, now=None]\u001b[A\n",
      "t:  68%|██████▊   | 139/203 [01:13<00:37,  1.70it/s, now=None]\u001b[A\n",
      "t:  69%|██████▉   | 140/203 [01:14<00:36,  1.72it/s, now=None]\u001b[A\n",
      "t:  69%|██████▉   | 141/203 [01:15<00:36,  1.69it/s, now=None]\u001b[A\n",
      "t:  70%|██████▉   | 142/203 [01:15<00:35,  1.72it/s, now=None]\u001b[A\n",
      "t:  70%|███████   | 143/203 [01:16<00:34,  1.73it/s, now=None]\u001b[A\n",
      "t:  71%|███████   | 144/203 [01:16<00:33,  1.76it/s, now=None]\u001b[A\n",
      "t:  71%|███████▏  | 145/203 [01:17<00:33,  1.76it/s, now=None]\u001b[A\n",
      "t:  72%|███████▏  | 146/203 [01:17<00:32,  1.75it/s, now=None]\u001b[A\n",
      "t:  72%|███████▏  | 147/203 [01:18<00:34,  1.64it/s, now=None]\u001b[A\n",
      "t:  73%|███████▎  | 148/203 [01:19<00:33,  1.66it/s, now=None]\u001b[A\n",
      "t:  73%|███████▎  | 149/203 [01:19<00:30,  1.75it/s, now=None]\u001b[A\n",
      "t:  74%|███████▍  | 150/203 [01:20<00:30,  1.72it/s, now=None]\u001b[A\n",
      "t:  74%|███████▍  | 151/203 [01:21<00:38,  1.35it/s, now=None]\u001b[A\n",
      "t:  75%|███████▍  | 152/203 [01:22<00:36,  1.41it/s, now=None]\u001b[A\n",
      "t:  75%|███████▌  | 153/203 [01:22<00:33,  1.50it/s, now=None]\u001b[A\n",
      "t:  76%|███████▌  | 154/203 [01:23<00:30,  1.60it/s, now=None]\u001b[A\n",
      "t:  76%|███████▋  | 155/203 [01:23<00:29,  1.64it/s, now=None]\u001b[A\n",
      "t:  77%|███████▋  | 156/203 [01:24<00:27,  1.71it/s, now=None]\u001b[A\n",
      "t:  77%|███████▋  | 157/203 [01:24<00:26,  1.74it/s, now=None]\u001b[A\n",
      "t:  78%|███████▊  | 158/203 [01:25<00:26,  1.70it/s, now=None]\u001b[A\n",
      "t:  78%|███████▊  | 159/203 [01:25<00:25,  1.74it/s, now=None]\u001b[A\n",
      "t:  79%|███████▉  | 160/203 [01:26<00:23,  1.81it/s, now=None]\u001b[A\n",
      "t:  79%|███████▉  | 161/203 [01:26<00:22,  1.85it/s, now=None]\u001b[A\n",
      "t:  80%|███████▉  | 162/203 [01:27<00:21,  1.88it/s, now=None]\u001b[A\n",
      "t:  80%|████████  | 163/203 [01:28<00:21,  1.88it/s, now=None]\u001b[A\n",
      "t:  81%|████████  | 164/203 [01:28<00:21,  1.84it/s, now=None]\u001b[A\n",
      "t:  81%|████████▏ | 165/203 [01:29<00:20,  1.83it/s, now=None]\u001b[A\n",
      "t:  82%|████████▏ | 166/203 [01:29<00:21,  1.71it/s, now=None]\u001b[A\n",
      "t:  82%|████████▏ | 167/203 [01:30<00:20,  1.72it/s, now=None]\u001b[A\n",
      "t:  83%|████████▎ | 168/203 [01:30<00:19,  1.75it/s, now=None]\u001b[A\n",
      "t:  83%|████████▎ | 169/203 [01:31<00:18,  1.82it/s, now=None]\u001b[A\n",
      "t:  84%|████████▎ | 170/203 [01:32<00:18,  1.75it/s, now=None]\u001b[A\n",
      "t:  84%|████████▍ | 171/203 [01:32<00:18,  1.69it/s, now=None]\u001b[A\n",
      "t:  85%|████████▍ | 172/203 [01:33<00:17,  1.74it/s, now=None]\u001b[A\n",
      "t:  85%|████████▌ | 173/203 [01:33<00:18,  1.61it/s, now=None]\u001b[A\n",
      "t:  86%|████████▌ | 174/203 [01:34<00:18,  1.57it/s, now=None]\u001b[A\n",
      "t:  86%|████████▌ | 175/203 [01:35<00:17,  1.56it/s, now=None]\u001b[A\n",
      "t:  87%|████████▋ | 176/203 [01:36<00:19,  1.42it/s, now=None]\u001b[A\n",
      "t:  87%|████████▋ | 177/203 [01:36<00:17,  1.48it/s, now=None]\u001b[A\n",
      "t:  88%|████████▊ | 178/203 [01:37<00:16,  1.53it/s, now=None]\u001b[A\n",
      "t:  88%|████████▊ | 179/203 [01:37<00:15,  1.59it/s, now=None]\u001b[A\n",
      "t:  89%|████████▊ | 180/203 [01:38<00:14,  1.61it/s, now=None]\u001b[A\n",
      "t:  89%|████████▉ | 181/203 [01:39<00:14,  1.54it/s, now=None]\u001b[A\n",
      "t:  90%|████████▉ | 182/203 [01:39<00:13,  1.53it/s, now=None]\u001b[A\n",
      "t:  90%|█████████ | 183/203 [01:40<00:12,  1.61it/s, now=None]\u001b[A\n",
      "t:  91%|█████████ | 184/203 [01:41<00:11,  1.66it/s, now=None]\u001b[A\n",
      "t:  91%|█████████ | 185/203 [01:41<00:10,  1.70it/s, now=None]\u001b[A\n",
      "t:  92%|█████████▏| 186/203 [01:42<00:09,  1.75it/s, now=None]\u001b[A\n",
      "t:  92%|█████████▏| 187/203 [01:42<00:08,  1.82it/s, now=None]\u001b[A\n",
      "t:  93%|█████████▎| 188/203 [01:43<00:08,  1.81it/s, now=None]\u001b[A\n",
      "t:  93%|█████████▎| 189/203 [01:43<00:07,  1.89it/s, now=None]\u001b[A\n",
      "t:  94%|█████████▎| 190/203 [01:44<00:06,  1.94it/s, now=None]\u001b[A\n",
      "t:  94%|█████████▍| 191/203 [01:44<00:06,  1.93it/s, now=None]\u001b[A\n",
      "t:  95%|█████████▍| 192/203 [01:45<00:05,  1.85it/s, now=None]\u001b[A\n",
      "t:  95%|█████████▌| 193/203 [01:46<00:06,  1.63it/s, now=None]\u001b[A\n",
      "t:  96%|█████████▌| 194/203 [01:46<00:05,  1.57it/s, now=None]\u001b[A\n",
      "t:  96%|█████████▌| 195/203 [01:47<00:05,  1.56it/s, now=None]\u001b[A\n",
      "t:  97%|█████████▋| 196/203 [01:47<00:04,  1.59it/s, now=None]\u001b[A\n",
      "t:  97%|█████████▋| 197/203 [01:48<00:03,  1.65it/s, now=None]\u001b[A\n",
      "t:  98%|█████████▊| 198/203 [01:49<00:02,  1.73it/s, now=None]\u001b[A\n",
      "t:  98%|█████████▊| 199/203 [01:49<00:02,  1.78it/s, now=None]\u001b[A\n",
      "t:  99%|█████████▊| 200/203 [01:50<00:01,  1.80it/s, now=None]\u001b[A\n",
      "t:  99%|█████████▉| 201/203 [01:50<00:01,  1.83it/s, now=None]\u001b[A\n",
      "t: 100%|█████████▉| 202/203 [01:51<00:00,  1.82it/s, now=None]\u001b[A\n",
      "t: 100%|██████████| 203/203 [01:51<00:00,  1.81it/s, now=None]\u001b[A\n",
      "t:  14%|█▍        | 28/203 [02:11<01:32,  1.89it/s, now=None] \u001b[A"
     ]
    },
    {
     "name": "stdout",
     "output_type": "stream",
     "text": [
      "Moviepy - Done !\n",
      "Moviepy - video ready sample3.mp4\n"
     ]
    }
   ],
   "source": [
    "# making the background black or blurry\n",
    "\n",
    "from skimage.filters import gaussian\n",
    "from moviepy.editor import VideoFileClip\n",
    "import numpy as np\n",
    "\n",
    "import mediapipe\n",
    "selfie_segmentation =  mediapipe.solutions.selfie_segmentation.SelfieSegmentation(model_selection=1)\n",
    "\n",
    "\n",
    "def blur_background(im):\n",
    "    mask = selfie_segmentation.process(im).segmentation_mask[:, :, None]\n",
    "    mask = mask > 0.8\n",
    "\n",
    "    #background = np.zeros(im.shape, dtype=np.uint8) #making the bg black\n",
    "    bg = gaussian(im.astype(float), sigma=4)\n",
    "    return mask * im + (1 - mask) * bg\n",
    "\n",
    "video_clip = VideoFileClip(r\"C:\\Users\\hagar\\OneDrive - mail.tau.ac.il\\Desktop\\CUSTIME videos\\sent_09.mp4\")\n",
    "video_clip = video_clip.fl_image( blur_background )\n",
    "video_clip.write_videofile(\"sample3.mp4\", audio=False)\n",
    "\n",
    "\n",
    "\n"
   ]
  },
  {
   "cell_type": "code",
   "execution_count": 26,
   "id": "0cbfd9b3",
   "metadata": {},
   "outputs": [
    {
     "data": {
      "text/plain": [
       "True"
      ]
     },
     "execution_count": 26,
     "metadata": {},
     "output_type": "execute_result"
    }
   ],
   "source": []
  }
 ],
 "metadata": {
  "kernelspec": {
   "display_name": "Python 3 (ipykernel)",
   "language": "python",
   "name": "python3"
  },
  "language_info": {
   "codemirror_mode": {
    "name": "ipython",
    "version": 3
   },
   "file_extension": ".py",
   "mimetype": "text/x-python",
   "name": "python",
   "nbconvert_exporter": "python",
   "pygments_lexer": "ipython3",
   "version": "3.10.4"
  }
 },
 "nbformat": 4,
 "nbformat_minor": 5
}
